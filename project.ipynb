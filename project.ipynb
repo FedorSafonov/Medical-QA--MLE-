{
 "cells": [
  {
   "cell_type": "markdown",
   "metadata": {},
   "source": [
    "# Проект: Сервис поиска похожих вопросов для медицинских форумов\n",
    "\n",
    "## Описание\n",
    "\n",
    "### Цель\n",
    "\n",
    "Целью данного проекта является разработка сервиса для поиска похожих вопросов на медицинских форумах. Сервис поможет удержать пользователей на платформе и увеличить количество просмотров страниц, что в свою очередь повысит эффективность рекламных кампаний и улучшит общие показатели форумов.\n",
    "\n",
    "### Исходные данные\n",
    "\n",
    "Для обучения и тестирования моделей используется датасет \"medical_questions_pairs\" от Hugging Face.  Датасет содержит пары вопросов на английском языке, связанных с медицинской тематикой.\n",
    "\n",
    "### Методы\n",
    "\n",
    "В проекте будут использованы следующие методы и технологии:\n",
    "\n",
    "* Обработка естественного языка (NLP) для анализа и предобработки текстовых данных.\n",
    "* Машинное обучение с использованием различных моделей NLP, таких как Bag-of-Words, TF-IDF, Word2Vec, SentenceTransformers и BERT. \n",
    "* FastAPI для создания микросервиса, предоставляющего функциональность поиска похожих вопросов.\n",
    "* Streamlit для разработки интерактивного веб-приложения для демонстрации работы сервиса.\n",
    "\n",
    "### Метрики оценки\n",
    "\n",
    "Качество матчинга вопросов будет оцениваться с использованием следующих метрик: \n",
    "\n",
    "* Accuracy@5 - `ключевая метрика`\n",
    "* MRR@K (Mean Reciprocal Rank)\n",
    "* DCG@K (Discounted Cumulative Gain)\n",
    "* AccuracyTriplet - доля правильно классифицированных триплетов"
   ]
  },
  {
   "cell_type": "markdown",
   "metadata": {},
   "source": [
    "## Импорты"
   ]
  },
  {
   "cell_type": "code",
   "execution_count": 2,
   "metadata": {},
   "outputs": [],
   "source": [
    "import time\n",
    "from collections import defaultdict\n",
    "from pickle import dump\n",
    "\n",
    "import chime\n",
    "import matplotlib.pyplot as plt\n",
    "import nltk\n",
    "import numpy as np\n",
    "import pandas as pd\n",
    "import spacy\n",
    "from datasets import load_dataset\n",
    "from gensim.models import Word2Vec\n",
    "from scipy.spatial.distance import pdist, squareform\n",
    "from sentence_transformers import (InputExample, LoggingHandler,\n",
    "                                   SentenceTransformer, losses, util)\n",
    "from skimpy import skim\n",
    "from sklearn.feature_extraction.text import CountVectorizer, TfidfVectorizer\n",
    "from sklearn.metrics import dcg_score\n",
    "from sklearn.metrics.pairwise import cosine_similarity\n",
    "from torch.utils.data import DataLoader\n",
    "from tqdm import tqdm\n",
    "\n",
    "# Настройка библиотек\n",
    "%load_ext chime\n",
    "chime.theme('mario')\n",
    "plt.style.use('dark_background')"
   ]
  },
  {
   "cell_type": "markdown",
   "metadata": {},
   "source": [
    "## Загрузка и обзор данных"
   ]
  },
  {
   "cell_type": "code",
   "execution_count": null,
   "metadata": {},
   "outputs": [],
   "source": [
    "DIR = 'data/'"
   ]
  },
  {
   "cell_type": "code",
   "execution_count": 2,
   "metadata": {},
   "outputs": [
    {
     "name": "stdout",
     "output_type": "stream",
     "text": [
      "TRAIN\n",
      "<class 'pandas.core.frame.DataFrame'>\n",
      "RangeIndex: 3048 entries, 0 to 3047\n",
      "Data columns (total 4 columns):\n",
      " #   Column      Non-Null Count  Dtype \n",
      "---  ------      --------------  ----- \n",
      " 0   dr_id       3048 non-null   int64 \n",
      " 1   question_1  3048 non-null   object\n",
      " 2   question_2  3048 non-null   object\n",
      " 3   label       3048 non-null   int64 \n",
      "dtypes: int64(2), object(2)\n",
      "memory usage: 95.4+ KB\n",
      "None\n",
      "-------------------\n",
      "\n",
      "TRAIN\n"
     ]
    },
    {
     "data": {
      "text/html": [
       "<pre style=\"white-space:pre;overflow-x:auto;line-height:normal;font-family:Menlo,'DejaVu Sans Mono',consolas,'Courier New',monospace\">╭──────────────────────────────────────────────── skimpy summary ─────────────────────────────────────────────────╮\n",
       "│ <span style=\"font-style: italic\">         Data Summary         </span> <span style=\"font-style: italic\">      Data Types       </span>                                                          │\n",
       "│ ┏━━━━━━━━━━━━━━━━━━━┳━━━━━━━━┓ ┏━━━━━━━━━━━━━┳━━━━━━━┓                                                          │\n",
       "│ ┃<span style=\"color: #008080; text-decoration-color: #008080; font-weight: bold\"> dataframe         </span>┃<span style=\"color: #008080; text-decoration-color: #008080; font-weight: bold\"> Values </span>┃ ┃<span style=\"color: #008080; text-decoration-color: #008080; font-weight: bold\"> Column Type </span>┃<span style=\"color: #008080; text-decoration-color: #008080; font-weight: bold\"> Count </span>┃                                                          │\n",
       "│ ┡━━━━━━━━━━━━━━━━━━━╇━━━━━━━━┩ ┡━━━━━━━━━━━━━╇━━━━━━━┩                                                          │\n",
       "│ │ Number of rows    │ 3048   │ │ int32       │ 2     │                                                          │\n",
       "│ │ Number of columns │ 4      │ │ string      │ 2     │                                                          │\n",
       "│ └───────────────────┴────────┘ └─────────────┴───────┘                                                          │\n",
       "│ <span style=\"font-style: italic\">                                                    number                                                    </span>  │\n",
       "│ ┏━━━━━━━━━━━━━━━━━━━━━┳━━━━━━━┳━━━━━━━━━━┳━━━━━━━━━━┳━━━━━━━━┳━━━━━━━┳━━━━━━━━┳━━━━━━━━┳━━━━━━━━━┳━━━━━━━━━━━┓  │\n",
       "│ ┃<span style=\"font-weight: bold\"> column_name         </span>┃<span style=\"font-weight: bold\"> NA    </span>┃<span style=\"font-weight: bold\"> NA %     </span>┃<span style=\"font-weight: bold\"> mean     </span>┃<span style=\"font-weight: bold\"> sd     </span>┃<span style=\"font-weight: bold\"> p0    </span>┃<span style=\"font-weight: bold\"> p25    </span>┃<span style=\"font-weight: bold\"> p75    </span>┃<span style=\"font-weight: bold\"> p100    </span>┃<span style=\"font-weight: bold\"> hist      </span>┃  │\n",
       "│ ┡━━━━━━━━━━━━━━━━━━━━━╇━━━━━━━╇━━━━━━━━━━╇━━━━━━━━━━╇━━━━━━━━╇━━━━━━━╇━━━━━━━━╇━━━━━━━━╇━━━━━━━━━╇━━━━━━━━━━━┩  │\n",
       "│ │ <span style=\"color: #af87ff; text-decoration-color: #af87ff\">dr_id              </span> │ <span style=\"color: #008080; text-decoration-color: #008080\">    0</span> │ <span style=\"color: #008080; text-decoration-color: #008080\">       0</span> │ <span style=\"color: #008080; text-decoration-color: #008080\">       6</span> │ <span style=\"color: #008080; text-decoration-color: #008080\">   3.1</span> │ <span style=\"color: #008080; text-decoration-color: #008080\">    1</span> │ <span style=\"color: #008080; text-decoration-color: #008080\">     3</span> │ <span style=\"color: #008080; text-decoration-color: #008080\">     9</span> │ <span style=\"color: #008080; text-decoration-color: #008080\">     11</span> │ <span style=\"color: #008000; text-decoration-color: #008000\"> ██▄███  </span> │  │\n",
       "│ │ <span style=\"color: #af87ff; text-decoration-color: #af87ff\">label              </span> │ <span style=\"color: #008080; text-decoration-color: #008080\">    0</span> │ <span style=\"color: #008080; text-decoration-color: #008080\">       0</span> │ <span style=\"color: #008080; text-decoration-color: #008080\">     0.5</span> │ <span style=\"color: #008080; text-decoration-color: #008080\">   0.5</span> │ <span style=\"color: #008080; text-decoration-color: #008080\">    0</span> │ <span style=\"color: #008080; text-decoration-color: #008080\">     0</span> │ <span style=\"color: #008080; text-decoration-color: #008080\">     1</span> │ <span style=\"color: #008080; text-decoration-color: #008080\">      1</span> │ <span style=\"color: #008000; text-decoration-color: #008000\"> █    █  </span> │  │\n",
       "│ └─────────────────────┴───────┴──────────┴──────────┴────────┴───────┴────────┴────────┴─────────┴───────────┘  │\n",
       "│ <span style=\"font-style: italic\">                                                    string                                                    </span>  │\n",
       "│ ┏━━━━━━━━━━━━━━━━━━━━━━━━━━━┳━━━━━━━━━┳━━━━━━━━━━━━┳━━━━━━━━━━━━━━━━━━━━━━━━━━━━━━┳━━━━━━━━━━━━━━━━━━━━━━━━━━┓  │\n",
       "│ ┃<span style=\"font-weight: bold\"> column_name               </span>┃<span style=\"font-weight: bold\"> NA      </span>┃<span style=\"font-weight: bold\"> NA %       </span>┃<span style=\"font-weight: bold\"> words per row                </span>┃<span style=\"font-weight: bold\"> total words              </span>┃  │\n",
       "│ ┡━━━━━━━━━━━━━━━━━━━━━━━━━━━╇━━━━━━━━━╇━━━━━━━━━━━━╇━━━━━━━━━━━━━━━━━━━━━━━━━━━━━━╇━━━━━━━━━━━━━━━━━━━━━━━━━━┩  │\n",
       "│ │ <span style=\"color: #af87ff; text-decoration-color: #af87ff\">question_1               </span> │ <span style=\"color: #008080; text-decoration-color: #008080\">      0</span> │ <span style=\"color: #008080; text-decoration-color: #008080\">         0</span> │ <span style=\"color: #008080; text-decoration-color: #008080\">                          19</span> │ <span style=\"color: #008080; text-decoration-color: #008080\">                   57264</span> │  │\n",
       "│ │ <span style=\"color: #af87ff; text-decoration-color: #af87ff\">question_2               </span> │ <span style=\"color: #008080; text-decoration-color: #008080\">      0</span> │ <span style=\"color: #008080; text-decoration-color: #008080\">         0</span> │ <span style=\"color: #008080; text-decoration-color: #008080\">                          19</span> │ <span style=\"color: #008080; text-decoration-color: #008080\">                   57264</span> │  │\n",
       "│ └───────────────────────────┴─────────┴────────────┴──────────────────────────────┴──────────────────────────┘  │\n",
       "╰────────────────────────────────────────────────────── End ──────────────────────────────────────────────────────╯\n",
       "</pre>\n"
      ],
      "text/plain": [
       "╭──────────────────────────────────────────────── skimpy summary ─────────────────────────────────────────────────╮\n",
       "│ \u001b[3m         Data Summary         \u001b[0m \u001b[3m      Data Types       \u001b[0m                                                          │\n",
       "│ ┏━━━━━━━━━━━━━━━━━━━┳━━━━━━━━┓ ┏━━━━━━━━━━━━━┳━━━━━━━┓                                                          │\n",
       "│ ┃\u001b[1;36m \u001b[0m\u001b[1;36mdataframe        \u001b[0m\u001b[1;36m \u001b[0m┃\u001b[1;36m \u001b[0m\u001b[1;36mValues\u001b[0m\u001b[1;36m \u001b[0m┃ ┃\u001b[1;36m \u001b[0m\u001b[1;36mColumn Type\u001b[0m\u001b[1;36m \u001b[0m┃\u001b[1;36m \u001b[0m\u001b[1;36mCount\u001b[0m\u001b[1;36m \u001b[0m┃                                                          │\n",
       "│ ┡━━━━━━━━━━━━━━━━━━━╇━━━━━━━━┩ ┡━━━━━━━━━━━━━╇━━━━━━━┩                                                          │\n",
       "│ │ Number of rows    │ 3048   │ │ int32       │ 2     │                                                          │\n",
       "│ │ Number of columns │ 4      │ │ string      │ 2     │                                                          │\n",
       "│ └───────────────────┴────────┘ └─────────────┴───────┘                                                          │\n",
       "│ \u001b[3m                                                    number                                                    \u001b[0m  │\n",
       "│ ┏━━━━━━━━━━━━━━━━━━━━━┳━━━━━━━┳━━━━━━━━━━┳━━━━━━━━━━┳━━━━━━━━┳━━━━━━━┳━━━━━━━━┳━━━━━━━━┳━━━━━━━━━┳━━━━━━━━━━━┓  │\n",
       "│ ┃\u001b[1m \u001b[0m\u001b[1mcolumn_name        \u001b[0m\u001b[1m \u001b[0m┃\u001b[1m \u001b[0m\u001b[1mNA   \u001b[0m\u001b[1m \u001b[0m┃\u001b[1m \u001b[0m\u001b[1mNA %    \u001b[0m\u001b[1m \u001b[0m┃\u001b[1m \u001b[0m\u001b[1mmean    \u001b[0m\u001b[1m \u001b[0m┃\u001b[1m \u001b[0m\u001b[1msd    \u001b[0m\u001b[1m \u001b[0m┃\u001b[1m \u001b[0m\u001b[1mp0   \u001b[0m\u001b[1m \u001b[0m┃\u001b[1m \u001b[0m\u001b[1mp25   \u001b[0m\u001b[1m \u001b[0m┃\u001b[1m \u001b[0m\u001b[1mp75   \u001b[0m\u001b[1m \u001b[0m┃\u001b[1m \u001b[0m\u001b[1mp100   \u001b[0m\u001b[1m \u001b[0m┃\u001b[1m \u001b[0m\u001b[1mhist     \u001b[0m\u001b[1m \u001b[0m┃  │\n",
       "│ ┡━━━━━━━━━━━━━━━━━━━━━╇━━━━━━━╇━━━━━━━━━━╇━━━━━━━━━━╇━━━━━━━━╇━━━━━━━╇━━━━━━━━╇━━━━━━━━╇━━━━━━━━━╇━━━━━━━━━━━┩  │\n",
       "│ │ \u001b[38;5;141mdr_id              \u001b[0m │ \u001b[36m    0\u001b[0m │ \u001b[36m       0\u001b[0m │ \u001b[36m       6\u001b[0m │ \u001b[36m   3.1\u001b[0m │ \u001b[36m    1\u001b[0m │ \u001b[36m     3\u001b[0m │ \u001b[36m     9\u001b[0m │ \u001b[36m     11\u001b[0m │ \u001b[32m ██▄███  \u001b[0m │  │\n",
       "│ │ \u001b[38;5;141mlabel              \u001b[0m │ \u001b[36m    0\u001b[0m │ \u001b[36m       0\u001b[0m │ \u001b[36m     0.5\u001b[0m │ \u001b[36m   0.5\u001b[0m │ \u001b[36m    0\u001b[0m │ \u001b[36m     0\u001b[0m │ \u001b[36m     1\u001b[0m │ \u001b[36m      1\u001b[0m │ \u001b[32m █    █  \u001b[0m │  │\n",
       "│ └─────────────────────┴───────┴──────────┴──────────┴────────┴───────┴────────┴────────┴─────────┴───────────┘  │\n",
       "│ \u001b[3m                                                    string                                                    \u001b[0m  │\n",
       "│ ┏━━━━━━━━━━━━━━━━━━━━━━━━━━━┳━━━━━━━━━┳━━━━━━━━━━━━┳━━━━━━━━━━━━━━━━━━━━━━━━━━━━━━┳━━━━━━━━━━━━━━━━━━━━━━━━━━┓  │\n",
       "│ ┃\u001b[1m \u001b[0m\u001b[1mcolumn_name              \u001b[0m\u001b[1m \u001b[0m┃\u001b[1m \u001b[0m\u001b[1mNA     \u001b[0m\u001b[1m \u001b[0m┃\u001b[1m \u001b[0m\u001b[1mNA %      \u001b[0m\u001b[1m \u001b[0m┃\u001b[1m \u001b[0m\u001b[1mwords per row               \u001b[0m\u001b[1m \u001b[0m┃\u001b[1m \u001b[0m\u001b[1mtotal words             \u001b[0m\u001b[1m \u001b[0m┃  │\n",
       "│ ┡━━━━━━━━━━━━━━━━━━━━━━━━━━━╇━━━━━━━━━╇━━━━━━━━━━━━╇━━━━━━━━━━━━━━━━━━━━━━━━━━━━━━╇━━━━━━━━━━━━━━━━━━━━━━━━━━┩  │\n",
       "│ │ \u001b[38;5;141mquestion_1               \u001b[0m │ \u001b[36m      0\u001b[0m │ \u001b[36m         0\u001b[0m │ \u001b[36m                          19\u001b[0m │ \u001b[36m                   57264\u001b[0m │  │\n",
       "│ │ \u001b[38;5;141mquestion_2               \u001b[0m │ \u001b[36m      0\u001b[0m │ \u001b[36m         0\u001b[0m │ \u001b[36m                          19\u001b[0m │ \u001b[36m                   57264\u001b[0m │  │\n",
       "│ └───────────────────────────┴─────────┴────────────┴──────────────────────────────┴──────────────────────────┘  │\n",
       "╰────────────────────────────────────────────────────── End ──────────────────────────────────────────────────────╯\n"
      ]
     },
     "metadata": {},
     "output_type": "display_data"
    },
    {
     "data": {
      "text/html": [
       "<div>\n",
       "<style scoped>\n",
       "    .dataframe tbody tr th:only-of-type {\n",
       "        vertical-align: middle;\n",
       "    }\n",
       "\n",
       "    .dataframe tbody tr th {\n",
       "        vertical-align: top;\n",
       "    }\n",
       "\n",
       "    .dataframe thead th {\n",
       "        text-align: right;\n",
       "    }\n",
       "</style>\n",
       "<table border=\"1\" class=\"dataframe\">\n",
       "  <thead>\n",
       "    <tr style=\"text-align: right;\">\n",
       "      <th></th>\n",
       "      <th>dr_id</th>\n",
       "      <th>question_1</th>\n",
       "      <th>question_2</th>\n",
       "      <th>label</th>\n",
       "    </tr>\n",
       "  </thead>\n",
       "  <tbody>\n",
       "    <tr>\n",
       "      <th>0</th>\n",
       "      <td>1</td>\n",
       "      <td>After how many hour from drinking an antibioti...</td>\n",
       "      <td>I have a party tonight and I took my last dose...</td>\n",
       "      <td>1</td>\n",
       "    </tr>\n",
       "    <tr>\n",
       "      <th>1</th>\n",
       "      <td>1</td>\n",
       "      <td>After how many hour from drinking an antibioti...</td>\n",
       "      <td>I vomited this morning and I am not sure if it...</td>\n",
       "      <td>0</td>\n",
       "    </tr>\n",
       "    <tr>\n",
       "      <th>2</th>\n",
       "      <td>1</td>\n",
       "      <td>Am I over weight (192.9) for my age (39)?</td>\n",
       "      <td>I am a 39 y/o male currently weighing about 19...</td>\n",
       "      <td>1</td>\n",
       "    </tr>\n",
       "  </tbody>\n",
       "</table>\n",
       "</div>"
      ],
      "text/plain": [
       "   dr_id                                         question_1  \\\n",
       "0      1  After how many hour from drinking an antibioti...   \n",
       "1      1  After how many hour from drinking an antibioti...   \n",
       "2      1          Am I over weight (192.9) for my age (39)?   \n",
       "\n",
       "                                          question_2  label  \n",
       "0  I have a party tonight and I took my last dose...      1  \n",
       "1  I vomited this morning and I am not sure if it...      0  \n",
       "2  I am a 39 y/o male currently weighing about 19...      1  "
      ]
     },
     "metadata": {},
     "output_type": "display_data"
    },
    {
     "name": "stdout",
     "output_type": "stream",
     "text": [
      "Количество дубликатов: 0\n",
      "Количество уникальных question_1: 1524\n",
      "Количество уникальных question_2: 3043\n",
      "Суммарное количество уникальных вопросов: 4567\n"
     ]
    }
   ],
   "source": [
    "# Загрузка датасета medical_questions_pairs\n",
    "try:\n",
    "    train_df = pd.read_csv(DIR+'train.csv')\n",
    "\n",
    "except:\n",
    "    \n",
    "    dataset = load_dataset(\"medical_questions_pairs\")\n",
    "\n",
    "    train_df = pd.DataFrame(dataset['train'])\n",
    "    train_df.to_csv(DIR+'train.csv',index=False)\n",
    "\n",
    "# Изучение структуры датасета\n",
    "print('TRAIN')\n",
    "print(train_df.info())\n",
    "print('-------------------')\n",
    "print()\n",
    "print('TRAIN')\n",
    "skim(train_df)\n",
    "display(train_df.head(3))\n",
    "print(f'Количество дубликатов: {train_df.duplicated().sum()}')\n",
    "print(f'Количество уникальных question_1: {train_df.question_1.unique().shape[0]}')\n",
    "print(f'Количество уникальных question_2: {train_df.question_2.unique().shape[0]}')\n",
    "all_unique_questions = set(list(train_df.question_1.unique())+list(train_df.question_2.unique()))\n",
    "sum_len = len(all_unique_questions)\n",
    "print(f'Суммарное количество уникальных вопросов: {sum_len}')"
   ]
  },
  {
   "cell_type": "code",
   "execution_count": 3,
   "metadata": {},
   "outputs": [
    {
     "data": {
      "image/png": "[encoded data removed]",
      "text/plain": [
       "<Figure size 1000x600 with 1 Axes>"
      ]
     },
     "metadata": {},
     "output_type": "display_data"
    }
   ],
   "source": [
    "# Анализ длины вопросов\n",
    "train_df['question_1_length'] = train_df['question_1'].str.len()\n",
    "train_df['question_2_length'] = train_df['question_2'].str.len()\n",
    "\n",
    "# Визуализация распределения длины вопросов\n",
    "plt.figure(figsize=(10, 6))\n",
    "train_df['question_1_length'].hist(bins=50, alpha=0.5, label='question_1')\n",
    "train_df['question_2_length'].hist(bins=50, alpha=0.5, label='question_2')\n",
    "plt.set_cmap('Greens')\n",
    "plt.xlabel('Длина вопроса')\n",
    "plt.ylabel('Количество')\n",
    "plt.legend()\n",
    "plt.show()"
   ]
  },
  {
   "cell_type": "code",
   "execution_count": 4,
   "metadata": {},
   "outputs": [
    {
     "data": {
      "text/plain": [
       "count    3048.000000\n",
       "mean       99.858924\n",
       "std        45.640730\n",
       "min        20.000000\n",
       "25%        58.000000\n",
       "50%        94.000000\n",
       "75%       144.000000\n",
       "max       255.000000\n",
       "Name: question_1_length, dtype: float64"
      ]
     },
     "execution_count": 4,
     "metadata": {},
     "output_type": "execute_result"
    }
   ],
   "source": [
    "train_df['question_1_length'].describe()"
   ]
  },
  {
   "cell_type": "code",
   "execution_count": 5,
   "metadata": {},
   "outputs": [
    {
     "data": {
      "text/plain": [
       "count    3048.000000\n",
       "mean      110.334646\n",
       "std        63.029785\n",
       "min        15.000000\n",
       "25%        62.000000\n",
       "50%        95.000000\n",
       "75%       146.000000\n",
       "max       404.000000\n",
       "Name: question_2_length, dtype: float64"
      ]
     },
     "execution_count": 5,
     "metadata": {},
     "output_type": "execute_result"
    }
   ],
   "source": [
    "train_df['question_2_length'].describe()"
   ]
  },
  {
   "cell_type": "markdown",
   "metadata": {},
   "source": [
    "## Предобработка"
   ]
  },
  {
   "cell_type": "code",
   "execution_count": 6,
   "metadata": {},
   "outputs": [
    {
     "name": "stderr",
     "output_type": "stream",
     "text": [
      "[nltk_data] Downloading package punkt to C:\\Users\\elpiz/nltk_data...\n",
      "[nltk_data]   Package punkt is already up-to-date!\n",
      "[nltk_data] Downloading package stopwords to\n",
      "[nltk_data]     C:\\Users\\elpiz/nltk_data...\n",
      "[nltk_data]   Package stopwords is already up-to-date!\n"
     ]
    }
   ],
   "source": [
    "nltk.download('punkt')\n",
    "nltk.download('stopwords')\n",
    "\n",
    "# Загрузка модели spaCy\n",
    "nlp = spacy.load(\"en_core_web_trf\")\n",
    "\n",
    "def preprocess_text(text):\n",
    "    \"\"\"\n",
    "    Функция для предобработки текста.\n",
    "\n",
    "    Args:\n",
    "        text (str): Входной текст.\n",
    "\n",
    "    Returns:\n",
    "        list: Список обработанных токенов.\n",
    "    \"\"\"\n",
    "    # Токенизация\n",
    "    tokens = nltk.word_tokenize(text.lower())  # Приведение к нижнему регистру\n",
    "\n",
    "    # Удаление пунктуации\n",
    "    tokens = [token for token in tokens if token.isalnum()]\n",
    "\n",
    "    # Удаление стоп-слов\n",
    "    stop_words = nltk.corpus.stopwords.words('english')\n",
    "    tokens = [token for token in tokens if token not in stop_words]\n",
    "\n",
    "    # Лемматизация\n",
    "    tokens = [token.lemma_ for token in nlp(\" \".join(tokens))]\n",
    "\n",
    "    # Обработка неизвестных слов (замена на UNK)\n",
    "    tokens = [token if token != '-PRON-' else 'UNK' for token in tokens]\n",
    "\n",
    "    return \" \".join(tokens)"
   ]
  },
  {
   "cell_type": "code",
   "execution_count": 7,
   "metadata": {},
   "outputs": [],
   "source": [
    "def preprocess_dataframe(df):\n",
    "    \"\"\"\n",
    "    Функция для предобработки DataFrame с вопросами.\n",
    "\n",
    "    Args:\n",
    "        df (pd.DataFrame): DataFrame с вопросами.\n",
    "\n",
    "    Returns:\n",
    "        pd.DataFrame: DataFrame с предобработанными вопросами.\n",
    "    \"\"\"\n",
    "    df['processed_question_1'] = df['question_1'].apply(preprocess_text)\n",
    "    df['processed_question_2'] = df['question_2'].apply(preprocess_text)\n",
    "    return df"
   ]
  },
  {
   "cell_type": "code",
   "execution_count": 8,
   "metadata": {},
   "outputs": [],
   "source": [
    "try:\n",
    "    train_df = pd.read_csv(DIR+'prep_train.csv')\n",
    "except:\n",
    "    train_df = preprocess_dataframe(train_df).fillna('No')\n",
    "    train_df.to_csv(DIR+'prep_train.csv', index=False)"
   ]
  },
  {
   "cell_type": "markdown",
   "metadata": {},
   "source": [
    "## Тестирование моделей\n",
    "\n",
    "### Функции"
   ]
  },
  {
   "cell_type": "code",
   "execution_count": 9,
   "metadata": {},
   "outputs": [],
   "source": [
    "def create_index(df, model=None, text_cols = ['processed_question_1','processed_question_2'], dump_pkl=False):\n",
    "    \"\"\"\n",
    "    Создает индекс-эмбеддингов и словари для поиска похожих вопросов.\n",
    "\n",
    "    Args:\n",
    "        df (pd.DataFrame): DataFrame с текстовыми вопросами.\n",
    "        model (str): Модель SentenceTransformer для создание эмбеддингов. Если None, то словарь индекс-имбеддингов не создаётся.\n",
    "                    По умолчанию - None\n",
    "        text_cols (list): Названия текстовых столбцов - 2 текстовых элемента в списке.\n",
    "                        По умолчанию - ['processed_question_1','processed_question_2'].\n",
    "        dump (bool): Если True, то сохраняет словари в файлы 'pkl'. По умолчанию - False.\n",
    "        \n",
    "    Returns:\n",
    "        tuple: (словарь индекс-эмбеддингов, словарь индекс-вопрос, словарь вопрос-индекс, словарь с ground truth)\n",
    "        (Или без словаря индекс-эмбеддингов, если model = None)\n",
    "    \"\"\"\n",
    "    corpus = list(set(df[text_cols[0]].tolist() + df[text_cols[1]].tolist()))\n",
    "    sen2idx = {text: i for i, text in enumerate(corpus)}\n",
    "    idx2sen = {v: k for k, v in sen2idx.items()}\n",
    "    if model:\n",
    "        idx2emd = {i: model.encode(str(text)) for i, text in idx2sen.items()}\n",
    "\n",
    "    if dump_pkl:\n",
    "        with open(DIR+\"idx2emb.pkl\", \"wb\") as fid:\n",
    "            dump(idx2emd, fid)\n",
    "        with open(DIR+\"idx2sen.pkl\", \"wb\") as fid:\n",
    "            dump(idx2sen, fid)\n",
    "        with open(DIR+\"sen2idx.pkl\", \"wb\") as fid:\n",
    "            dump(sen2idx, fid)\n",
    "\n",
    "    gt = defaultdict(list)\n",
    "    for _, row in df.iterrows():\n",
    "        idx1 = sen2idx[row[text_cols[0]]]\n",
    "        idx2 = sen2idx[row[text_cols[1]]]\n",
    "\n",
    "        if row.label:\n",
    "            gt[idx1].append(idx2)\n",
    "            gt[idx2].append(idx1)\n",
    "\n",
    "    if model:    \n",
    "        return idx2emd, idx2sen, sen2idx, gt\n",
    "    else:\n",
    "        return idx2sen, sen2idx, gt\n"
   ]
  },
  {
   "cell_type": "code",
   "execution_count": 10,
   "metadata": {},
   "outputs": [],
   "source": [
    "def evaluate_model(idx2emd, gt, n=5, model_type = 'SentenceTransformer', return_top_n_idx = False):\n",
    "    \"\"\"\n",
    "    Оценивает модель SentenceTransformer на предоставленных данных.\n",
    "\n",
    "    Args:\n",
    "        idx2emd (dict): Словарь с индекс-эмбеддингами.\n",
    "        gt (dict): Словарь с ground truth.\n",
    "        n (int): Число, обозначающее N. По умолчанию - 5.\n",
    "\n",
    "    Returns:\n",
    "        tuple: (accuracy@n, mrr@k, dcg@k)\n",
    "    \"\"\"\n",
    "    if model_type == 'SentenceTransformer':\n",
    "        emb_list = []\n",
    "        for i in range(len(idx2emd)):\n",
    "            emb_list.append(idx2emd[i])\n",
    "        arr = np.array(emb_list)\n",
    "        dist = pdist(arr, metric=\"cosine\")\n",
    "        dist_matrix = squareform(dist)\n",
    "        top_n_idx = np.argsort(dist_matrix)[:, :n+1]\n",
    "\n",
    "    else:\n",
    "        dist_matrix = cosine_similarity(idx2emd)\n",
    "        mask = np.eye(dist_matrix.shape[0], dtype=bool)\n",
    "        dist_matrix[mask] = 0  \n",
    "        top_n_idx = np.argsort(dist_matrix)[:, -n:][:, ::-1]\n",
    "\n",
    "    acc = []\n",
    "    mrr_at_k = []\n",
    "    dcg_at_k = []\n",
    "    for j in range(top_n_idx.shape[0]):\n",
    "        \n",
    "        if model_type == 'SentenceTransformer':\n",
    "            # Исключаем первый схожий вопрос\n",
    "            rec_idx = top_n_idx[j, 1:]\n",
    "        else:\n",
    "            rec_idx = top_n_idx[j, :]\n",
    "\n",
    "        gt_idx = gt.get(j, [])\n",
    "        if len(gt_idx) > 0:\n",
    "            \n",
    "            # Accuracy@N\n",
    "            intersection = set(rec_idx).intersection(set(gt_idx))\n",
    "            acc.append(len(intersection) > 0)\n",
    "\n",
    "            # MRR@K\n",
    "            ranking = [idx in gt_idx for idx in rec_idx]\n",
    "            if any(ranking):\n",
    "                mrr_at_k.append(1 / (ranking.index(True) + 1))\n",
    "            else:\n",
    "                mrr_at_k.append(0)\n",
    "\n",
    "            # DCG@K \n",
    "            relevance = [1 if idx in gt_idx else 0 for idx in rec_idx]\n",
    "            ideal_ranking = sorted(relevance, reverse=True)\n",
    "            dcg_at_k.append(dcg_score([relevance], [ideal_ranking], k=n))\n",
    "\n",
    "    if return_top_n_idx:\n",
    "        return np.mean(acc), np.mean(mrr_at_k), np.mean(dcg_at_k), top_n_idx\n",
    "    else:\n",
    "        return np.mean(acc), np.mean(mrr_at_k), np.mean(dcg_at_k)\n",
    "\n",
    "\n",
    "def evaluate_SentenceTransformer(model_name, df, text_cols=['processed_question_1', 'processed_question_2']):\n",
    "    \"\"\"\n",
    "    Оценивает модель SentenceTransformer на предоставленных данных.\n",
    "\n",
    "    Args:\n",
    "        model_name (str): Название модели SentenceTransformer.\n",
    "        df (pd.DataFrame): DataFrame с текстовыми вопросами.\n",
    "        text_cols (list): Названия текстовых столбцов - 2 текстовых элемента в списке.\n",
    "                        По умолчанию - ['processed_question_1', 'processed_question_2'].\n",
    "\n",
    "    Returns:\n",
    "        tuple: (accuracy@5, mrr@5, dcg@5)\n",
    "    \"\"\"\n",
    "\n",
    "    model = SentenceTransformer(model_name)\n",
    "    idx2emd, _, _, gt = create_index(df, model, text_cols)\n",
    "    accuracy, mrr, dcg = evaluate_model(idx2emd, gt)\n",
    "    return accuracy, mrr, dcg"
   ]
  },
  {
   "cell_type": "markdown",
   "metadata": {},
   "source": [
    "### Bag-of-Words (BoW)"
   ]
  },
  {
   "cell_type": "code",
   "execution_count": 18,
   "metadata": {},
   "outputs": [
    {
     "name": "stdout",
     "output_type": "stream",
     "text": [
      "Без предобработки текста.\n",
      "Accuracy@5 (Bag-of-Words): 0.5695538057742782\n",
      "MRR@5 (Bag-of-Words): 0.47404855643044624\n",
      "DCG@5 (Bag-of-Words): 0.48861621031668206\n"
     ]
    }
   ],
   "source": [
    "# Получание ground truth\n",
    "_, _, gt = create_index(train_df, text_cols = ['question_1','question_2'])\n",
    "\n",
    "# Объединение question_1 и question_2 в один DataFrame\n",
    "all_questions_df = pd.DataFrame({'question': list(all_unique_questions)})\n",
    "\n",
    "# Создание объекта CountVectorizer\n",
    "vectorizer = CountVectorizer()\n",
    "\n",
    "# Векторизация всех вопросов\n",
    "all_question_vectors = vectorizer.fit_transform(all_questions_df['question'])\n",
    "\n",
    "# Оценка качества модели\n",
    "accuracy, mrr, dcg = evaluate_model(all_question_vectors, gt, model_type = 'BoW')\n",
    "\n",
    "print('Без предобработки текста.')\n",
    "print(\"Accuracy@5 (Bag-of-Words):\", accuracy)\n",
    "print(\"MRR@5 (Bag-of-Words):\", mrr)\n",
    "print(\"DCG@5 (Bag-of-Words):\", dcg)"
   ]
  },
  {
   "cell_type": "code",
   "execution_count": 19,
   "metadata": {},
   "outputs": [
    {
     "name": "stdout",
     "output_type": "stream",
     "text": [
      "С предобработкой текста.\n",
      "Accuracy@5 (Bag-of-Words): 0.8022988505747126\n",
      "MRR@5 (Bag-of-Words): 0.679896004378763\n",
      "DCG@5 (Bag-of-Words): 0.6960162318565597\n"
     ]
    }
   ],
   "source": [
    "# Получание ground truth из предобработанных вопросов\n",
    "_, _, prep_gt = create_index(train_df)\n",
    "\n",
    "# Объединение предобработанных question_1 и question_2 в один DataFrame\n",
    "all_unique_prep_questions = set(\n",
    "    list(train_df['processed_question_1'].unique()) +\n",
    "    list(train_df['processed_question_2'].unique())\n",
    ")\n",
    "all_prep_questions_df = pd.DataFrame({'question': list(all_unique_prep_questions)})\n",
    "\n",
    "# Создание объекта CountVectorizer\n",
    "vectorizer = CountVectorizer()\n",
    "\n",
    "# Векторизация всех вопросов\n",
    "all_question_vectors = vectorizer.fit_transform(all_prep_questions_df['question'])\n",
    "\n",
    "# Оценка качества модели\n",
    "accuracy, mrr, dcg = evaluate_model(all_question_vectors, prep_gt, model_type = 'BoW')\n",
    "print('С предобработкой текста.')\n",
    "print(\"Accuracy@5 (Bag-of-Words):\", accuracy)\n",
    "print(\"MRR@5 (Bag-of-Words):\", mrr)\n",
    "print(\"DCG@5 (Bag-of-Words):\", dcg)"
   ]
  },
  {
   "cell_type": "markdown",
   "metadata": {},
   "source": [
    "***Выводы по результатам Bag-of-Words:***\n",
    "\n",
    "* **Предобработка текста значительно улучшает качество модели Bag-of-Words.** Accuracy@5 увеличилась с 0.57 до 0.80, MRR@5 - с 0.47 до 0.68, а DCG@5 - с 0.49 до 0.70. Это говорит о том, что предобработка текста, такая как токенизация, лемматизация и удаление стоп-слов, помогает модели лучше понимать семантическое сходство между вопросами.\n",
    "\n",
    "* **Модель Bag-of-Words может быть хорошим выбором, если важна простота и скорость работы.** Она требует меньше ресурсов для обучения и использования, чем более сложные модели такие как SentenceTransformers.\n",
    "\n",
    "*Код для создания словаря индекс-эмбеддингов (если нужно):*\n",
    "\n",
    "```python\n",
    "idx2emd = {i: all_prep_questions_df[i].toarray()[0] for i in range(all_prep_questions_df.shape[0])}\n",
    "```"
   ]
  },
  {
   "cell_type": "markdown",
   "metadata": {},
   "source": [
    "### TF-IDF"
   ]
  },
  {
   "cell_type": "code",
   "execution_count": 58,
   "metadata": {},
   "outputs": [
    {
     "name": "stdout",
     "output_type": "stream",
     "text": [
      "С предобработкой текста.\n",
      "Accuracy@5 (TF-IDF): 0.8623973727422003\n",
      "MRR@5 (TF-IDF): 0.732632731253421\n",
      "DCG@5 (TF-IDF): 0.7455033356734234\n"
     ]
    }
   ],
   "source": [
    "# Создание объекта CountVectorizer\n",
    "vectorizer = TfidfVectorizer()\n",
    "\n",
    "# Векторизация всех вопросов\n",
    "all_question_vectors = vectorizer.fit_transform(all_prep_questions_df['question'])\n",
    "\n",
    "# Оценка качества модели\n",
    "accuracy, mrr, dcg = evaluate_model(all_question_vectors, prep_gt, model_type='TF-IDF')\n",
    "print('С предобработкой текста.')\n",
    "print(\"Accuracy@5 (TF-IDF):\", accuracy)\n",
    "print(\"MRR@5 (TF-IDF):\", mrr)\n",
    "print(\"DCG@5 (TF-IDF):\", dcg)"
   ]
  },
  {
   "cell_type": "markdown",
   "metadata": {},
   "source": [
    "***Выводы по результатам TF-IDF:***\n",
    "\n",
    "* **TF-IDF превосходит Bag-of-Words по всем метрикам.** Accuracy@5 увеличилась с 0.80 до 0.86, MRR@5 - с 0.68 до 0.73, а DCG@5 - с 0.70 до 0.75. Это говорит о том, что веса TF-IDF, которые учитывают важность слов в коллекции документов, позволяют модели лучше различать похожие и непохожие вопросы.\n",
    "* **TF-IDF может быть хорошим компромиссом между качеством и сложностью.** Она обеспечивает значительно лучшее качество, чем Bag-of-Words, при этом оставаясь относительно простой и быстрой в использовании.\n",
    "\n",
    "*Код для создания словаря индекс-эмбеддингов (если нужно):*\n",
    "\n",
    "```python\n",
    "idx2emd = {i: all_prep_questions_df[i].toarray()[0] for i in range(all_prep_questions_df.shape[0])}\n",
    "```"
   ]
  },
  {
   "cell_type": "markdown",
   "metadata": {},
   "source": [
    "### Word2Vec"
   ]
  },
  {
   "cell_type": "code",
   "execution_count": 18,
   "metadata": {},
   "outputs": [],
   "source": [
    "def vectorize_sentence(sentence, model_w2v):\n",
    "    \"\"\"\n",
    "    Векторизует предложение с помощью Word2Vec, усредняя векторы слов.\n",
    "\n",
    "    Args:\n",
    "        sentence (str): Предложение для векторизации.\n",
    "        model_w2v (gensim.models.Word2Vec): Модель Word2Vec.\n",
    "\n",
    "    Returns:\n",
    "        numpy.ndarray: Векторное представление предложения.\n",
    "    \"\"\"\n",
    "    words = sentence.split()\n",
    "    word_vectors = [model_w2v.wv[word] for word in words if word in model_w2v.wv]\n",
    "    if word_vectors:\n",
    "        return np.mean(word_vectors, axis=0)\n",
    "    else:\n",
    "        return np.zeros(model_w2v.vector_size)"
   ]
  },
  {
   "cell_type": "code",
   "execution_count": 69,
   "metadata": {},
   "outputs": [
    {
     "name": "stdout",
     "output_type": "stream",
     "text": [
      "С предобработкой текста.\n",
      "Accuracy@5 (Word2Vec): 0.4380952380952381\n",
      "MRR@5 (Word2Vec): 0.36174603174603165\n",
      "DCG@5 (Word2Vec): 0.3737529871438364\n"
     ]
    }
   ],
   "source": [
    "# Объединение всех вопросов в один список\n",
    "all_questions = train_df['processed_question_1'].tolist() + train_df['processed_question_2'].tolist()\n",
    "\n",
    "# Разделение вопросов на списки токенов\n",
    "all_tokens = [question.split() for question in all_questions]\n",
    "\n",
    "# Обучение Word2Vec\n",
    "model_w2v = Word2Vec(sentences=all_tokens, vector_size=512, window=5, min_count=5, workers=4)\n",
    "\n",
    "# Векторизация всех вопросов\n",
    "all_question_embeddings = []\n",
    "for question in all_prep_questions_df['question']:\n",
    "    all_question_embeddings.append(vectorize_sentence(question, model_w2v))\n",
    "\n",
    "# Создание словаря idx2emd\n",
    "idx2emd = {i: embedding for i, embedding in enumerate(all_question_embeddings)}\n",
    "\n",
    "# Оценка качества модели\n",
    "accuracy, mrr, dcg = evaluate_model(all_question_embeddings, prep_gt, model_type='Word2Vec')\n",
    "print('С предобработкой текста.')\n",
    "print(\"Accuracy@5 (Word2Vec):\", accuracy)\n",
    "print(\"MRR@5 (Word2Vec):\", mrr)\n",
    "print(\"DCG@5 (Word2Vec):\", dcg) "
   ]
  },
  {
   "cell_type": "markdown",
   "metadata": {},
   "source": [
    "***Выводы по результатам Word2Vec:***\n",
    "\n",
    "* **Word2Vec показал значительно худшие результаты, чем Bag-of-Words и TF-IDF по всем метрикам.** \n",
    "   Это говорит о том, что усреднение векторов слов, полученных из Word2Vec, \n",
    "   не является эффективным способом представления семантического сходства между вопросами в нашей задаче.\n",
    "* **Возможные причины:** \n",
    "   * **Потеря информации при усреднении:** Усреднение векторов слов может привести к потере информации о порядке слов и синтаксической структуре предложения. \n",
    "   * **Размер датасета:** Наш датасет может быть недостаточно большим для обучения качественной модели Word2Vec. \n",
    "   * **Выбор параметров Word2Vec:** Возможно, выбранные параметры (размерность векторов, размер окна контекста, минимальная частота слов) не оптимальны для нашей задачи. (Были опробованы и другие параметры, но их изменение не привело к сильному улучшению метрики. В данном коде оставлен лучший вариант.)\n",
    "\n",
    "* **В целом, результаты показывают, что модель Word2Vec не подходит для нашей задачи поиска похожих вопросов.**  \n",
    "   Мы можем попробовать использовать другие модели, которые лучше учитывают семантику и структуру предложений."
   ]
  },
  {
   "cell_type": "markdown",
   "metadata": {},
   "source": [
    "### USE"
   ]
  },
  {
   "cell_type": "code",
   "execution_count": 1,
   "metadata": {},
   "outputs": [],
   "source": [
    "import tensorflow_hub as hub\n",
    "\n",
    "# URL модели USE\n",
    "module_url = \"https://tfhub.dev/google/universal-sentence-encoder/4\" \n",
    "\n",
    "# Загрузка модели\n",
    "model_use = hub.load(module_url)"
   ]
  },
  {
   "cell_type": "code",
   "execution_count": 24,
   "metadata": {},
   "outputs": [
    {
     "name": "stdout",
     "output_type": "stream",
     "text": [
      "С предобработкой текста.\n",
      "Accuracy@5 (USE): 0.870935960591133\n",
      "MRR@5 (USE): 0.7614668856048166\n",
      "DCG@5 (USE): 0.7734119728925425\n"
     ]
    }
   ],
   "source": [
    "# Векторизация всех вопросов\n",
    "all_question_embeddings = model_use(all_prep_questions_df['question']).numpy()\n",
    "\n",
    "# Создание словаря idx2emd\n",
    "idx2emd = {i: embedding for i, embedding in enumerate(all_question_embeddings)}\n",
    "\n",
    "# Оценка качества модели\n",
    "accuracy, mrr, dcg = evaluate_model(all_question_embeddings, prep_gt, model_type='USE')\n",
    "print('С предобработкой текста.')\n",
    "print(\"Accuracy@5 (USE):\", accuracy)\n",
    "print(\"MRR@5 (USE):\", mrr)\n",
    "print(\"DCG@5 (USE):\", dcg) "
   ]
  },
  {
   "cell_type": "code",
   "execution_count": 22,
   "metadata": {},
   "outputs": [
    {
     "name": "stdout",
     "output_type": "stream",
     "text": [
      "Без предобработки текста.\n",
      "Accuracy@5 (USE): 0.8887795275590551\n",
      "MRR@5 (USE): 0.7894192913385826\n",
      "DCG@5 (USE): 0.8017842326493311\n"
     ]
    }
   ],
   "source": [
    "# Векторизация всех вопросов\n",
    "all_question_embeddings = model_use(all_questions_df['question']).numpy()\n",
    "\n",
    "# Создание словаря idx2emd\n",
    "idx2emd = {i: embedding for i, embedding in enumerate(all_question_embeddings)}\n",
    "\n",
    "# Оценка качества модели\n",
    "accuracy, mrr, dcg = evaluate_model(all_question_embeddings, gt, model_type='USE')\n",
    "print('Без предобработки текста.')\n",
    "print(\"Accuracy@5 (USE):\", accuracy)\n",
    "print(\"MRR@5 (USE):\", mrr)\n",
    "print(\"DCG@5 (USE):\", dcg) "
   ]
  },
  {
   "cell_type": "markdown",
   "metadata": {},
   "source": [
    "***Выводы по результатам USE:***\n",
    "\n",
    "* **USE  показал отличные результаты,  как на исходных,  так и на предобработанных данных.** \n",
    "   Accuracy@5  для обоих вариантов выше,  чем у Bag-of-Words и TF-IDF.\n",
    "* **Предобработка текста не привела к значительному улучшению или ухудшению качества.**  \n",
    "   Это может говорить о том,  что USE  уже достаточно хорошо справляется с обработкой текста и не так чувствительна к предобработке,  как более простые модели.\n",
    "* **USE  может быть хорошим выбором,  если нужно высокое качество и простота использования.**  \n",
    "   Модель уже предобучена и готова к использованию,  не требуя дополнительного обучения. \n",
    "\n",
    "* **В целом,  результаты показывают,  что USE  - это эффективная модель для поиска похожих вопросов,  которая обеспечивает высокое качество и простоту использования.**"
   ]
  },
  {
   "cell_type": "markdown",
   "metadata": {},
   "source": [
    "### SentenceTransformers"
   ]
  },
  {
   "cell_type": "code",
   "execution_count": 9,
   "metadata": {},
   "outputs": [],
   "source": [
    "def colorize_metrics_df(df):\n",
    "    return (df.sort_values('DCG@5', ascending=0)\n",
    "            .reset_index(drop=True)\n",
    "            .style\n",
    "            .set_caption(\"Метрики моделей SentenceTransformer\")\n",
    "            .format(\"{:.2%}\",subset=metrics_cols)\n",
    "            .format(precision=2,subset=['time'])\n",
    "            .background_gradient(cmap='summer',subset=metrics_cols)\n",
    "            .background_gradient(cmap='summer_r',subset=['time']))"
   ]
  },
  {
   "cell_type": "code",
   "execution_count": 16,
   "metadata": {},
   "outputs": [
    {
     "data": {
      "text/html": [
       "<style type=\"text/css\">\n",
       "#T_0a5c8_row0_col2, #T_0a5c8_row0_col3, #T_0a5c8_row0_col4, #T_0a5c8_row12_col5 {\n",
       "  background-color: #ffff66;\n",
       "  color: #000000;\n",
       "}\n",
       "#T_0a5c8_row0_col5, #T_0a5c8_row14_col2, #T_0a5c8_row17_col3, #T_0a5c8_row17_col4 {\n",
       "  background-color: #008066;\n",
       "  color: #f1f1f1;\n",
       "}\n",
       "#T_0a5c8_row1_col2 {\n",
       "  background-color: #eff766;\n",
       "  color: #000000;\n",
       "}\n",
       "#T_0a5c8_row1_col3 {\n",
       "  background-color: #f3f966;\n",
       "  color: #000000;\n",
       "}\n",
       "#T_0a5c8_row1_col4 {\n",
       "  background-color: #eef666;\n",
       "  color: #000000;\n",
       "}\n",
       "#T_0a5c8_row1_col5, #T_0a5c8_row2_col4, #T_0a5c8_row4_col5 {\n",
       "  background-color: #eaf466;\n",
       "  color: #000000;\n",
       "}\n",
       "#T_0a5c8_row2_col2 {\n",
       "  background-color: #ddee66;\n",
       "  color: #000000;\n",
       "}\n",
       "#T_0a5c8_row2_col3 {\n",
       "  background-color: #edf666;\n",
       "  color: #000000;\n",
       "}\n",
       "#T_0a5c8_row2_col5 {\n",
       "  background-color: #bede66;\n",
       "  color: #000000;\n",
       "}\n",
       "#T_0a5c8_row3_col2 {\n",
       "  background-color: #d3e966;\n",
       "  color: #000000;\n",
       "}\n",
       "#T_0a5c8_row3_col3 {\n",
       "  background-color: #e8f366;\n",
       "  color: #000000;\n",
       "}\n",
       "#T_0a5c8_row3_col4 {\n",
       "  background-color: #e5f266;\n",
       "  color: #000000;\n",
       "}\n",
       "#T_0a5c8_row3_col5 {\n",
       "  background-color: #9cce66;\n",
       "  color: #000000;\n",
       "}\n",
       "#T_0a5c8_row4_col2 {\n",
       "  background-color: #dbed66;\n",
       "  color: #000000;\n",
       "}\n",
       "#T_0a5c8_row4_col3 {\n",
       "  background-color: #cee666;\n",
       "  color: #000000;\n",
       "}\n",
       "#T_0a5c8_row4_col4 {\n",
       "  background-color: #cbe566;\n",
       "  color: #000000;\n",
       "}\n",
       "#T_0a5c8_row5_col2 {\n",
       "  background-color: #c6e266;\n",
       "  color: #000000;\n",
       "}\n",
       "#T_0a5c8_row5_col3 {\n",
       "  background-color: #c8e366;\n",
       "  color: #000000;\n",
       "}\n",
       "#T_0a5c8_row5_col4 {\n",
       "  background-color: #c9e466;\n",
       "  color: #000000;\n",
       "}\n",
       "#T_0a5c8_row5_col5 {\n",
       "  background-color: #038166;\n",
       "  color: #f1f1f1;\n",
       "}\n",
       "#T_0a5c8_row6_col2 {\n",
       "  background-color: #b5da66;\n",
       "  color: #000000;\n",
       "}\n",
       "#T_0a5c8_row6_col3, #T_0a5c8_row6_col4 {\n",
       "  background-color: #a9d466;\n",
       "  color: #000000;\n",
       "}\n",
       "#T_0a5c8_row6_col5 {\n",
       "  background-color: #9acc66;\n",
       "  color: #000000;\n",
       "}\n",
       "#T_0a5c8_row7_col2, #T_0a5c8_row9_col4 {\n",
       "  background-color: #4fa766;\n",
       "  color: #f1f1f1;\n",
       "}\n",
       "#T_0a5c8_row7_col3, #T_0a5c8_row7_col4 {\n",
       "  background-color: #74ba66;\n",
       "  color: #f1f1f1;\n",
       "}\n",
       "#T_0a5c8_row7_col5 {\n",
       "  background-color: #178b66;\n",
       "  color: #f1f1f1;\n",
       "}\n",
       "#T_0a5c8_row8_col2 {\n",
       "  background-color: #71b866;\n",
       "  color: #f1f1f1;\n",
       "}\n",
       "#T_0a5c8_row8_col3, #T_0a5c8_row8_col4 {\n",
       "  background-color: #57ab66;\n",
       "  color: #f1f1f1;\n",
       "}\n",
       "#T_0a5c8_row8_col5 {\n",
       "  background-color: #b6db66;\n",
       "  color: #000000;\n",
       "}\n",
       "#T_0a5c8_row9_col2 {\n",
       "  background-color: #7ebe66;\n",
       "  color: #000000;\n",
       "}\n",
       "#T_0a5c8_row9_col3 {\n",
       "  background-color: #50a866;\n",
       "  color: #f1f1f1;\n",
       "}\n",
       "#T_0a5c8_row9_col5 {\n",
       "  background-color: #e4f266;\n",
       "  color: #000000;\n",
       "}\n",
       "#T_0a5c8_row10_col2 {\n",
       "  background-color: #64b266;\n",
       "  color: #f1f1f1;\n",
       "}\n",
       "#T_0a5c8_row10_col3 {\n",
       "  background-color: #48a366;\n",
       "  color: #f1f1f1;\n",
       "}\n",
       "#T_0a5c8_row10_col4 {\n",
       "  background-color: #45a266;\n",
       "  color: #f1f1f1;\n",
       "}\n",
       "#T_0a5c8_row10_col5 {\n",
       "  background-color: #aad466;\n",
       "  color: #000000;\n",
       "}\n",
       "#T_0a5c8_row11_col2 {\n",
       "  background-color: #5faf66;\n",
       "  color: #f1f1f1;\n",
       "}\n",
       "#T_0a5c8_row11_col3 {\n",
       "  background-color: #44a266;\n",
       "  color: #f1f1f1;\n",
       "}\n",
       "#T_0a5c8_row11_col4 {\n",
       "  background-color: #41a066;\n",
       "  color: #f1f1f1;\n",
       "}\n",
       "#T_0a5c8_row11_col5 {\n",
       "  background-color: #cfe766;\n",
       "  color: #000000;\n",
       "}\n",
       "#T_0a5c8_row12_col2, #T_0a5c8_row15_col5 {\n",
       "  background-color: #56ab66;\n",
       "  color: #f1f1f1;\n",
       "}\n",
       "#T_0a5c8_row12_col3 {\n",
       "  background-color: #359a66;\n",
       "  color: #f1f1f1;\n",
       "}\n",
       "#T_0a5c8_row12_col4 {\n",
       "  background-color: #369a66;\n",
       "  color: #f1f1f1;\n",
       "}\n",
       "#T_0a5c8_row13_col2 {\n",
       "  background-color: #43a166;\n",
       "  color: #f1f1f1;\n",
       "}\n",
       "#T_0a5c8_row13_col3 {\n",
       "  background-color: #269266;\n",
       "  color: #f1f1f1;\n",
       "}\n",
       "#T_0a5c8_row13_col4 {\n",
       "  background-color: #259266;\n",
       "  color: #f1f1f1;\n",
       "}\n",
       "#T_0a5c8_row13_col5 {\n",
       "  background-color: #b9dc66;\n",
       "  color: #000000;\n",
       "}\n",
       "#T_0a5c8_row14_col3, #T_0a5c8_row15_col3, #T_0a5c8_row15_col4 {\n",
       "  background-color: #138966;\n",
       "  color: #f1f1f1;\n",
       "}\n",
       "#T_0a5c8_row14_col4, #T_0a5c8_row16_col2 {\n",
       "  background-color: #148a66;\n",
       "  color: #f1f1f1;\n",
       "}\n",
       "#T_0a5c8_row14_col5 {\n",
       "  background-color: #47a366;\n",
       "  color: #f1f1f1;\n",
       "}\n",
       "#T_0a5c8_row15_col2 {\n",
       "  background-color: #2e9666;\n",
       "  color: #f1f1f1;\n",
       "}\n",
       "#T_0a5c8_row16_col3 {\n",
       "  background-color: #0f8766;\n",
       "  color: #f1f1f1;\n",
       "}\n",
       "#T_0a5c8_row16_col4 {\n",
       "  background-color: #108866;\n",
       "  color: #f1f1f1;\n",
       "}\n",
       "#T_0a5c8_row16_col5 {\n",
       "  background-color: #3e9e66;\n",
       "  color: #f1f1f1;\n",
       "}\n",
       "#T_0a5c8_row17_col2 {\n",
       "  background-color: #219066;\n",
       "  color: #f1f1f1;\n",
       "}\n",
       "#T_0a5c8_row17_col5 {\n",
       "  background-color: #fbfd66;\n",
       "  color: #000000;\n",
       "}\n",
       "</style>\n",
       "<table id=\"T_0a5c8\">\n",
       "  <caption>Метрики моделей SentenceTransformer</caption>\n",
       "  <thead>\n",
       "    <tr>\n",
       "      <th class=\"blank level0\" >&nbsp;</th>\n",
       "      <th id=\"T_0a5c8_level0_col0\" class=\"col_heading level0 col0\" >model</th>\n",
       "      <th id=\"T_0a5c8_level0_col1\" class=\"col_heading level0 col1\" >text_type</th>\n",
       "      <th id=\"T_0a5c8_level0_col2\" class=\"col_heading level0 col2\" >Accuracy@5</th>\n",
       "      <th id=\"T_0a5c8_level0_col3\" class=\"col_heading level0 col3\" >MMR@5</th>\n",
       "      <th id=\"T_0a5c8_level0_col4\" class=\"col_heading level0 col4\" >DCG@5</th>\n",
       "      <th id=\"T_0a5c8_level0_col5\" class=\"col_heading level0 col5\" >time</th>\n",
       "    </tr>\n",
       "  </thead>\n",
       "  <tbody>\n",
       "    <tr>\n",
       "      <th id=\"T_0a5c8_level0_row0\" class=\"row_heading level0 row0\" >0</th>\n",
       "      <td id=\"T_0a5c8_row0_col0\" class=\"data row0 col0\" >all-mpnet-base-v2</td>\n",
       "      <td id=\"T_0a5c8_row0_col1\" class=\"data row0 col1\" >Изначальный</td>\n",
       "      <td id=\"T_0a5c8_row0_col2\" class=\"data row0 col2\" >96.82%</td>\n",
       "      <td id=\"T_0a5c8_row0_col3\" class=\"data row0 col3\" >90.94%</td>\n",
       "      <td id=\"T_0a5c8_row0_col4\" class=\"data row0 col4\" >91.67%</td>\n",
       "      <td id=\"T_0a5c8_row0_col5\" class=\"data row0 col5\" >655.86</td>\n",
       "    </tr>\n",
       "    <tr>\n",
       "      <th id=\"T_0a5c8_level0_row1\" class=\"row_heading level0 row1\" >1</th>\n",
       "      <td id=\"T_0a5c8_row1_col0\" class=\"data row1 col0\" >all-MiniLM-L6-v2</td>\n",
       "      <td id=\"T_0a5c8_row1_col1\" class=\"data row1 col1\" >Изначальный</td>\n",
       "      <td id=\"T_0a5c8_row1_col2\" class=\"data row1 col2\" >96.36%</td>\n",
       "      <td id=\"T_0a5c8_row1_col3\" class=\"data row1 col3\" >90.39%</td>\n",
       "      <td id=\"T_0a5c8_row1_col4\" class=\"data row1 col4\" >90.94%</td>\n",
       "      <td id=\"T_0a5c8_row1_col5\" class=\"data row1 col5\" >119.97</td>\n",
       "    </tr>\n",
       "    <tr>\n",
       "      <th id=\"T_0a5c8_level0_row2\" class=\"row_heading level0 row2\" >2</th>\n",
       "      <td id=\"T_0a5c8_row2_col0\" class=\"data row2 col0\" >all-MiniLM-L12-v2</td>\n",
       "      <td id=\"T_0a5c8_row2_col1\" class=\"data row2 col1\" >Изначальный</td>\n",
       "      <td id=\"T_0a5c8_row2_col2\" class=\"data row2 col2\" >95.87%</td>\n",
       "      <td id=\"T_0a5c8_row2_col3\" class=\"data row2 col3\" >90.13%</td>\n",
       "      <td id=\"T_0a5c8_row2_col4\" class=\"data row2 col4\" >90.75%</td>\n",
       "      <td id=\"T_0a5c8_row2_col5\" class=\"data row2 col5\" >221.17</td>\n",
       "    </tr>\n",
       "    <tr>\n",
       "      <th id=\"T_0a5c8_level0_row3\" class=\"row_heading level0 row3\" >3</th>\n",
       "      <td id=\"T_0a5c8_row3_col0\" class=\"data row3 col0\" >multi-qa-distilbert-cos-v1</td>\n",
       "      <td id=\"T_0a5c8_row3_col1\" class=\"data row3 col1\" >Изначальный</td>\n",
       "      <td id=\"T_0a5c8_row3_col2\" class=\"data row3 col2\" >95.60%</td>\n",
       "      <td id=\"T_0a5c8_row3_col3\" class=\"data row3 col3\" >89.95%</td>\n",
       "      <td id=\"T_0a5c8_row3_col4\" class=\"data row3 col4\" >90.57%</td>\n",
       "      <td id=\"T_0a5c8_row3_col5\" class=\"data row3 col5\" >298.25</td>\n",
       "    </tr>\n",
       "    <tr>\n",
       "      <th id=\"T_0a5c8_level0_row4\" class=\"row_heading level0 row4\" >4</th>\n",
       "      <td id=\"T_0a5c8_row4_col0\" class=\"data row4 col0\" >multi-qa-MiniLM-L6-cos-v1</td>\n",
       "      <td id=\"T_0a5c8_row4_col1\" class=\"data row4 col1\" >Изначальный</td>\n",
       "      <td id=\"T_0a5c8_row4_col2\" class=\"data row4 col2\" >95.83%</td>\n",
       "      <td id=\"T_0a5c8_row4_col3\" class=\"data row4 col3\" >88.83%</td>\n",
       "      <td id=\"T_0a5c8_row4_col4\" class=\"data row4 col4\" >89.49%</td>\n",
       "      <td id=\"T_0a5c8_row4_col5\" class=\"data row4 col5\" >119.93</td>\n",
       "    </tr>\n",
       "    <tr>\n",
       "      <th id=\"T_0a5c8_level0_row5\" class=\"row_heading level0 row5\" >5</th>\n",
       "      <td id=\"T_0a5c8_row5_col0\" class=\"data row5 col0\" >multi-qa-mpnet-base-dot-v1</td>\n",
       "      <td id=\"T_0a5c8_row5_col1\" class=\"data row5 col1\" >Изначальный</td>\n",
       "      <td id=\"T_0a5c8_row5_col2\" class=\"data row5 col2\" >95.24%</td>\n",
       "      <td id=\"T_0a5c8_row5_col3\" class=\"data row5 col3\" >88.55%</td>\n",
       "      <td id=\"T_0a5c8_row5_col4\" class=\"data row5 col4\" >89.37%</td>\n",
       "      <td id=\"T_0a5c8_row5_col5\" class=\"data row5 col5\" >647.01</td>\n",
       "    </tr>\n",
       "    <tr>\n",
       "      <th id=\"T_0a5c8_level0_row6\" class=\"row_heading level0 row6\" >6</th>\n",
       "      <td id=\"T_0a5c8_row6_col0\" class=\"data row6 col0\" >all-distilroberta-v1</td>\n",
       "      <td id=\"T_0a5c8_row6_col1\" class=\"data row6 col1\" >Изначальный</td>\n",
       "      <td id=\"T_0a5c8_row6_col2\" class=\"data row6 col2\" >94.78%</td>\n",
       "      <td id=\"T_0a5c8_row6_col3\" class=\"data row6 col3\" >87.23%</td>\n",
       "      <td id=\"T_0a5c8_row6_col4\" class=\"data row6 col4\" >88.05%</td>\n",
       "      <td id=\"T_0a5c8_row6_col5\" class=\"data row6 col5\" >301.65</td>\n",
       "    </tr>\n",
       "    <tr>\n",
       "      <th id=\"T_0a5c8_level0_row7\" class=\"row_heading level0 row7\" >7</th>\n",
       "      <td id=\"T_0a5c8_row7_col0\" class=\"data row7 col0\" >paraphrase-multilingual-mpnet-base-v2</td>\n",
       "      <td id=\"T_0a5c8_row7_col1\" class=\"data row7 col1\" >Изначальный</td>\n",
       "      <td id=\"T_0a5c8_row7_col2\" class=\"data row7 col2\" >91.96%</td>\n",
       "      <td id=\"T_0a5c8_row7_col3\" class=\"data row7 col3\" >84.95%</td>\n",
       "      <td id=\"T_0a5c8_row7_col4\" class=\"data row7 col4\" >85.82%</td>\n",
       "      <td id=\"T_0a5c8_row7_col5\" class=\"data row7 col5\" >601.49</td>\n",
       "    </tr>\n",
       "    <tr>\n",
       "      <th id=\"T_0a5c8_level0_row8\" class=\"row_heading level0 row8\" >8</th>\n",
       "      <td id=\"T_0a5c8_row8_col0\" class=\"data row8 col0\" >multi-qa-distilbert-cos-v1</td>\n",
       "      <td id=\"T_0a5c8_row8_col1\" class=\"data row8 col1\" >Предобработаный</td>\n",
       "      <td id=\"T_0a5c8_row8_col2\" class=\"data row8 col2\" >92.91%</td>\n",
       "      <td id=\"T_0a5c8_row8_col3\" class=\"data row8 col3\" >83.69%</td>\n",
       "      <td id=\"T_0a5c8_row8_col4\" class=\"data row8 col4\" >84.59%</td>\n",
       "      <td id=\"T_0a5c8_row8_col5\" class=\"data row8 col5\" >239.22</td>\n",
       "    </tr>\n",
       "    <tr>\n",
       "      <th id=\"T_0a5c8_level0_row9\" class=\"row_heading level0 row9\" >9</th>\n",
       "      <td id=\"T_0a5c8_row9_col0\" class=\"data row9 col0\" >all-MiniLM-L6-v2</td>\n",
       "      <td id=\"T_0a5c8_row9_col1\" class=\"data row9 col1\" >Предобработаный</td>\n",
       "      <td id=\"T_0a5c8_row9_col2\" class=\"data row9 col2\" >93.27%</td>\n",
       "      <td id=\"T_0a5c8_row9_col3\" class=\"data row9 col3\" >83.41%</td>\n",
       "      <td id=\"T_0a5c8_row9_col4\" class=\"data row9 col4\" >84.27%</td>\n",
       "      <td id=\"T_0a5c8_row9_col5\" class=\"data row9 col5\" >133.37</td>\n",
       "    </tr>\n",
       "    <tr>\n",
       "      <th id=\"T_0a5c8_level0_row10\" class=\"row_heading level0 row10\" >10</th>\n",
       "      <td id=\"T_0a5c8_row10_col0\" class=\"data row10 col0\" >all-MiniLM-L12-v2</td>\n",
       "      <td id=\"T_0a5c8_row10_col1\" class=\"data row10 col1\" >Предобработаный</td>\n",
       "      <td id=\"T_0a5c8_row10_col2\" class=\"data row10 col2\" >92.55%</td>\n",
       "      <td id=\"T_0a5c8_row10_col3\" class=\"data row10 col3\" >83.05%</td>\n",
       "      <td id=\"T_0a5c8_row10_col4\" class=\"data row10 col4\" >83.87%</td>\n",
       "      <td id=\"T_0a5c8_row10_col5\" class=\"data row10 col5\" >265.13</td>\n",
       "    </tr>\n",
       "    <tr>\n",
       "      <th id=\"T_0a5c8_level0_row11\" class=\"row_heading level0 row11\" >11</th>\n",
       "      <td id=\"T_0a5c8_row11_col0\" class=\"data row11 col0\" >multi-qa-MiniLM-L6-cos-v1</td>\n",
       "      <td id=\"T_0a5c8_row11_col1\" class=\"data row11 col1\" >Предобработаный</td>\n",
       "      <td id=\"T_0a5c8_row11_col2\" class=\"data row11 col2\" >92.41%</td>\n",
       "      <td id=\"T_0a5c8_row11_col3\" class=\"data row11 col3\" >82.88%</td>\n",
       "      <td id=\"T_0a5c8_row11_col4\" class=\"data row11 col4\" >83.67%</td>\n",
       "      <td id=\"T_0a5c8_row11_col5\" class=\"data row11 col5\" >181.84</td>\n",
       "    </tr>\n",
       "    <tr>\n",
       "      <th id=\"T_0a5c8_level0_row12\" class=\"row_heading level0 row12\" >12</th>\n",
       "      <td id=\"T_0a5c8_row12_col0\" class=\"data row12 col0\" >paraphrase-MiniLM-L3-v2</td>\n",
       "      <td id=\"T_0a5c8_row12_col1\" class=\"data row12 col1\" >Изначальный</td>\n",
       "      <td id=\"T_0a5c8_row12_col2\" class=\"data row12 col2\" >92.16%</td>\n",
       "      <td id=\"T_0a5c8_row12_col3\" class=\"data row12 col3\" >82.24%</td>\n",
       "      <td id=\"T_0a5c8_row12_col4\" class=\"data row12 col4\" >83.21%</td>\n",
       "      <td id=\"T_0a5c8_row12_col5\" class=\"data row12 col5\" >70.26</td>\n",
       "    </tr>\n",
       "    <tr>\n",
       "      <th id=\"T_0a5c8_level0_row13\" class=\"row_heading level0 row13\" >13</th>\n",
       "      <td id=\"T_0a5c8_row13_col0\" class=\"data row13 col0\" >all-distilroberta-v1</td>\n",
       "      <td id=\"T_0a5c8_row13_col1\" class=\"data row13 col1\" >Предобработаный</td>\n",
       "      <td id=\"T_0a5c8_row13_col2\" class=\"data row13 col2\" >91.63%</td>\n",
       "      <td id=\"T_0a5c8_row13_col3\" class=\"data row13 col3\" >81.60%</td>\n",
       "      <td id=\"T_0a5c8_row13_col4\" class=\"data row13 col4\" >82.50%</td>\n",
       "      <td id=\"T_0a5c8_row13_col5\" class=\"data row13 col5\" >231.91</td>\n",
       "    </tr>\n",
       "    <tr>\n",
       "      <th id=\"T_0a5c8_level0_row14\" class=\"row_heading level0 row14\" >14</th>\n",
       "      <td id=\"T_0a5c8_row14_col0\" class=\"data row14 col0\" >paraphrase-multilingual-mpnet-base-v2</td>\n",
       "      <td id=\"T_0a5c8_row14_col1\" class=\"data row14 col1\" >Предобработаный</td>\n",
       "      <td id=\"T_0a5c8_row14_col2\" class=\"data row14 col2\" >89.79%</td>\n",
       "      <td id=\"T_0a5c8_row14_col3\" class=\"data row14 col3\" >80.78%</td>\n",
       "      <td id=\"T_0a5c8_row14_col4\" class=\"data row14 col4\" >81.79%</td>\n",
       "      <td id=\"T_0a5c8_row14_col5\" class=\"data row14 col5\" >493.40</td>\n",
       "    </tr>\n",
       "    <tr>\n",
       "      <th id=\"T_0a5c8_level0_row15\" class=\"row_heading level0 row15\" >15</th>\n",
       "      <td id=\"T_0a5c8_row15_col0\" class=\"data row15 col0\" >all-mpnet-base-v2</td>\n",
       "      <td id=\"T_0a5c8_row15_col1\" class=\"data row15 col1\" >Предобработаный</td>\n",
       "      <td id=\"T_0a5c8_row15_col2\" class=\"data row15 col2\" >91.07%</td>\n",
       "      <td id=\"T_0a5c8_row15_col3\" class=\"data row15 col3\" >80.77%</td>\n",
       "      <td id=\"T_0a5c8_row15_col4\" class=\"data row15 col4\" >81.75%</td>\n",
       "      <td id=\"T_0a5c8_row15_col5\" class=\"data row15 col5\" >457.85</td>\n",
       "    </tr>\n",
       "    <tr>\n",
       "      <th id=\"T_0a5c8_level0_row16\" class=\"row_heading level0 row16\" >16</th>\n",
       "      <td id=\"T_0a5c8_row16_col0\" class=\"data row16 col0\" >multi-qa-mpnet-base-dot-v1</td>\n",
       "      <td id=\"T_0a5c8_row16_col1\" class=\"data row16 col1\" >Предобработаный</td>\n",
       "      <td id=\"T_0a5c8_row16_col2\" class=\"data row16 col2\" >90.34%</td>\n",
       "      <td id=\"T_0a5c8_row16_col3\" class=\"data row16 col3\" >80.60%</td>\n",
       "      <td id=\"T_0a5c8_row16_col4\" class=\"data row16 col4\" >81.64%</td>\n",
       "      <td id=\"T_0a5c8_row16_col5\" class=\"data row16 col5\" >513.54</td>\n",
       "    </tr>\n",
       "    <tr>\n",
       "      <th id=\"T_0a5c8_level0_row17\" class=\"row_heading level0 row17\" >17</th>\n",
       "      <td id=\"T_0a5c8_row17_col0\" class=\"data row17 col0\" >paraphrase-MiniLM-L3-v2</td>\n",
       "      <td id=\"T_0a5c8_row17_col1\" class=\"data row17 col1\" >Предобработаный</td>\n",
       "      <td id=\"T_0a5c8_row17_col2\" class=\"data row17 col2\" >90.71%</td>\n",
       "      <td id=\"T_0a5c8_row17_col3\" class=\"data row17 col3\" >79.94%</td>\n",
       "      <td id=\"T_0a5c8_row17_col4\" class=\"data row17 col4\" >80.94%</td>\n",
       "      <td id=\"T_0a5c8_row17_col5\" class=\"data row17 col5\" >80.79</td>\n",
       "    </tr>\n",
       "  </tbody>\n",
       "</table>\n"
      ],
      "text/plain": [
       "<pandas.io.formats.style.Styler at 0x195bd527940>"
      ]
     },
     "metadata": {},
     "output_type": "display_data"
    },
    {
     "name": "stdout",
     "output_type": "stream",
     "text": [
      "CPU times: total: 62.5 ms\n",
      "Wall time: 88 ms\n"
     ]
    }
   ],
   "source": [
    "%%time\n",
    "%%chime\n",
    "\n",
    "model_names = [ 'all-MiniLM-L6-v2',\n",
    "                'paraphrase-MiniLM-L3-v2',\n",
    "                'all-MiniLM-L12-v2',\n",
    "                'multi-qa-MiniLM-L6-cos-v1',\n",
    "                'paraphrase-multilingual-mpnet-base-v2',\n",
    "                'all-distilroberta-v1',\n",
    "                'multi-qa-distilbert-cos-v1',\n",
    "                'multi-qa-mpnet-base-dot-v1',\n",
    "                'all-mpnet-base-v2'\n",
    "                ]\n",
    "\n",
    "metrics_cols = ['Accuracy@5','MMR@5','DCG@5']\n",
    "\n",
    "try:\n",
    "    metrics = metrics.dropna()\n",
    "    counter = metrics.shape[0]+1\n",
    "except:\n",
    "    try:\n",
    "        metrics = pd.read_csv(DIR+'metrics.csv').dropna()\n",
    "        counter = metrics.shape[0]+1\n",
    "    except:\n",
    "        metrics = pd.DataFrame(columns=['model','text_type'])\n",
    "        counter = 0\n",
    "    \n",
    "\n",
    "for text_type in ['Изначальный', 'Предобработаный']:\n",
    "    for model_name in model_names:\n",
    "\n",
    "        if (metrics.shape[0] == 0 or\n",
    "            model_name+text_type not in (metrics.model + metrics.text_type).to_list()):\n",
    "\n",
    "            metrics.loc[counter,'model'] = model_name\n",
    "            metrics.loc[counter,'text_type'] = text_type\n",
    "            \n",
    "            if text_type == 'Изначальный':\n",
    "                text_cols=['question_1', 'question_2']\n",
    "            else:\n",
    "                text_cols=['processed_question_1','processed_question_2']\n",
    "\n",
    "            start = time.time()\n",
    "            accuracy, mrr, dcg = evaluate_SentenceTransformer(model_name, train_df, text_cols)\n",
    "            end = time.time()\n",
    "\n",
    "            metrics.loc[counter,'Accuracy@5'] = round(accuracy, 4)\n",
    "            metrics.loc[counter,'MMR@5'] = round(mrr, 4)\n",
    "            metrics.loc[counter,'DCG@5'] = round(dcg, 4)\n",
    "            metrics.loc[counter,'time'] = round(end-start, 4)\n",
    "\n",
    "            counter +=1\n",
    "            \n",
    "            metrics_colored = colorize_metrics_df(metrics)\n",
    "\n",
    "            display(metrics_colored, clear = True)\n",
    "\n",
    "        else:\n",
    "            metrics_colored = colorize_metrics_df(metrics)\n",
    "            pass\n",
    "\n",
    "display(metrics_colored, clear = True)"
   ]
  },
  {
   "cell_type": "code",
   "execution_count": 14,
   "metadata": {},
   "outputs": [],
   "source": [
    "metrics.to_csv(DIR+'metrics.csv', index = False)"
   ]
  },
  {
   "cell_type": "markdown",
   "metadata": {},
   "source": [
    "**Наблюдения:**\n",
    "* **Все модели SentenceTransformer показали более высокое качество по всем метрикам чем дергие модели, рассмотренные в этом проекте.** При этом скорость работы этих моделей значительно ниже, но так как для данной задачи скорость работы всё ранво остаётся в пределах нормы, то выбор лучшей модели будет осуществляться среди моделей SentenceTransformer.\n",
    "* ***Модель all-mpnet-base-v2 показала наилучшую точность (Accuracy@5) как на исходных, так и на предобработанных данных. Точность на исходных данных - 96.82%*** Это говорит о том, что эта модель хорошо подходит для нашей задачи поиска похожих вопросов.\n",
    "* ***Предобработка текста не привела к улучшению точности.*** В большинстве случаях, точность даже немного снизилась. Это может быть связано с тем, что предобработка удаляет некоторую информацию, которая может быть полезна для модели.\n",
    "* ***Модели среднего размера (all-MiniLM-L6-v2, all-MiniLM-L12-v2) также показали хорошую точность. Они могут быть хорошим выбором, если важна скорость работы.***\n",
    "* *Модели, специально обученные для задач Question Answering (multi-qa-MiniLM-L6-cos-v1, multi-qa-distilbert-cos-v1, multi-qa-mpnet-base-dot-v1), показали немного худшую точность, чем all-mpnet-base-v2, all-MiniLM-L6-v2 и all-MiniLM-L12-v2.*\n",
    "* Метрики `MMR@5`и`DCG@5` на уровене 90%+ (0.9+) указывают на то что в большинстве случаев модель ранжирует правильный вопрос на первое место и реже на второе и ниже.\n",
    "\n",
    "**Выбор модели:**\n",
    "- Для дальнейшей разработки я буду использовать модель **`all-MiniLM-L6-v2`**, которая показала почти такой же результат (точность 96.36%) что и `all-mpnet-base-v2`, но при этом работает почти в 6 раз быстрее."
   ]
  },
  {
   "cell_type": "markdown",
   "metadata": {},
   "source": [
    "## Fine-tuning модели SentenceTransformers"
   ]
  },
  {
   "cell_type": "code",
   "execution_count": 12,
   "metadata": {},
   "outputs": [],
   "source": [
    "best = 'all-MiniLM-L6-v2'"
   ]
  },
  {
   "cell_type": "code",
   "execution_count": 18,
   "metadata": {},
   "outputs": [],
   "source": [
    "def print_metrics(idx2emd, gt, n = 5):\n",
    "    \"\"\"\n",
    "    Печатет метрики модели.\n",
    "\n",
    "    Args:\n",
    "        idx2emd (dict): Словарь с индекс-эмбеддингами.\n",
    "        gt (dict): Словарь с ground truth.\n",
    "        n (int): Число, обозначающее N. По умолчанию - 5.\n",
    "\n",
    "    Returns:\n",
    "        Ничего не вовзращает, только печетает.\n",
    "        Для получения метрик нужно использовать функцию evaluate_model().\n",
    "    \"\"\"\n",
    "    \n",
    "\n",
    "    # Вызов функции и evaluate_model\n",
    "    accuracy, mrr, dcg = evaluate_model(idx2emd, gt, n)\n",
    "\n",
    "    # Печать результатов\n",
    "    print(f\"Accuracy@{n}: {accuracy:.4f}\")\n",
    "    print(f\"MRR@{n}: {mrr:.4f}\")\n",
    "    print(f\"DCG@{n}: {dcg:.4f}\")"
   ]
  },
  {
   "cell_type": "code",
   "execution_count": 31,
   "metadata": {},
   "outputs": [],
   "source": [
    "# Создание списка InputExample\n",
    "train_data = []\n",
    "for index, row in train_df.iterrows():\n",
    "    train_data.append(InputExample(texts=[row['question_1'], row['question_2']], label=float(row['label'])))\n",
    "\n",
    "# Создание DataLoader\n",
    "train_dataloader = DataLoader(train_data, shuffle=True, batch_size=16)"
   ]
  },
  {
   "cell_type": "code",
   "execution_count": 32,
   "metadata": {},
   "outputs": [
    {
     "data": {
      "application/vnd.jupyter.widget-view+json": {
       "model_id": "f283633df28f45d9bc406534512f2b55",
       "version_major": 2,
       "version_minor": 0
      },
      "text/plain": [
       "Epoch:   0%|          | 0/3 [00:00<?, ?it/s]"
      ]
     },
     "metadata": {},
     "output_type": "display_data"
    },
    {
     "data": {
      "application/vnd.jupyter.widget-view+json": {
       "model_id": "be764951193c47d88a5ddd984ee8b7f1",
       "version_major": 2,
       "version_minor": 0
      },
      "text/plain": [
       "Iteration:   0%|          | 0/191 [00:00<?, ?it/s]"
      ]
     },
     "metadata": {},
     "output_type": "display_data"
    },
    {
     "data": {
      "application/vnd.jupyter.widget-view+json": {
       "model_id": "3ee9f6b5adc648da8a7d9fef200f8b7e",
       "version_major": 2,
       "version_minor": 0
      },
      "text/plain": [
       "Iteration:   0%|          | 0/191 [00:00<?, ?it/s]"
      ]
     },
     "metadata": {},
     "output_type": "display_data"
    },
    {
     "data": {
      "application/vnd.jupyter.widget-view+json": {
       "model_id": "4a6c645179bc46fc97853f873fd3ff87",
       "version_major": 2,
       "version_minor": 0
      },
      "text/plain": [
       "Iteration:   0%|          | 0/191 [00:00<?, ?it/s]"
      ]
     },
     "metadata": {},
     "output_type": "display_data"
    },
    {
     "name": "stdout",
     "output_type": "stream",
     "text": [
      "CPU times: total: 56min\n",
      "Wall time: 19min 49s\n"
     ]
    }
   ],
   "source": [
    "%%time\n",
    "%%chime\n",
    "\n",
    "# Создание объекта SentenceTransformer\n",
    "tuned_CosSim_model = SentenceTransformer(best)\n",
    "\n",
    "# Определение loss-функции\n",
    "train_loss = losses.CosineSimilarityLoss(tuned_CosSim_model)\n",
    "\n",
    "# Fine-tuning модели\n",
    "tuned_CosSim_model.fit(train_objectives=[(train_dataloader, train_loss)],\n",
    "                                        epochs=3)"
   ]
  },
  {
   "cell_type": "code",
   "execution_count": 33,
   "metadata": {},
   "outputs": [
    {
     "name": "stdout",
     "output_type": "stream",
     "text": [
      "Accuracy@5: 0.9242\n",
      "MRR@5: 0.8572\n",
      "DCG@5: 0.8657\n"
     ]
    }
   ],
   "source": [
    "idx2emd, _, _, gt = create_index(train_df, tuned_CosSim_model, text_cols = ['question_1','question_2'])\n",
    "\n",
    "print_metrics(idx2emd, gt, 5)"
   ]
  },
  {
   "cell_type": "markdown",
   "metadata": {},
   "source": [
    "* **Метрики ухудшились, попробую использовать другую loss-функцию - `TripletLoss`**"
   ]
  },
  {
   "cell_type": "code",
   "execution_count": 26,
   "metadata": {},
   "outputs": [],
   "source": [
    "def create_triplets(df, triplet_type = 'InputExample'):\n",
    "    \"\"\"\n",
    "    Создает триплеты данных для TripletLoss.\n",
    "\n",
    "    Args:\n",
    "        df (pd.DataFrame): DataFrame с вопросами и метками.\n",
    "\n",
    "    Returns:\n",
    "        list: Список объектов InputExample.\n",
    "    \"\"\"\n",
    "    triplets = []\n",
    "\n",
    "    for anchor in train_df.question_1.unique():\n",
    "        for positive in train_df.query('label == 1').loc[train_df['question_1']==anchor,'question_2'].to_list():\n",
    "            for negative in train_df.query('label == 0').loc[train_df['question_1']==anchor,'question_2'].to_list():\n",
    "            \n",
    "                if triplet_type == 'InputExample':\n",
    "                    triplets.append(InputExample(texts=[anchor, positive, negative]))\n",
    "                    \n",
    "                elif triplet_type =='tuple':\n",
    "                    triplets.append((anchor, positive, negative))\n",
    "                \n",
    "    return triplets"
   ]
  },
  {
   "cell_type": "code",
   "execution_count": 27,
   "metadata": {},
   "outputs": [],
   "source": [
    "def evaluate_triplets(triplets, model):\n",
    "    \"\"\"\n",
    "    Оценивает модель SentenceTransformer на триплетах данных.\n",
    "\n",
    "    Args:\n",
    "        triplets (list): Список триплетов (anchor, positive, negative).\n",
    "        model (SentenceTransformer): Объект SentenceTransformer.\n",
    "\n",
    "    Returns:\n",
    "        float: Доля правильно классифицированных триплетов.\n",
    "    \"\"\"\n",
    "    correct = 0\n",
    "    for anchor, positive, negative in triplets:\n",
    "        \n",
    "        # Векторизация предложений\n",
    "        anchor_embedding = model.encode(anchor)\n",
    "        positive_embedding = model.encode(positive)\n",
    "        negative_embedding = model.encode(negative)\n",
    "\n",
    "        # Вычисление расстояний\n",
    "        positive_distance = cosine_similarity(anchor_embedding.reshape(1, -1), positive_embedding.reshape(1, -1))[0][0]\n",
    "        negative_distance = cosine_similarity(anchor_embedding.reshape(1, -1), negative_embedding.reshape(1, -1))[0][0]\n",
    "\n",
    "        # Проверка условия\n",
    "        if positive_distance > negative_distance:\n",
    "            correct += 1\n",
    "\n",
    "    return correct / len(triplets)"
   ]
  },
  {
   "cell_type": "code",
   "execution_count": 34,
   "metadata": {},
   "outputs": [
    {
     "data": {
      "application/vnd.jupyter.widget-view+json": {
       "model_id": "95d93e599e294c699598b85d31926c7d",
       "version_major": 2,
       "version_minor": 0
      },
      "text/plain": [
       "Epoch:   0%|          | 0/3 [00:00<?, ?it/s]"
      ]
     },
     "metadata": {},
     "output_type": "display_data"
    },
    {
     "data": {
      "application/vnd.jupyter.widget-view+json": {
       "model_id": "4f7899566bb848828577310d22cd3b09",
       "version_major": 2,
       "version_minor": 0
      },
      "text/plain": [
       "Iteration:   0%|          | 0/96 [00:00<?, ?it/s]"
      ]
     },
     "metadata": {},
     "output_type": "display_data"
    },
    {
     "data": {
      "application/vnd.jupyter.widget-view+json": {
       "model_id": "121beda410204d7581b3f52418b58fac",
       "version_major": 2,
       "version_minor": 0
      },
      "text/plain": [
       "Iteration:   0%|          | 0/96 [00:00<?, ?it/s]"
      ]
     },
     "metadata": {},
     "output_type": "display_data"
    },
    {
     "data": {
      "application/vnd.jupyter.widget-view+json": {
       "model_id": "fcb591e2eb234de89234bcc9f92e029f",
       "version_major": 2,
       "version_minor": 0
      },
      "text/plain": [
       "Iteration:   0%|          | 0/96 [00:00<?, ?it/s]"
      ]
     },
     "metadata": {},
     "output_type": "display_data"
    },
    {
     "name": "stdout",
     "output_type": "stream",
     "text": [
      "Accuracy@5: 0.3320\n",
      "MRR@5: 0.2687\n",
      "DCG@5: 0.2805\n",
      "CPU times: total: 46min 27s\n",
      "Wall time: 16min 29s\n"
     ]
    }
   ],
   "source": [
    "%%time\n",
    "%%chime\n",
    "\n",
    "# Создание триплетов данных\n",
    "train_triplets = create_triplets(train_df)\n",
    "\n",
    "# Создание DataLoader\n",
    "train_dataloader = DataLoader(train_triplets, shuffle=True, batch_size=16)\n",
    "\n",
    "# Создание объекта SentenceTransformer\n",
    "tuned_TripletLoss_model = SentenceTransformer(best)\n",
    "\n",
    "# Определение loss-функции\n",
    "train_loss = losses.TripletLoss(model=tuned_TripletLoss_model)\n",
    "\n",
    "# Fine-tuning модели\n",
    "tuned_TripletLoss_model.fit(train_objectives=[(train_dataloader, train_loss)], \n",
    "                            epochs=3, \n",
    "                            warmup_steps=100\n",
    "                            )\n",
    "\n",
    "# Оценка качества модели\n",
    "idx2emd, _, _, gt = create_index(train_df, tuned_TripletLoss_model,\n",
    "                                text_cols = ['question_1','question_2'])\n",
    "\n",
    "print_metrics(idx2emd, gt, 5)"
   ]
  },
  {
   "cell_type": "code",
   "execution_count": 40,
   "metadata": {},
   "outputs": [
    {
     "name": "stdout",
     "output_type": "stream",
     "text": [
      "Базовая модель AccuracyTriplet: 94.82%\n",
      "tuned_CosSim_model AccuracyTriplet: 96.39%\n",
      "tuned_TripletLoss_model AccuracyTriplet: 89.83%\n"
     ]
    }
   ],
   "source": [
    "tuple_train_triplets = create_triplets(train_df, triplet_type='tuple')\n",
    "\n",
    "base_model = SentenceTransformer(best)\n",
    "\n",
    "models = [base_model, tuned_CosSim_model, tuned_TripletLoss_model]\n",
    "names = ['Базовая модель', 'tuned_CosSim_model', 'tuned_TripletLoss_model']\n",
    "\n",
    "for model, name in zip(models,names):\n",
    "    AccuracyTriplet =  evaluate_triplets(tuple_train_triplets, model)\n",
    "\n",
    "    print(f'{name} AccuracyTriplet: {AccuracyTriplet:.2%}')"
   ]
  },
  {
   "cell_type": "markdown",
   "metadata": {},
   "source": [
    "* **Базовая модель без дообучения показывает более высокую метрику `AccuracyTriplet` и значительно лучшие показатели целевых метрик `Accuracy@5, MRR@5, DCG@5`, чем модель дообученная с помощью `TripletLoss`***\n",
    "* **Базовая модель уступает по метрике `AccuracyTriplet` модели дообученой с помощью `CosineSimilarityLoss`, но показывает лучшие показатели целевых метрик `Accuracy@5, MRR@5, DCG@5`**, это означает что дообученная модель правильнее расставляет приоритеты этих вопросов относительно друг-друга, но правильный вопрос реже попадает в топ-5 и оказывается на первых местах.\n",
    "\n",
    "* В будущем можно попробовать использовать MarginRankingLoss и MultipleNegativesRankingLoss которые подходят для оптимизации MRR@5 и DCG@5, так как они направлены на улучшение ранжирования примеров.\n",
    "\n",
    "* ***Для построения приложения и микро-сервиса принято решение использовать базовую предобученую модель SentenceTransformer `all-MiniLM-L6-v2`.***\n",
    "\n",
    "*AccuracyTriplet - доля правильно классифицированных триплетов. Правильно классифицированный триплет - триплет в котором косиносовое сходство между между заданным вопросом и истинным схожим больше чем с неправильным.\n",
    "\n",
    ".\n",
    "\n",
    "Рассмотрим примеры выдачи топ-5 схожих вопросов и заодно сохраним получившиеся эмбеддинги."
   ]
  },
  {
   "cell_type": "code",
   "execution_count": 114,
   "metadata": {},
   "outputs": [
    {
     "name": "stdout",
     "output_type": "stream",
     "text": [
      "Вопрос:\n"
     ]
    },
    {
     "data": {
      "text/plain": [
       "\"Is there a way for my husband to find out if I'm a virgin or not?\""
      ]
     },
     "metadata": {},
     "output_type": "display_data"
    },
    {
     "name": "stdout",
     "output_type": "stream",
     "text": [
      "Предсказанные похожие вопросы:\n"
     ]
    },
    {
     "data": {
      "text/plain": [
       "['Is it possible for my hubby to know whether I am a virgin or not?',\n",
       " 'I am a virgin and never had an intercourse. Can I get STDS?',\n",
       " 'My BF fingered me, and I think his hands might have had some dried sperm, could I be pregnant?',\n",
       " 'How do I know if I have STDs?',\n",
       " \"Does a woman's virgina itch if she has sex with a man who has prostate problems?\"]"
      ]
     },
     "metadata": {},
     "output_type": "display_data"
    },
    {
     "name": "stdout",
     "output_type": "stream",
     "text": [
      "Истинный похожий вопрос:\n"
     ]
    },
    {
     "data": {
      "text/plain": [
       "['Is it possible for my hubby to know whether I am a virgin or not?']"
      ]
     },
     "metadata": {},
     "output_type": "display_data"
    },
    {
     "name": "stdout",
     "output_type": "stream",
     "text": [
      "------------------------------------------\n",
      "Вопрос:\n"
     ]
    },
    {
     "data": {
      "text/plain": [
       "\"I've got a bench with a barbell, dumbbells, pull up bar, and a treadmill, what are some workouts i could do to gain muscle?\""
      ]
     },
     "metadata": {},
     "output_type": "display_data"
    },
    {
     "name": "stdout",
     "output_type": "stream",
     "text": [
      "Предсказанные похожие вопросы:\n"
     ]
    },
    {
     "data": {
      "text/plain": [
       "['Could you give me some tips for muscle gain while at the gym? Any specific exercises?',\n",
       " 'What can I use to improve my muscle strength?',\n",
       " 'I am 19 yrs old and how can I do a good body workout?',\n",
       " 'What foods can help us build our muscle mass while keeping the fat down?',\n",
       " 'I have been gaining weight and what can help to make my body fit?']"
      ]
     },
     "metadata": {},
     "output_type": "display_data"
    },
    {
     "name": "stdout",
     "output_type": "stream",
     "text": [
      "Истинный похожий вопрос:\n"
     ]
    },
    {
     "data": {
      "text/plain": [
       "['Could you give me some tips for muscle gain while at the gym? Any specific exercises?']"
      ]
     },
     "metadata": {},
     "output_type": "display_data"
    },
    {
     "name": "stdout",
     "output_type": "stream",
     "text": [
      "------------------------------------------\n",
      "Вопрос:\n"
     ]
    },
    {
     "data": {
      "text/plain": [
       "\"I got my period twice within 3 weeks, for the second time within 4 months. Why? I haven't been stressed or changed my exercise plan or diet recently..\""
      ]
     },
     "metadata": {},
     "output_type": "display_data"
    },
    {
     "name": "stdout",
     "output_type": "stream",
     "text": [
      "Предсказанные похожие вопросы:\n"
     ]
    },
    {
     "data": {
      "text/plain": [
       "[\"I am a 19 y/o woman who regularly exercises and has a balanced diet. I take multivitamins too. Not sexually active, not on any medications. Lately, my period has been more frequent. This is the 4th month since when it started. I'm a little worried.\",\n",
       " 'Got period twice in last month. Can I be pregnant?',\n",
       " 'My period has lately been quite frequent, literally every 2 weeks. The bleeding has also been quite heavy. What do you think is going on?',\n",
       " 'Can stress cause the period to last shorter? Or am I pregnant?',\n",
       " 'Does getting period twice in a month means pregnancy?']"
      ]
     },
     "metadata": {},
     "output_type": "display_data"
    },
    {
     "name": "stdout",
     "output_type": "stream",
     "text": [
      "Истинный похожий вопрос:\n"
     ]
    },
    {
     "data": {
      "text/plain": [
       "[\"I am a 19 y/o woman who regularly exercises and has a balanced diet. I take multivitamins too. Not sexually active, not on any medications. Lately, my period has been more frequent. This is the 4th month since when it started. I'm a little worried.\"]"
      ]
     },
     "metadata": {},
     "output_type": "display_data"
    },
    {
     "name": "stdout",
     "output_type": "stream",
     "text": [
      "------------------------------------------\n",
      "Вопрос:\n"
     ]
    },
    {
     "data": {
      "text/plain": [
       "'I recently lost my job and the love of my life. The RN who saw me yesterday said I have high blood pressure. Will I be diagnosed with depression?'"
      ]
     },
     "metadata": {},
     "output_type": "display_data"
    },
    {
     "name": "stdout",
     "output_type": "stream",
     "text": [
      "Предсказанные похожие вопросы:\n"
     ]
    },
    {
     "data": {
      "text/plain": [
       "['What to do if I have hypertension, depression of lost love, completely broke. what to do?',\n",
       " 'I lost my closed one in an accident recently and I feel very low, tired of life, distressed. I am not able to sleep well at night and I feel drowsy at work, that disturbs my routine life. I gained weight as well and I think of commiting suicide sometimes. Do I have major depression?',\n",
       " 'Feeling down, tired of life, distressed, some sleep disturbances during working days, some weight gain and have rare suicidal ideation. Am I depressed?',\n",
       " \"I'm currently on medications for bipolar disorder but I don't think I have it. I have depressed mood most of the times and excessive crying for no reason. Is it possible I'm just going through depression?\",\n",
       " 'Do you think I need to see my local doctor for BP 144/101 mmhg?']"
      ]
     },
     "metadata": {},
     "output_type": "display_data"
    },
    {
     "name": "stdout",
     "output_type": "stream",
     "text": [
      "Истинный похожий вопрос:\n"
     ]
    },
    {
     "data": {
      "text/plain": [
       "['What to do if I have hypertension, depression of lost love, completely broke. what to do?']"
      ]
     },
     "metadata": {},
     "output_type": "display_data"
    },
    {
     "name": "stdout",
     "output_type": "stream",
     "text": [
      "------------------------------------------\n"
     ]
    }
   ],
   "source": [
    "N = 5\n",
    "\n",
    "idx2emd, idx2sen, sen2idx, gt = create_index(train_df, base_model,\n",
    "                                             text_cols=['question_1', 'question_2'],\n",
    "                                             dump_pkl=True)\n",
    "\n",
    "# Получение предсказаний (матрица top_n_idx)\n",
    "_, _, _, top_n_idx = evaluate_model(idx2emd, gt, return_top_n_idx=True)  # Нам нужна только матрица top_n_idx\n",
    "\n",
    "# Анализ предложенных вопросов\n",
    "for i in range(len(top_n_idx[:N+1])):\n",
    "    predicted_indices = top_n_idx[i,1:]\n",
    "    true_indices = gt.get(i, [])\n",
    "    if set(predicted_indices).intersection(set(true_indices)):\n",
    "        print(\"Вопрос:\")\n",
    "        display(idx2sen[i])\n",
    "        print(\"Предсказанные похожие вопросы:\")\n",
    "        display([idx2sen[j] for j in predicted_indices])\n",
    "        print(\"Истинный похожий вопрос:\")\n",
    "        display([idx2sen[j] for j in true_indices])\n",
    "        print(\"------------------------------------------\") "
   ]
  },
  {
   "cell_type": "markdown",
   "metadata": {},
   "source": [
    "Видно, что модель и правда ставит истинный похожий вопрос на 1-2 позицию."
   ]
  },
  {
   "cell_type": "markdown",
   "metadata": {},
   "source": [
    "## Сохранение лучшей модели"
   ]
  },
  {
   "cell_type": "code",
   "execution_count": 14,
   "metadata": {},
   "outputs": [],
   "source": [
    "base_model.save('model')"
   ]
  },
  {
   "cell_type": "markdown",
   "metadata": {},
   "source": [
    "## Выводы\n",
    "\n",
    "* **Основные выводы:**  В ходе проекта были исследованы различные подходы к поиску похожих вопросов,  включая классические модели (Bag-of-Words,  TF-IDF)  и модели на основе глубокого обучения (SentenceTransformers,  Word2Vec,  USE).  Результаты показали,  что модели SentenceTransformers  и USE  обеспечивают наилучшее качество,  а предобработка текста  значительно улучшает качество классических моделей.  Fine-tuning  моделей SentenceTransformers  может как улучшить,  так и ухудшить качество,  в зависимости от выбранной loss-функции  и параметров обучения. \n",
    "\n",
    "\n",
    "* **Дальнейшее развитие:**  Проект может быть развит в следующих направлениях:\n",
    "   * **Использование других моделей:**  Можно попробовать использовать другие модели,  такие как Graph Neural Networks, модели Question Answering или модели Paraphrase Detection.\n",
    "   * **Увеличение размера датасета:**  Обучение моделей на большем датасете может улучшить их качество  и обобщающую способность.\n",
    "   * **Улучшение предобработки текста:**  Можно попробовать использовать более сложные методы предобработки текста,  такие как нормализация,  стемминг  или учет синтаксической структуры предложений.\n",
    "   * **Fine-tuning  моделей:**  Можно провести более глубокое исследование fine-tuning  моделей SentenceTransformers,  экспериментируя с различными loss-функциями,  параметрами обучения  и методами отбора данных. \n",
    "   * **Разработка более сложного интерфейса:**  Можно добавить в приложение Streamlit  возможности фильтрации,  сортировки,  пагинации  и другие функции,  которые улучшат пользовательский опыт.\n",
    "   * **Интеграция с другими сервисами:**  API  FastAPI  может быть интегрирован с другими сервисами,  такими как чат-боты,  системы вопросов-ответов  или поисковые системы. "
   ]
  }
 ],
 "metadata": {
  "kernelspec": {
   "display_name": "ds_practicum_env",
   "language": "python",
   "name": "python3"
  },
  "language_info": {
   "codemirror_mode": {
    "name": "ipython",
    "version": 3
   },
   "file_extension": ".py",
   "mimetype": "text/x-python",
   "name": "python",
   "nbconvert_exporter": "python",
   "pygments_lexer": "ipython3",
   "version": "3.9.17"
  }
 },
 "nbformat": 4,
 "nbformat_minor": 2
}
