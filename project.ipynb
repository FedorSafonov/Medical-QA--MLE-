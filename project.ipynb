{
 "cells": [
  {
   "cell_type": "markdown",
   "metadata": {},
   "source": [
    "# Проект: Сервис поиска похожих вопросов для медицинских форумов\n",
    "\n",
    "## Описание\n",
    "\n",
    "### Цель\n",
    "\n",
    "Целью данного проекта является разработка сервиса для поиска похожих вопросов на медицинских форумах. Сервис поможет удержать пользователей на платформе и увеличить количество просмотров страниц, что в свою очередь повысит эффективность рекламных кампаний и улучшит общие показатели форумов.\n",
    "\n",
    "### Исходные данные\n",
    "\n",
    "Для обучения и тестирования моделей используется датасет \"medical_questions_pairs\" от Hugging Face.  Датасет содержит пары вопросов на английском языке, связанных с медицинской тематикой.\n",
    "\n",
    "### Методы\n",
    "\n",
    "В проекте будут использованы следующие методы и технологии:\n",
    "\n",
    "* Обработка естественного языка (NLP) для анализа и предобработки текстовых данных.\n",
    "* Машинное обучение с использованием различных моделей NLP, таких как Bag-of-Words, TF-IDF, Word2Vec, SentenceTransformers и BERT. \n",
    "* FastAPI для создания микросервиса, предоставляющего функциональность поиска похожих вопросов.\n",
    "* Streamlit для разработки интерактивного веб-приложения для демонстрации работы сервиса.\n",
    "\n",
    "### Метрики оценки\n",
    "\n",
    "Качество матчинга вопросов будет оцениваться с использованием следующих метрик: \n",
    "\n",
    "* Accuracy@5 - `ключевая метрика`\n",
    "* Hits@K\n",
    "* MRR@K (Mean Reciprocal Rank)\n",
    "* DCG@K (Discounted Cumulative Gain)"
   ]
  },
  {
   "cell_type": "markdown",
   "metadata": {},
   "source": [
    "## Импорты"
   ]
  },
  {
   "cell_type": "code",
   "execution_count": 105,
   "metadata": {},
   "outputs": [
    {
     "name": "stdout",
     "output_type": "stream",
     "text": [
      "The chime extension is already loaded. To reload it, use:\n",
      "  %reload_ext chime\n"
     ]
    }
   ],
   "source": [
    "from datasets import load_dataset\n",
    "import pandas as pd\n",
    "import numpy as np\n",
    "import spacy\n",
    "import nltk\n",
    "import matplotlib.pyplot as plt\n",
    "from sklearn.feature_extraction.text import TfidfVectorizer\n",
    "from sklearn.metrics.pairwise import cosine_similarity\n",
    "from skimpy import skim\n",
    "import time\n",
    "import chime\n",
    "from tqdm import tqdm\n",
    "chime.theme('mario')\n",
    "%load_ext chime\n",
    "from sentence_transformers import SentenceTransformer, util\n",
    "from sklearn.metrics.pairwise import cosine_similarity\n",
    "from collections import defaultdict\n",
    "from scipy.spatial.distance import pdist, squareform\n",
    "from pickle import dump\n",
    "\n",
    "plt.style.use('dark_background')"
   ]
  },
  {
   "cell_type": "markdown",
   "metadata": {},
   "source": [
    "## Загрузка и обзор данных"
   ]
  },
  {
   "cell_type": "code",
   "execution_count": 2,
   "metadata": {},
   "outputs": [
    {
     "name": "stdout",
     "output_type": "stream",
     "text": [
      "TRAIN\n",
      "<class 'pandas.core.frame.DataFrame'>\n",
      "RangeIndex: 3048 entries, 0 to 3047\n",
      "Data columns (total 4 columns):\n",
      " #   Column      Non-Null Count  Dtype \n",
      "---  ------      --------------  ----- \n",
      " 0   dr_id       3048 non-null   int64 \n",
      " 1   question_1  3048 non-null   object\n",
      " 2   question_2  3048 non-null   object\n",
      " 3   label       3048 non-null   int64 \n",
      "dtypes: int64(2), object(2)\n",
      "memory usage: 95.4+ KB\n",
      "None\n",
      "-------------------\n",
      "\n",
      "TRAIN\n"
     ]
    },
    {
     "data": {
      "text/html": [
       "<pre style=\"white-space:pre;overflow-x:auto;line-height:normal;font-family:Menlo,'DejaVu Sans Mono',consolas,'Courier New',monospace\">╭──────────────────────────────────────────────── skimpy summary ─────────────────────────────────────────────────╮\n",
       "│ <span style=\"font-style: italic\">         Data Summary         </span> <span style=\"font-style: italic\">      Data Types       </span>                                                          │\n",
       "│ ┏━━━━━━━━━━━━━━━━━━━┳━━━━━━━━┓ ┏━━━━━━━━━━━━━┳━━━━━━━┓                                                          │\n",
       "│ ┃<span style=\"color: #008080; text-decoration-color: #008080; font-weight: bold\"> dataframe         </span>┃<span style=\"color: #008080; text-decoration-color: #008080; font-weight: bold\"> Values </span>┃ ┃<span style=\"color: #008080; text-decoration-color: #008080; font-weight: bold\"> Column Type </span>┃<span style=\"color: #008080; text-decoration-color: #008080; font-weight: bold\"> Count </span>┃                                                          │\n",
       "│ ┡━━━━━━━━━━━━━━━━━━━╇━━━━━━━━┩ ┡━━━━━━━━━━━━━╇━━━━━━━┩                                                          │\n",
       "│ │ Number of rows    │ 3048   │ │ int32       │ 2     │                                                          │\n",
       "│ │ Number of columns │ 4      │ │ string      │ 2     │                                                          │\n",
       "│ └───────────────────┴────────┘ └─────────────┴───────┘                                                          │\n",
       "│ <span style=\"font-style: italic\">                                                    number                                                    </span>  │\n",
       "│ ┏━━━━━━━━━━━━━━━━━━━━━┳━━━━━━━┳━━━━━━━━━━┳━━━━━━━━━━┳━━━━━━━━┳━━━━━━━┳━━━━━━━━┳━━━━━━━━┳━━━━━━━━━┳━━━━━━━━━━━┓  │\n",
       "│ ┃<span style=\"font-weight: bold\"> column_name         </span>┃<span style=\"font-weight: bold\"> NA    </span>┃<span style=\"font-weight: bold\"> NA %     </span>┃<span style=\"font-weight: bold\"> mean     </span>┃<span style=\"font-weight: bold\"> sd     </span>┃<span style=\"font-weight: bold\"> p0    </span>┃<span style=\"font-weight: bold\"> p25    </span>┃<span style=\"font-weight: bold\"> p75    </span>┃<span style=\"font-weight: bold\"> p100    </span>┃<span style=\"font-weight: bold\"> hist      </span>┃  │\n",
       "│ ┡━━━━━━━━━━━━━━━━━━━━━╇━━━━━━━╇━━━━━━━━━━╇━━━━━━━━━━╇━━━━━━━━╇━━━━━━━╇━━━━━━━━╇━━━━━━━━╇━━━━━━━━━╇━━━━━━━━━━━┩  │\n",
       "│ │ <span style=\"color: #af87ff; text-decoration-color: #af87ff\">dr_id              </span> │ <span style=\"color: #008080; text-decoration-color: #008080\">    0</span> │ <span style=\"color: #008080; text-decoration-color: #008080\">       0</span> │ <span style=\"color: #008080; text-decoration-color: #008080\">       6</span> │ <span style=\"color: #008080; text-decoration-color: #008080\">   3.1</span> │ <span style=\"color: #008080; text-decoration-color: #008080\">    1</span> │ <span style=\"color: #008080; text-decoration-color: #008080\">     3</span> │ <span style=\"color: #008080; text-decoration-color: #008080\">     9</span> │ <span style=\"color: #008080; text-decoration-color: #008080\">     11</span> │ <span style=\"color: #008000; text-decoration-color: #008000\"> ██▄███  </span> │  │\n",
       "│ │ <span style=\"color: #af87ff; text-decoration-color: #af87ff\">label              </span> │ <span style=\"color: #008080; text-decoration-color: #008080\">    0</span> │ <span style=\"color: #008080; text-decoration-color: #008080\">       0</span> │ <span style=\"color: #008080; text-decoration-color: #008080\">     0.5</span> │ <span style=\"color: #008080; text-decoration-color: #008080\">   0.5</span> │ <span style=\"color: #008080; text-decoration-color: #008080\">    0</span> │ <span style=\"color: #008080; text-decoration-color: #008080\">     0</span> │ <span style=\"color: #008080; text-decoration-color: #008080\">     1</span> │ <span style=\"color: #008080; text-decoration-color: #008080\">      1</span> │ <span style=\"color: #008000; text-decoration-color: #008000\"> █    █  </span> │  │\n",
       "│ └─────────────────────┴───────┴──────────┴──────────┴────────┴───────┴────────┴────────┴─────────┴───────────┘  │\n",
       "│ <span style=\"font-style: italic\">                                                    string                                                    </span>  │\n",
       "│ ┏━━━━━━━━━━━━━━━━━━━━━━━━━━━┳━━━━━━━━━┳━━━━━━━━━━━━┳━━━━━━━━━━━━━━━━━━━━━━━━━━━━━━┳━━━━━━━━━━━━━━━━━━━━━━━━━━┓  │\n",
       "│ ┃<span style=\"font-weight: bold\"> column_name               </span>┃<span style=\"font-weight: bold\"> NA      </span>┃<span style=\"font-weight: bold\"> NA %       </span>┃<span style=\"font-weight: bold\"> words per row                </span>┃<span style=\"font-weight: bold\"> total words              </span>┃  │\n",
       "│ ┡━━━━━━━━━━━━━━━━━━━━━━━━━━━╇━━━━━━━━━╇━━━━━━━━━━━━╇━━━━━━━━━━━━━━━━━━━━━━━━━━━━━━╇━━━━━━━━━━━━━━━━━━━━━━━━━━┩  │\n",
       "│ │ <span style=\"color: #af87ff; text-decoration-color: #af87ff\">question_1               </span> │ <span style=\"color: #008080; text-decoration-color: #008080\">      0</span> │ <span style=\"color: #008080; text-decoration-color: #008080\">         0</span> │ <span style=\"color: #008080; text-decoration-color: #008080\">                          19</span> │ <span style=\"color: #008080; text-decoration-color: #008080\">                   57264</span> │  │\n",
       "│ │ <span style=\"color: #af87ff; text-decoration-color: #af87ff\">question_2               </span> │ <span style=\"color: #008080; text-decoration-color: #008080\">      0</span> │ <span style=\"color: #008080; text-decoration-color: #008080\">         0</span> │ <span style=\"color: #008080; text-decoration-color: #008080\">                          19</span> │ <span style=\"color: #008080; text-decoration-color: #008080\">                   57264</span> │  │\n",
       "│ └───────────────────────────┴─────────┴────────────┴──────────────────────────────┴──────────────────────────┘  │\n",
       "╰────────────────────────────────────────────────────── End ──────────────────────────────────────────────────────╯\n",
       "</pre>\n"
      ],
      "text/plain": [
       "╭──────────────────────────────────────────────── skimpy summary ─────────────────────────────────────────────────╮\n",
       "│ \u001b[3m         Data Summary         \u001b[0m \u001b[3m      Data Types       \u001b[0m                                                          │\n",
       "│ ┏━━━━━━━━━━━━━━━━━━━┳━━━━━━━━┓ ┏━━━━━━━━━━━━━┳━━━━━━━┓                                                          │\n",
       "│ ┃\u001b[1;36m \u001b[0m\u001b[1;36mdataframe        \u001b[0m\u001b[1;36m \u001b[0m┃\u001b[1;36m \u001b[0m\u001b[1;36mValues\u001b[0m\u001b[1;36m \u001b[0m┃ ┃\u001b[1;36m \u001b[0m\u001b[1;36mColumn Type\u001b[0m\u001b[1;36m \u001b[0m┃\u001b[1;36m \u001b[0m\u001b[1;36mCount\u001b[0m\u001b[1;36m \u001b[0m┃                                                          │\n",
       "│ ┡━━━━━━━━━━━━━━━━━━━╇━━━━━━━━┩ ┡━━━━━━━━━━━━━╇━━━━━━━┩                                                          │\n",
       "│ │ Number of rows    │ 3048   │ │ int32       │ 2     │                                                          │\n",
       "│ │ Number of columns │ 4      │ │ string      │ 2     │                                                          │\n",
       "│ └───────────────────┴────────┘ └─────────────┴───────┘                                                          │\n",
       "│ \u001b[3m                                                    number                                                    \u001b[0m  │\n",
       "│ ┏━━━━━━━━━━━━━━━━━━━━━┳━━━━━━━┳━━━━━━━━━━┳━━━━━━━━━━┳━━━━━━━━┳━━━━━━━┳━━━━━━━━┳━━━━━━━━┳━━━━━━━━━┳━━━━━━━━━━━┓  │\n",
       "│ ┃\u001b[1m \u001b[0m\u001b[1mcolumn_name        \u001b[0m\u001b[1m \u001b[0m┃\u001b[1m \u001b[0m\u001b[1mNA   \u001b[0m\u001b[1m \u001b[0m┃\u001b[1m \u001b[0m\u001b[1mNA %    \u001b[0m\u001b[1m \u001b[0m┃\u001b[1m \u001b[0m\u001b[1mmean    \u001b[0m\u001b[1m \u001b[0m┃\u001b[1m \u001b[0m\u001b[1msd    \u001b[0m\u001b[1m \u001b[0m┃\u001b[1m \u001b[0m\u001b[1mp0   \u001b[0m\u001b[1m \u001b[0m┃\u001b[1m \u001b[0m\u001b[1mp25   \u001b[0m\u001b[1m \u001b[0m┃\u001b[1m \u001b[0m\u001b[1mp75   \u001b[0m\u001b[1m \u001b[0m┃\u001b[1m \u001b[0m\u001b[1mp100   \u001b[0m\u001b[1m \u001b[0m┃\u001b[1m \u001b[0m\u001b[1mhist     \u001b[0m\u001b[1m \u001b[0m┃  │\n",
       "│ ┡━━━━━━━━━━━━━━━━━━━━━╇━━━━━━━╇━━━━━━━━━━╇━━━━━━━━━━╇━━━━━━━━╇━━━━━━━╇━━━━━━━━╇━━━━━━━━╇━━━━━━━━━╇━━━━━━━━━━━┩  │\n",
       "│ │ \u001b[38;5;141mdr_id              \u001b[0m │ \u001b[36m    0\u001b[0m │ \u001b[36m       0\u001b[0m │ \u001b[36m       6\u001b[0m │ \u001b[36m   3.1\u001b[0m │ \u001b[36m    1\u001b[0m │ \u001b[36m     3\u001b[0m │ \u001b[36m     9\u001b[0m │ \u001b[36m     11\u001b[0m │ \u001b[32m ██▄███  \u001b[0m │  │\n",
       "│ │ \u001b[38;5;141mlabel              \u001b[0m │ \u001b[36m    0\u001b[0m │ \u001b[36m       0\u001b[0m │ \u001b[36m     0.5\u001b[0m │ \u001b[36m   0.5\u001b[0m │ \u001b[36m    0\u001b[0m │ \u001b[36m     0\u001b[0m │ \u001b[36m     1\u001b[0m │ \u001b[36m      1\u001b[0m │ \u001b[32m █    █  \u001b[0m │  │\n",
       "│ └─────────────────────┴───────┴──────────┴──────────┴────────┴───────┴────────┴────────┴─────────┴───────────┘  │\n",
       "│ \u001b[3m                                                    string                                                    \u001b[0m  │\n",
       "│ ┏━━━━━━━━━━━━━━━━━━━━━━━━━━━┳━━━━━━━━━┳━━━━━━━━━━━━┳━━━━━━━━━━━━━━━━━━━━━━━━━━━━━━┳━━━━━━━━━━━━━━━━━━━━━━━━━━┓  │\n",
       "│ ┃\u001b[1m \u001b[0m\u001b[1mcolumn_name              \u001b[0m\u001b[1m \u001b[0m┃\u001b[1m \u001b[0m\u001b[1mNA     \u001b[0m\u001b[1m \u001b[0m┃\u001b[1m \u001b[0m\u001b[1mNA %      \u001b[0m\u001b[1m \u001b[0m┃\u001b[1m \u001b[0m\u001b[1mwords per row               \u001b[0m\u001b[1m \u001b[0m┃\u001b[1m \u001b[0m\u001b[1mtotal words             \u001b[0m\u001b[1m \u001b[0m┃  │\n",
       "│ ┡━━━━━━━━━━━━━━━━━━━━━━━━━━━╇━━━━━━━━━╇━━━━━━━━━━━━╇━━━━━━━━━━━━━━━━━━━━━━━━━━━━━━╇━━━━━━━━━━━━━━━━━━━━━━━━━━┩  │\n",
       "│ │ \u001b[38;5;141mquestion_1               \u001b[0m │ \u001b[36m      0\u001b[0m │ \u001b[36m         0\u001b[0m │ \u001b[36m                          19\u001b[0m │ \u001b[36m                   57264\u001b[0m │  │\n",
       "│ │ \u001b[38;5;141mquestion_2               \u001b[0m │ \u001b[36m      0\u001b[0m │ \u001b[36m         0\u001b[0m │ \u001b[36m                          19\u001b[0m │ \u001b[36m                   57264\u001b[0m │  │\n",
       "│ └───────────────────────────┴─────────┴────────────┴──────────────────────────────┴──────────────────────────┘  │\n",
       "╰────────────────────────────────────────────────────── End ──────────────────────────────────────────────────────╯\n"
      ]
     },
     "metadata": {},
     "output_type": "display_data"
    },
    {
     "data": {
      "text/html": [
       "<div>\n",
       "<style scoped>\n",
       "    .dataframe tbody tr th:only-of-type {\n",
       "        vertical-align: middle;\n",
       "    }\n",
       "\n",
       "    .dataframe tbody tr th {\n",
       "        vertical-align: top;\n",
       "    }\n",
       "\n",
       "    .dataframe thead th {\n",
       "        text-align: right;\n",
       "    }\n",
       "</style>\n",
       "<table border=\"1\" class=\"dataframe\">\n",
       "  <thead>\n",
       "    <tr style=\"text-align: right;\">\n",
       "      <th></th>\n",
       "      <th>dr_id</th>\n",
       "      <th>question_1</th>\n",
       "      <th>question_2</th>\n",
       "      <th>label</th>\n",
       "    </tr>\n",
       "  </thead>\n",
       "  <tbody>\n",
       "    <tr>\n",
       "      <th>0</th>\n",
       "      <td>1</td>\n",
       "      <td>After how many hour from drinking an antibioti...</td>\n",
       "      <td>I have a party tonight and I took my last dose...</td>\n",
       "      <td>1</td>\n",
       "    </tr>\n",
       "    <tr>\n",
       "      <th>1</th>\n",
       "      <td>1</td>\n",
       "      <td>After how many hour from drinking an antibioti...</td>\n",
       "      <td>I vomited this morning and I am not sure if it...</td>\n",
       "      <td>0</td>\n",
       "    </tr>\n",
       "    <tr>\n",
       "      <th>2</th>\n",
       "      <td>1</td>\n",
       "      <td>Am I over weight (192.9) for my age (39)?</td>\n",
       "      <td>I am a 39 y/o male currently weighing about 19...</td>\n",
       "      <td>1</td>\n",
       "    </tr>\n",
       "  </tbody>\n",
       "</table>\n",
       "</div>"
      ],
      "text/plain": [
       "   dr_id                                         question_1  \\\n",
       "0      1  After how many hour from drinking an antibioti...   \n",
       "1      1  After how many hour from drinking an antibioti...   \n",
       "2      1          Am I over weight (192.9) for my age (39)?   \n",
       "\n",
       "                                          question_2  label  \n",
       "0  I have a party tonight and I took my last dose...      1  \n",
       "1  I vomited this morning and I am not sure if it...      0  \n",
       "2  I am a 39 y/o male currently weighing about 19...      1  "
      ]
     },
     "metadata": {},
     "output_type": "display_data"
    }
   ],
   "source": [
    "# Загрузка датасета medical_questions_pairs\n",
    "try:\n",
    "    train_df = pd.read_csv('train.csv')\n",
    "\n",
    "except:\n",
    "    \n",
    "    dataset = load_dataset(\"medical_questions_pairs\")\n",
    "\n",
    "    # Преобразование датасета в pandas DataFrame\n",
    "    train_df = pd.DataFrame(dataset['train'])\n",
    "    train_df.to_csv('train.csv',index=False)\n",
    "\n",
    "# Изучение структуры датасета\n",
    "print('TRAIN')\n",
    "print(train_df.info())\n",
    "print('-------------------')\n",
    "print()\n",
    "print('TRAIN')\n",
    "skim(train_df)\n",
    "display(train_df.head(3))"
   ]
  },
  {
   "cell_type": "markdown",
   "metadata": {},
   "source": [
    "Видно что количество слов одинаково."
   ]
  },
  {
   "cell_type": "code",
   "execution_count": 3,
   "metadata": {},
   "outputs": [
    {
     "data": {
      "image/png": "[encoded data removed]",
      "text/plain": [
       "<Figure size 1000x600 with 1 Axes>"
      ]
     },
     "metadata": {},
     "output_type": "display_data"
    }
   ],
   "source": [
    "# Анализ длины вопросов\n",
    "train_df['question_1_length'] = train_df['question_1'].str.len()\n",
    "train_df['question_2_length'] = train_df['question_2'].str.len()\n",
    "\n",
    "# Визуализация распределения длины вопросов\n",
    "plt.figure(figsize=(10, 6))\n",
    "train_df['question_1_length'].hist(bins=30, alpha=0.5, label='question_1')\n",
    "train_df['question_2_length'].hist(bins=30, alpha=0.5, label='question_2')\n",
    "plt.set_cmap('Greens')\n",
    "plt.xlabel('Длина вопроса')\n",
    "plt.ylabel('Количество')\n",
    "plt.legend()\n",
    "plt.show()"
   ]
  },
  {
   "cell_type": "code",
   "execution_count": 102,
   "metadata": {},
   "outputs": [
    {
     "data": {
      "text/plain": [
       "count    3048.000000\n",
       "mean       99.858924\n",
       "std        45.640730\n",
       "min        20.000000\n",
       "25%        58.000000\n",
       "50%        94.000000\n",
       "75%       144.000000\n",
       "max       255.000000\n",
       "Name: question_1_length, dtype: float64"
      ]
     },
     "execution_count": 102,
     "metadata": {},
     "output_type": "execute_result"
    }
   ],
   "source": [
    "train_df['question_1_length'].describe()"
   ]
  },
  {
   "cell_type": "code",
   "execution_count": 103,
   "metadata": {},
   "outputs": [
    {
     "data": {
      "text/plain": [
       "count    3048.000000\n",
       "mean      110.334646\n",
       "std        63.029785\n",
       "min        15.000000\n",
       "25%        62.000000\n",
       "50%        95.000000\n",
       "75%       146.000000\n",
       "max       404.000000\n",
       "Name: question_2_length, dtype: float64"
      ]
     },
     "execution_count": 103,
     "metadata": {},
     "output_type": "execute_result"
    }
   ],
   "source": [
    "train_df['question_2_length'].describe()"
   ]
  },
  {
   "cell_type": "markdown",
   "metadata": {},
   "source": [
    "## Предобработка"
   ]
  },
  {
   "cell_type": "code",
   "execution_count": 13,
   "metadata": {},
   "outputs": [
    {
     "name": "stderr",
     "output_type": "stream",
     "text": [
      "[nltk_data] Downloading package punkt to C:\\Users\\elpiz/nltk_data...\n",
      "[nltk_data]   Package punkt is already up-to-date!\n",
      "[nltk_data] Downloading package stopwords to\n",
      "[nltk_data]     C:\\Users\\elpiz/nltk_data...\n",
      "[nltk_data]   Package stopwords is already up-to-date!\n"
     ]
    }
   ],
   "source": [
    "nltk.download('punkt')\n",
    "nltk.download('stopwords')\n",
    "\n",
    "# Загрузка модели spaCy\n",
    "nlp = spacy.load(\"en_core_web_trf\")\n",
    "\n",
    "def preprocess_text(text):\n",
    "    \"\"\"\n",
    "    Функция для предобработки текста.\n",
    "\n",
    "    Args:\n",
    "        text (str): Входной текст.\n",
    "\n",
    "    Returns:\n",
    "        list: Список обработанных токенов.\n",
    "    \"\"\"\n",
    "    # Токенизация\n",
    "    tokens = nltk.word_tokenize(text.lower())  # Приведение к нижнему регистру\n",
    "\n",
    "    # Удаление пунктуации\n",
    "    tokens = [token for token in tokens if token.isalnum()]\n",
    "\n",
    "    # Удаление стоп-слов\n",
    "    stop_words = nltk.corpus.stopwords.words('english')\n",
    "    tokens = [token for token in tokens if token not in stop_words]\n",
    "\n",
    "    # Лемматизация\n",
    "    tokens = [token.lemma_ for token in nlp(\" \".join(tokens))]\n",
    "\n",
    "    # Обработка неизвестных слов (замена на UNK)\n",
    "    tokens = [token if token != '-PRON-' else 'UNK' for token in tokens]\n",
    "\n",
    "    return \" \".join(tokens)"
   ]
  },
  {
   "cell_type": "code",
   "execution_count": null,
   "metadata": {},
   "outputs": [],
   "source": [
    "def preprocess_dataframe(df):\n",
    "    \"\"\"\n",
    "    Функция для предобработки DataFrame с вопросами.\n",
    "\n",
    "    Args:\n",
    "        df (pd.DataFrame): DataFrame с вопросами.\n",
    "\n",
    "    Returns:\n",
    "        pd.DataFrame: DataFrame с предобработанными вопросами.\n",
    "    \"\"\"\n",
    "    df['processed_question_1'] = df['question_1'].apply(preprocess_text)\n",
    "    df['processed_question_2'] = df['question_2'].apply(preprocess_text)\n",
    "    return df"
   ]
  },
  {
   "cell_type": "code",
   "execution_count": 15,
   "metadata": {},
   "outputs": [],
   "source": [
    "%%time\n",
    "%%chime\n",
    "\n",
    "try:\n",
    "    train_df = pd.read_csv('prep_train.csv')\n",
    "except:\n",
    "    train_df = preprocess_dataframe(train_df)\n",
    "    train_df.to_csv('prep_train.csv', index=drop)"
   ]
  },
  {
   "cell_type": "code",
   "execution_count": 16,
   "metadata": {},
   "outputs": [],
   "source": [
    "chime.success()"
   ]
  },
  {
   "cell_type": "code",
   "execution_count": 12,
   "metadata": {},
   "outputs": [],
   "source": [
    "# first = train_df.copy()"
   ]
  },
  {
   "cell_type": "code",
   "execution_count": null,
   "metadata": {},
   "outputs": [
    {
     "data": {
      "text/plain": [
       "2"
      ]
     },
     "execution_count": 125,
     "metadata": {},
     "output_type": "execute_result"
    }
   ],
   "source": [
    "1+1"
   ]
  },
  {
   "cell_type": "markdown",
   "metadata": {},
   "source": [
    "## Тестирование моделей"
   ]
  },
  {
   "cell_type": "markdown",
   "metadata": {},
   "source": [
    "### TF-IDF (НЕУДАЧА)"
   ]
  },
  {
   "cell_type": "code",
   "execution_count": 56,
   "metadata": {},
   "outputs": [],
   "source": [
    "def get_top_similar_questions(vectorizer, question, question_vectors, n=5):\n",
    "    \"\"\"\n",
    "    Функция для поиска n наиболее похожих вопросов.\n",
    "\n",
    "    Args:\n",
    "        question (str): Входной вопрос.\n",
    "        question_vectors (scipy.sparse.csr_matrix): Матрица векторов TF-IDF.\n",
    "        n (int, optional): Количество возвращаемых похожих вопросов. Defaults to 5.\n",
    "\n",
    "    Returns:\n",
    "        list: Список n наиболее похожих вопросов. \n",
    "    \"\"\"\n",
    "    # Векторизация входного вопроса\n",
    "    question_vector = vectorizer.transform([preprocess_text(question)])\n",
    "\n",
    "    # Вычисление косинусного сходства\n",
    "    similarity = cosine_similarity(question_vector, question_vectors)[0]\n",
    "\n",
    "    # Получение индексов наиболее похожих вопросов\n",
    "    top_indices = np.argsort(similarity)[-n:]\n",
    "\n",
    "    # Возврат наиболее похожих вопросов\n",
    "    return train_df.loc[top_indices, 'question_1'].tolist()\n",
    "\n",
    "def accuracy_at_k(actual, predicted, k=5):\n",
    "    \"\"\"\n",
    "    Вычисляет Accuracy@k.\n",
    "\n",
    "    Args:\n",
    "        actual (list): Список истинных меток.\n",
    "        predicted (list): Список списков предсказанных меток.\n",
    "        k (int, optional): Значение k. Defaults to 5.\n",
    "\n",
    "    Returns:\n",
    "        float: Accuracy@k.\n",
    "    \"\"\"\n",
    "    score = 0.0\n",
    "    for i in range(len(actual)):\n",
    "        if actual[i] in predicted[i][:k]:  # Проверяем только первые k элементов\n",
    "            score += 1.0\n",
    "    return score / len(actual)\n",
    "\n",
    "def hits_at_k(actual, predicted, k=5):\n",
    "    \"\"\"\n",
    "    Вычисляет Hits@k.\n",
    "\n",
    "    Args:\n",
    "        actual (list): Список истинных меток.\n",
    "        predicted (list): Список списков предсказанных меток.\n",
    "        k (int, optional): Значение k. Defaults to 5.\n",
    "\n",
    "    Returns:\n",
    "        float: Hits@k.\n",
    "    \"\"\"\n",
    "    score = 0.0\n",
    "    for i in range(len(actual)):\n",
    "        if actual[i] in predicted[i][:k]:\n",
    "            score += 1.0\n",
    "    return score / len(actual)\n",
    "\n",
    "def reciprocal_rank(actual, predicted):\n",
    "    \"\"\"\n",
    "    Вычисляет Reciprocal Rank.\n",
    "\n",
    "    Args:\n",
    "        actual (list): Список истинных меток.\n",
    "        predicted (list): Список списков предсказанных меток.\n",
    "\n",
    "    Returns:\n",
    "        float: Reciprocal Rank.\n",
    "    \"\"\"\n",
    "    for i, p in enumerate(predicted):\n",
    "        if actual in p:\n",
    "            return 1.0 / (i + 1.0)\n",
    "    return 0.0\n",
    "\n",
    "def dcg_at_k(actual, predicted, k=5):\n",
    "    \"\"\"\n",
    "    Вычисляет Discounted Cumulative Gain (DCG@k).\n",
    "\n",
    "    Args:\n",
    "        actual (list): Список истинных меток.\n",
    "        predicted (list): Список списков предсказанных меток.\n",
    "        k (int, optional): Значение k. Defaults to 5.\n",
    "\n",
    "    Returns:\n",
    "        float: DCG@k.\n",
    "    \"\"\"\n",
    "    score = 0.0\n",
    "    for i, p in enumerate(predicted[:k]):\n",
    "        if p in actual:\n",
    "            score += 1.0 / np.log2(i + 2)\n",
    "    return score\n",
    "\n",
    "def evaluate(df, question_vectors, vectorizer):\n",
    "    \"\"\"\n",
    "    Функция для оценки качества модели.\n",
    "\n",
    "    Args:\n",
    "        df (pd.DataFrame): DataFrame с вопросами.\n",
    "        question_vectors (scipy.sparse.csr_matrix): Матрица векторов TF-IDF.\n",
    "        vectorizer (TfidfVectorizer): Объект TfidfVectorizer.\n",
    "    \"\"\"\n",
    "    actual = df['question_1'].tolist()\n",
    "    # predicted = df['question_2'].apply(lambda x: get_top_similar_questions(vectorizer, x, question_vectors, n=5)).tolist()\n",
    "    predicted = []\n",
    "    for question in tqdm(df['question_2']):\n",
    "        predicted.append(get_top_similar_questions(vectorizer, question, question_vectors, n=5))\n",
    "\n",
    "    print(\"Accuracy@5:\", accuracy_at_k(actual, predicted))\n",
    "    print(\"Hits@5:\", hits_at_k(actual, predicted))\n",
    "    print(\"MRR:\", np.mean([reciprocal_rank(a, p) for a, p in zip(actual, predicted)]))\n",
    "    print(\"DCG@5:\", np.mean([dcg_at_k(a, p) for a, p in zip(actual, predicted)]))"
   ]
  },
  {
   "cell_type": "markdown",
   "metadata": {},
   "source": [
    "Изменёнка"
   ]
  },
  {
   "cell_type": "code",
   "execution_count": 74,
   "metadata": {},
   "outputs": [],
   "source": [
    "def get_top_similar_questions_indices(question, question_vectors, vectorizer, n=5):\n",
    "    \"\"\"\n",
    "    Функция для поиска индексов n наиболее похожих вопросов.\n",
    "\n",
    "    Args:\n",
    "        question (str): Входной вопрос.\n",
    "        question_vectors (scipy.sparse.csr_matrix): Матрица векторов TF-IDF.\n",
    "        vectorizer (TfidfVectorizer): Объект TfidfVectorizer.\n",
    "        n (int, optional): Количество возвращаемых индексов. Defaults to 5.\n",
    "\n",
    "    Returns:\n",
    "        list: Список n индексов наиболее похожих вопросов.\n",
    "    \"\"\"\n",
    "\n",
    "    # Векторизация входного вопроса\n",
    "    question_vector = vectorizer.transform([preprocess_text(question)])\n",
    "\n",
    "    # Вычисление косинусного сходства\n",
    "    similarity = cosine_similarity(question_vector, question_vectors)[0]\n",
    "\n",
    "    # Получение индексов наиболее похожих вопросов\n",
    "    top_indices = np.argsort(similarity)[-n:]\n",
    "\n",
    "    # Возврат индексов наиболее похожих вопросов\n",
    "    return top_indices.tolist()\n",
    "\n",
    "def accuracy_at_k(actual, predicted, k=5):\n",
    "    score = 0.0\n",
    "    for i in range(len(actual)):\n",
    "        if i in predicted[i][:k]:  # Проверяем наличие индекса в предсказанных\n",
    "            score += 1.0\n",
    "    return score / len(actual)\n",
    "\n",
    "def hits_at_k(actual, predicted, k=5):\n",
    "    score = 0.0\n",
    "    for i in range(len(actual)):\n",
    "        if i in predicted[i][:k]:\n",
    "            score += 1.0\n",
    "    return score / len(actual)\n",
    "\n",
    "def reciprocal_rank(actual, predicted):\n",
    "    for i, p in enumerate(predicted):\n",
    "        if actual in p:\n",
    "            return 1.0 / (i + 1.0)\n",
    "    return 0.0\n",
    "\n",
    "def dcg_at_k(actual, predicted, k=5):\n",
    "    score = 0.0\n",
    "    for i, p in enumerate(predicted[:k]):\n",
    "        if actual in p:\n",
    "            score += 1.0 / np.log2(i + 2)\n",
    "    return score\n",
    "\n",
    "def evaluate(df, question_vectors, vectorizer):\n",
    "    \"\"\"\n",
    "    Функция для оценки качества модели.\n",
    "\n",
    "    Args:\n",
    "        df (pd.DataFrame): DataFrame с вопросами.\n",
    "        question_vectors (scipy.sparse.csr_matrix): Матрица векторов TF-IDF.\n",
    "        vectorizer (TfidfVectorizer): Объект TfidfVectorizer.\n",
    "    \"\"\"\n",
    "    # actual_labels = df['label'].tolist()\n",
    "    # predicted = df['question_2'].apply(lambda x: get_top_similar_questions(vectorizer, x, question_vectors, n=5)).tolist()\n",
    "    actual_labels = [[i] if label == 1 else [] for i, label in enumerate(train_df['label'])]\n",
    "    predicted = []\n",
    "    for question in tqdm(df['question_2']):\n",
    "        predicted.append(get_top_similar_questions_indices(question, question_vectors, vectorizer, n=5))\n",
    "\n",
    "    print(\"Примеры predicted:\")\n",
    "    print(predicted[:5])\n",
    "    print(\"Примеры actual:\")\n",
    "    print(actual_labels[:5])\n",
    "    print('------------------------')\n",
    "    print(\"Accuracy@5:\", accuracy_at_k(actual_labels, predicted))\n",
    "    print(\"Hits@5:\", hits_at_k(actual_labels, predicted))\n",
    "    print(\"MRR:\", np.mean([reciprocal_rank(a, p) for a, p in zip(actual_labels, predicted)]))\n",
    "    print(\"DCG@5:\", np.mean([dcg_at_k(a, p) for a, p in zip(actual_labels, predicted)]))"
   ]
  },
  {
   "cell_type": "code",
   "execution_count": 93,
   "metadata": {},
   "outputs": [],
   "source": [
    "def get_top_similar_questions_indices(question, question_vectors, vectorizer, n=5):\n",
    "    \"\"\"\n",
    "    Функция для поиска индексов n наиболее похожих вопросов.\n",
    "\n",
    "    Args:\n",
    "        question (str): Входной вопрос.\n",
    "        question_vectors (scipy.sparse.csr_matrix): Матрица векторов TF-IDF.\n",
    "        vectorizer (TfidfVectorizer): Объект TfidfVectorizer.\n",
    "        n (int, optional): Количество возвращаемых индексов. Defaults to 5.\n",
    "\n",
    "    Returns:\n",
    "        list: Список n индексов наиболее похожих вопросов.\n",
    "    \"\"\"\n",
    "\n",
    "    # Векторизация входного вопроса\n",
    "    question_vector = vectorizer.transform([preprocess_text(question)])\n",
    "\n",
    "    # Вычисление косинусного сходства\n",
    "    similarity = cosine_similarity(question_vector, question_vectors)[0]\n",
    "\n",
    "    # Получение индексов наиболее похожих вопросов\n",
    "    top_indices = np.argsort(similarity)[-n:]\n",
    "\n",
    "    # Возврат индексов наиболее похожих вопросов\n",
    "    return top_indices.tolist()\n",
    "\n",
    "def accuracy_at_k(actual, predicted, k=5):\n",
    "    \"\"\"\n",
    "    Вычисляет Accuracy@k.\n",
    "\n",
    "    Args:\n",
    "        actual (list): Список списков с индексами релевантных вопросов.\n",
    "        predicted (list): Список списков с индексами k наиболее похожих вопросов.\n",
    "        k (int, optional): Значение k. Defaults to 5.\n",
    "\n",
    "    Returns:\n",
    "        float: Accuracy@k.\n",
    "    \"\"\"\n",
    "    score = 0.0\n",
    "    for i in range(len(actual)):\n",
    "        if any(a in predicted[i][:k] for a in actual[i]):\n",
    "            score += 1.0\n",
    "    return score / len(actual)\n",
    "\n",
    "\n",
    "def hits_at_k(actual, predicted, k=5):\n",
    "    \"\"\"\n",
    "    Вычисляет Hits@k.\n",
    "\n",
    "    Args:\n",
    "        actual (list): Список списков с индексами релевантных вопросов.\n",
    "        predicted (list): Список списков с индексами k наиболее похожих вопросов.\n",
    "        k (int, optional): Значение k. Defaults to 5.\n",
    "\n",
    "    Returns:\n",
    "        float: Hits@k.\n",
    "    \"\"\"\n",
    "    score = 0.0\n",
    "    for i in range(len(actual)):\n",
    "        if set(actual[i]).intersection(predicted[i][:k]):\n",
    "            score += 1.0\n",
    "    return score / len(actual)\n",
    "\n",
    "\n",
    "def reciprocal_rank(actual, predicted):\n",
    "    \"\"\"\n",
    "    Вычисляет Reciprocal Rank.\n",
    "\n",
    "    Args:\n",
    "        actual (list): Список с индексом релевантного вопроса.\n",
    "        predicted (list): Список с индексами похожих вопросов.\n",
    "\n",
    "    Returns:\n",
    "        float: Reciprocal Rank.\n",
    "    \"\"\"\n",
    "    if actual:  # Проверяем, не пустой ли список actual\n",
    "        for i, p in enumerate(predicted):\n",
    "            if actual[0] == p:\n",
    "                return 1.0 / (i + 1.0)\n",
    "    return 0.0\n",
    "\n",
    "def dcg_at_k(actual, predicted, k=5):\n",
    "    \"\"\"\n",
    "    Вычисляет Discounted Cumulative Gain (DCG@k).\n",
    "\n",
    "    Args:\n",
    "        actual (list): Список с индексом релевантного вопроса.\n",
    "        predicted (list): Список с индексами похожих вопросов.\n",
    "        k (int, optional): Значение k. Defaults to 5.\n",
    "\n",
    "    Returns:\n",
    "        float: DCG@k.\n",
    "    \"\"\"\n",
    "    score = 0.0\n",
    "    if actual:\n",
    "        for i, p in enumerate(predicted[:k]):\n",
    "            if p == actual[0]:\n",
    "                score += 1.0 / np.log2(i + 2)\n",
    "    return score\n",
    "\n",
    "\n",
    "def evaluate(df, question_vectors, vectorizer):\n",
    "    \"\"\"\n",
    "    Функция для оценки качества модели.\n",
    "\n",
    "    Args:\n",
    "        df (pd.DataFrame): DataFrame с вопросами и метками.\n",
    "        question_vectors (scipy.sparse.csr_matrix): Матрица векторов TF-IDF.\n",
    "        vectorizer (TfidfVectorizer): Объект TfidfVectorizer.\n",
    "    \"\"\"\n",
    "    actual_labels = [[i] if label == 1 else [] for i, label in enumerate(df['label'])]\n",
    "    predicted = []\n",
    "    for question in tqdm(df['question_2']):\n",
    "        predicted.append(get_top_similar_questions_indices(question, question_vectors, vectorizer, n=5))\n",
    "\n",
    "    print(\"Примеры predicted:\")\n",
    "    print(predicted[:20])\n",
    "    print(\"Примеры actual:\")\n",
    "    print(actual_labels[:20])\n",
    "    print('------------------------')\n",
    "\n",
    "    print(\"Accuracy@5:\", accuracy_at_k(actual_labels, predicted))\n",
    "    print(\"Hits@5:\", hits_at_k(actual_labels, predicted))\n",
    "    print(\"MRR:\", np.mean([reciprocal_rank(a, p) for a, p in zip(actual_labels, predicted)]))\n",
    "    print(\"DCG@5:\", np.mean([dcg_at_k(a, p) for a, p in zip(actual_labels, predicted)]))"
   ]
  },
  {
   "cell_type": "code",
   "execution_count": 83,
   "metadata": {},
   "outputs": [],
   "source": [
    "# Создание объекта TfidfVectorizer с заданными параметрами\n",
    "vectorizer = TfidfVectorizer(max_features=5000, ngram_range=(1,2), min_df=5, max_df=0.8)\n",
    "\n",
    "# Обучение модели на предобработанных вопросах из question_1\n",
    "vectorizer.fit(train_df['processed_question_1'])\n",
    "\n",
    "# Преобразование вопросов из question_2 в векторы TF-IDF\n",
    "question2_vectors = vectorizer.transform(train_df['processed_question_2'])"
   ]
  },
  {
   "cell_type": "code",
   "execution_count": 84,
   "metadata": {},
   "outputs": [
    {
     "data": {
      "text/plain": [
       "[2180, 1580, 366, 2017, 1536]"
      ]
     },
     "execution_count": 84,
     "metadata": {},
     "output_type": "execute_result"
    }
   ],
   "source": [
    "question = \"How can I prevent glaucoma?\"\n",
    "similar_questions = get_top_similar_questions_indices(question, question2_vectors, vectorizer)\n",
    "similar_questions"
   ]
  },
  {
   "cell_type": "code",
   "execution_count": 85,
   "metadata": {},
   "outputs": [],
   "source": [
    "# Вычисление матрицы косинусного сходства\n",
    "similarity_matrix = cosine_similarity(question2_vectors, vectorizer.transform(train_df['processed_question_1']))"
   ]
  },
  {
   "cell_type": "markdown",
   "metadata": {},
   "source": [
    "#### Оценка качества и производительности без разбиения на train и test"
   ]
  },
  {
   "cell_type": "code",
   "execution_count": 86,
   "metadata": {},
   "outputs": [
    {
     "name": "stderr",
     "output_type": "stream",
     "text": [
      "  1%|          | 24/3048 [00:02<05:19,  9.45it/s]\n"
     ]
    },
    {
     "ename": "KeyboardInterrupt",
     "evalue": "",
     "output_type": "error",
     "traceback": [
      "\u001b[1;31m---------------------------------------------------------------------------\u001b[0m",
      "\u001b[1;31mKeyboardInterrupt\u001b[0m                         Traceback (most recent call last)",
      "Cell \u001b[1;32mIn[86], line 2\u001b[0m\n\u001b[0;32m      1\u001b[0m \u001b[38;5;66;03m# Оценка модели\u001b[39;00m\n\u001b[1;32m----> 2\u001b[0m \u001b[43mevaluate\u001b[49m\u001b[43m(\u001b[49m\u001b[43mtrain_df\u001b[49m\u001b[43m,\u001b[49m\u001b[43m \u001b[49m\u001b[43mquestion2_vectors\u001b[49m\u001b[43m,\u001b[49m\u001b[43m \u001b[49m\u001b[43mvectorizer\u001b[49m\u001b[43m)\u001b[49m\n",
      "Cell \u001b[1;32mIn[82], line 113\u001b[0m, in \u001b[0;36mevaluate\u001b[1;34m(df, question_vectors, vectorizer)\u001b[0m\n\u001b[0;32m    111\u001b[0m predicted \u001b[38;5;241m=\u001b[39m []\n\u001b[0;32m    112\u001b[0m \u001b[38;5;28;01mfor\u001b[39;00m question \u001b[38;5;129;01min\u001b[39;00m tqdm(df[\u001b[38;5;124m'\u001b[39m\u001b[38;5;124mquestion_2\u001b[39m\u001b[38;5;124m'\u001b[39m]):\n\u001b[1;32m--> 113\u001b[0m     predicted\u001b[38;5;241m.\u001b[39mappend(\u001b[43mget_top_similar_questions_indices\u001b[49m\u001b[43m(\u001b[49m\u001b[43mquestion\u001b[49m\u001b[43m,\u001b[49m\u001b[43m \u001b[49m\u001b[43mquestion_vectors\u001b[49m\u001b[43m,\u001b[49m\u001b[43m \u001b[49m\u001b[43mvectorizer\u001b[49m\u001b[43m,\u001b[49m\u001b[43m \u001b[49m\u001b[43mn\u001b[49m\u001b[38;5;241;43m=\u001b[39;49m\u001b[38;5;241;43m5\u001b[39;49m\u001b[43m)\u001b[49m)\n\u001b[0;32m    115\u001b[0m \u001b[38;5;28mprint\u001b[39m(\u001b[38;5;124m\"\u001b[39m\u001b[38;5;124mПримеры predicted:\u001b[39m\u001b[38;5;124m\"\u001b[39m)\n\u001b[0;32m    116\u001b[0m \u001b[38;5;28mprint\u001b[39m(predicted[:\u001b[38;5;241m5\u001b[39m])\n",
      "Cell \u001b[1;32mIn[82], line 16\u001b[0m, in \u001b[0;36mget_top_similar_questions_indices\u001b[1;34m(question, question_vectors, vectorizer, n)\u001b[0m\n\u001b[0;32m      2\u001b[0m \u001b[38;5;250m\u001b[39m\u001b[38;5;124;03m\"\"\"\u001b[39;00m\n\u001b[0;32m      3\u001b[0m \u001b[38;5;124;03mФункция для поиска индексов n наиболее похожих вопросов.\u001b[39;00m\n\u001b[0;32m      4\u001b[0m \n\u001b[1;32m   (...)\u001b[0m\n\u001b[0;32m     12\u001b[0m \u001b[38;5;124;03m    list: Список n индексов наиболее похожих вопросов.\u001b[39;00m\n\u001b[0;32m     13\u001b[0m \u001b[38;5;124;03m\"\"\"\u001b[39;00m\n\u001b[0;32m     15\u001b[0m \u001b[38;5;66;03m# Векторизация входного вопроса\u001b[39;00m\n\u001b[1;32m---> 16\u001b[0m question_vector \u001b[38;5;241m=\u001b[39m vectorizer\u001b[38;5;241m.\u001b[39mtransform([\u001b[43mpreprocess_text\u001b[49m\u001b[43m(\u001b[49m\u001b[43mquestion\u001b[49m\u001b[43m)\u001b[49m])\n\u001b[0;32m     18\u001b[0m \u001b[38;5;66;03m# Вычисление косинусного сходства\u001b[39;00m\n\u001b[0;32m     19\u001b[0m similarity \u001b[38;5;241m=\u001b[39m cosine_similarity(question_vector, question_vectors)[\u001b[38;5;241m0\u001b[39m]\n",
      "Cell \u001b[1;32mIn[13], line 24\u001b[0m, in \u001b[0;36mpreprocess_text\u001b[1;34m(text)\u001b[0m\n\u001b[0;32m     21\u001b[0m tokens \u001b[38;5;241m=\u001b[39m [token \u001b[38;5;28;01mfor\u001b[39;00m token \u001b[38;5;129;01min\u001b[39;00m tokens \u001b[38;5;28;01mif\u001b[39;00m token\u001b[38;5;241m.\u001b[39misalnum()]\n\u001b[0;32m     23\u001b[0m \u001b[38;5;66;03m# Удаление стоп-слов\u001b[39;00m\n\u001b[1;32m---> 24\u001b[0m stop_words \u001b[38;5;241m=\u001b[39m \u001b[43mnltk\u001b[49m\u001b[38;5;241;43m.\u001b[39;49m\u001b[43mcorpus\u001b[49m\u001b[38;5;241;43m.\u001b[39;49m\u001b[43mstopwords\u001b[49m\u001b[38;5;241;43m.\u001b[39;49m\u001b[43mwords\u001b[49m\u001b[43m(\u001b[49m\u001b[38;5;124;43m'\u001b[39;49m\u001b[38;5;124;43menglish\u001b[39;49m\u001b[38;5;124;43m'\u001b[39;49m\u001b[43m)\u001b[49m\n\u001b[0;32m     25\u001b[0m tokens \u001b[38;5;241m=\u001b[39m [token \u001b[38;5;28;01mfor\u001b[39;00m token \u001b[38;5;129;01min\u001b[39;00m tokens \u001b[38;5;28;01mif\u001b[39;00m token \u001b[38;5;129;01mnot\u001b[39;00m \u001b[38;5;129;01min\u001b[39;00m stop_words]\n\u001b[0;32m     27\u001b[0m \u001b[38;5;66;03m# Лемматизация\u001b[39;00m\n",
      "File \u001b[1;32mc:\\Users\\elpiz\\anaconda3\\envs\\ds_practicum_env\\lib\\site-packages\\nltk\\corpus\\reader\\wordlist.py:23\u001b[0m, in \u001b[0;36mWordListCorpusReader.words\u001b[1;34m(self, fileids, ignore_lines_startswith)\u001b[0m\n\u001b[0;32m     20\u001b[0m \u001b[38;5;28;01mdef\u001b[39;00m \u001b[38;5;21mwords\u001b[39m(\u001b[38;5;28mself\u001b[39m, fileids\u001b[38;5;241m=\u001b[39m\u001b[38;5;28;01mNone\u001b[39;00m, ignore_lines_startswith\u001b[38;5;241m=\u001b[39m\u001b[38;5;124m\"\u001b[39m\u001b[38;5;130;01m\\n\u001b[39;00m\u001b[38;5;124m\"\u001b[39m):\n\u001b[0;32m     21\u001b[0m     \u001b[38;5;28;01mreturn\u001b[39;00m [\n\u001b[0;32m     22\u001b[0m         line\n\u001b[1;32m---> 23\u001b[0m         \u001b[38;5;28;01mfor\u001b[39;00m line \u001b[38;5;129;01min\u001b[39;00m line_tokenize(\u001b[38;5;28;43mself\u001b[39;49m\u001b[38;5;241;43m.\u001b[39;49m\u001b[43mraw\u001b[49m\u001b[43m(\u001b[49m\u001b[43mfileids\u001b[49m\u001b[43m)\u001b[49m)\n\u001b[0;32m     24\u001b[0m         \u001b[38;5;28;01mif\u001b[39;00m \u001b[38;5;129;01mnot\u001b[39;00m line\u001b[38;5;241m.\u001b[39mstartswith(ignore_lines_startswith)\n\u001b[0;32m     25\u001b[0m     ]\n",
      "File \u001b[1;32mc:\\Users\\elpiz\\anaconda3\\envs\\ds_practicum_env\\lib\\site-packages\\nltk\\corpus\\reader\\wordlist.py:32\u001b[0m, in \u001b[0;36mWordListCorpusReader.raw\u001b[1;34m(self, fileids)\u001b[0m\n\u001b[0;32m     30\u001b[0m \u001b[38;5;28;01melif\u001b[39;00m \u001b[38;5;28misinstance\u001b[39m(fileids, \u001b[38;5;28mstr\u001b[39m):\n\u001b[0;32m     31\u001b[0m     fileids \u001b[38;5;241m=\u001b[39m [fileids]\n\u001b[1;32m---> 32\u001b[0m \u001b[38;5;28;01mreturn\u001b[39;00m concat([\u001b[38;5;28mself\u001b[39m\u001b[38;5;241m.\u001b[39mopen(f)\u001b[38;5;241m.\u001b[39mread() \u001b[38;5;28;01mfor\u001b[39;00m f \u001b[38;5;129;01min\u001b[39;00m fileids])\n",
      "File \u001b[1;32mc:\\Users\\elpiz\\anaconda3\\envs\\ds_practicum_env\\lib\\site-packages\\nltk\\corpus\\reader\\wordlist.py:32\u001b[0m, in \u001b[0;36m<listcomp>\u001b[1;34m(.0)\u001b[0m\n\u001b[0;32m     30\u001b[0m \u001b[38;5;28;01melif\u001b[39;00m \u001b[38;5;28misinstance\u001b[39m(fileids, \u001b[38;5;28mstr\u001b[39m):\n\u001b[0;32m     31\u001b[0m     fileids \u001b[38;5;241m=\u001b[39m [fileids]\n\u001b[1;32m---> 32\u001b[0m \u001b[38;5;28;01mreturn\u001b[39;00m concat([\u001b[38;5;28;43mself\u001b[39;49m\u001b[38;5;241;43m.\u001b[39;49m\u001b[43mopen\u001b[49m\u001b[43m(\u001b[49m\u001b[43mf\u001b[49m\u001b[43m)\u001b[49m\u001b[38;5;241m.\u001b[39mread() \u001b[38;5;28;01mfor\u001b[39;00m f \u001b[38;5;129;01min\u001b[39;00m fileids])\n",
      "File \u001b[1;32mc:\\Users\\elpiz\\anaconda3\\envs\\ds_practicum_env\\lib\\site-packages\\nltk\\corpus\\reader\\api.py:208\u001b[0m, in \u001b[0;36mCorpusReader.open\u001b[1;34m(self, file)\u001b[0m\n\u001b[0;32m    200\u001b[0m \u001b[38;5;250m\u001b[39m\u001b[38;5;124;03m\"\"\"\u001b[39;00m\n\u001b[0;32m    201\u001b[0m \u001b[38;5;124;03mReturn an open stream that can be used to read the given file.\u001b[39;00m\n\u001b[0;32m    202\u001b[0m \u001b[38;5;124;03mIf the file's encoding is not None, then the stream will\u001b[39;00m\n\u001b[1;32m   (...)\u001b[0m\n\u001b[0;32m    205\u001b[0m \u001b[38;5;124;03m:param file: The file identifier of the file to read.\u001b[39;00m\n\u001b[0;32m    206\u001b[0m \u001b[38;5;124;03m\"\"\"\u001b[39;00m\n\u001b[0;32m    207\u001b[0m encoding \u001b[38;5;241m=\u001b[39m \u001b[38;5;28mself\u001b[39m\u001b[38;5;241m.\u001b[39mencoding(file)\n\u001b[1;32m--> 208\u001b[0m stream \u001b[38;5;241m=\u001b[39m \u001b[38;5;28;43mself\u001b[39;49m\u001b[38;5;241;43m.\u001b[39;49m\u001b[43m_root\u001b[49m\u001b[38;5;241;43m.\u001b[39;49m\u001b[43mjoin\u001b[49m\u001b[43m(\u001b[49m\u001b[43mfile\u001b[49m\u001b[43m)\u001b[49m\u001b[38;5;241m.\u001b[39mopen(encoding)\n\u001b[0;32m    209\u001b[0m \u001b[38;5;28;01mreturn\u001b[39;00m stream\n",
      "File \u001b[1;32mc:\\Users\\elpiz\\anaconda3\\envs\\ds_practicum_env\\lib\\site-packages\\nltk\\data.py:335\u001b[0m, in \u001b[0;36mFileSystemPathPointer.join\u001b[1;34m(self, fileid)\u001b[0m\n\u001b[0;32m    333\u001b[0m \u001b[38;5;28;01mdef\u001b[39;00m \u001b[38;5;21mjoin\u001b[39m(\u001b[38;5;28mself\u001b[39m, fileid):\n\u001b[0;32m    334\u001b[0m     _path \u001b[38;5;241m=\u001b[39m os\u001b[38;5;241m.\u001b[39mpath\u001b[38;5;241m.\u001b[39mjoin(\u001b[38;5;28mself\u001b[39m\u001b[38;5;241m.\u001b[39m_path, fileid)\n\u001b[1;32m--> 335\u001b[0m     \u001b[38;5;28;01mreturn\u001b[39;00m \u001b[43mFileSystemPathPointer\u001b[49m\u001b[43m(\u001b[49m\u001b[43m_path\u001b[49m\u001b[43m)\u001b[49m\n",
      "File \u001b[1;32mc:\\Users\\elpiz\\anaconda3\\envs\\ds_practicum_env\\lib\\site-packages\\nltk\\compat.py:41\u001b[0m, in \u001b[0;36mpy3_data.<locals>._decorator\u001b[1;34m(*args, **kwargs)\u001b[0m\n\u001b[0;32m     39\u001b[0m \u001b[38;5;28;01mdef\u001b[39;00m \u001b[38;5;21m_decorator\u001b[39m(\u001b[38;5;241m*\u001b[39margs, \u001b[38;5;241m*\u001b[39m\u001b[38;5;241m*\u001b[39mkwargs):\n\u001b[0;32m     40\u001b[0m     args \u001b[38;5;241m=\u001b[39m (args[\u001b[38;5;241m0\u001b[39m], add_py3_data(args[\u001b[38;5;241m1\u001b[39m])) \u001b[38;5;241m+\u001b[39m args[\u001b[38;5;241m2\u001b[39m:]\n\u001b[1;32m---> 41\u001b[0m     \u001b[38;5;28;01mreturn\u001b[39;00m init_func(\u001b[38;5;241m*\u001b[39margs, \u001b[38;5;241m*\u001b[39m\u001b[38;5;241m*\u001b[39mkwargs)\n",
      "File \u001b[1;32mc:\\Users\\elpiz\\anaconda3\\envs\\ds_practicum_env\\lib\\site-packages\\nltk\\data.py:312\u001b[0m, in \u001b[0;36mFileSystemPathPointer.__init__\u001b[1;34m(self, _path)\u001b[0m\n\u001b[0;32m    305\u001b[0m \u001b[38;5;250m\u001b[39m\u001b[38;5;124;03m\"\"\"\u001b[39;00m\n\u001b[0;32m    306\u001b[0m \u001b[38;5;124;03mCreate a new path pointer for the given absolute path.\u001b[39;00m\n\u001b[0;32m    307\u001b[0m \n\u001b[0;32m    308\u001b[0m \u001b[38;5;124;03m:raise IOError: If the given path does not exist.\u001b[39;00m\n\u001b[0;32m    309\u001b[0m \u001b[38;5;124;03m\"\"\"\u001b[39;00m\n\u001b[0;32m    311\u001b[0m _path \u001b[38;5;241m=\u001b[39m os\u001b[38;5;241m.\u001b[39mpath\u001b[38;5;241m.\u001b[39mabspath(_path)\n\u001b[1;32m--> 312\u001b[0m \u001b[38;5;28;01mif\u001b[39;00m \u001b[38;5;129;01mnot\u001b[39;00m \u001b[43mos\u001b[49m\u001b[38;5;241;43m.\u001b[39;49m\u001b[43mpath\u001b[49m\u001b[38;5;241;43m.\u001b[39;49m\u001b[43mexists\u001b[49m\u001b[43m(\u001b[49m\u001b[43m_path\u001b[49m\u001b[43m)\u001b[49m:\n\u001b[0;32m    313\u001b[0m     \u001b[38;5;28;01mraise\u001b[39;00m \u001b[38;5;167;01mIOError\u001b[39;00m(\u001b[38;5;124m\"\u001b[39m\u001b[38;5;124mNo such file or directory: \u001b[39m\u001b[38;5;132;01m%r\u001b[39;00m\u001b[38;5;124m\"\u001b[39m \u001b[38;5;241m%\u001b[39m _path)\n\u001b[0;32m    314\u001b[0m \u001b[38;5;28mself\u001b[39m\u001b[38;5;241m.\u001b[39m_path \u001b[38;5;241m=\u001b[39m _path\n",
      "File \u001b[1;32mc:\\Users\\elpiz\\anaconda3\\envs\\ds_practicum_env\\lib\\genericpath.py:19\u001b[0m, in \u001b[0;36mexists\u001b[1;34m(path)\u001b[0m\n\u001b[0;32m     17\u001b[0m \u001b[38;5;250m\u001b[39m\u001b[38;5;124;03m\"\"\"Test whether a path exists.  Returns False for broken symbolic links\"\"\"\u001b[39;00m\n\u001b[0;32m     18\u001b[0m \u001b[38;5;28;01mtry\u001b[39;00m:\n\u001b[1;32m---> 19\u001b[0m     \u001b[43mos\u001b[49m\u001b[38;5;241;43m.\u001b[39;49m\u001b[43mstat\u001b[49m\u001b[43m(\u001b[49m\u001b[43mpath\u001b[49m\u001b[43m)\u001b[49m\n\u001b[0;32m     20\u001b[0m \u001b[38;5;28;01mexcept\u001b[39;00m (\u001b[38;5;167;01mOSError\u001b[39;00m, \u001b[38;5;167;01mValueError\u001b[39;00m):\n\u001b[0;32m     21\u001b[0m     \u001b[38;5;28;01mreturn\u001b[39;00m \u001b[38;5;28;01mFalse\u001b[39;00m\n",
      "\u001b[1;31mKeyboardInterrupt\u001b[0m: "
     ]
    }
   ],
   "source": [
    "# Оценка модели\n",
    "evaluate(train_df, question2_vectors, vectorizer)"
   ]
  },
  {
   "cell_type": "code",
   "execution_count": 94,
   "metadata": {},
   "outputs": [
    {
     "name": "stderr",
     "output_type": "stream",
     "text": [
      "100%|██████████| 200/200 [00:20<00:00,  9.59it/s]"
     ]
    },
    {
     "name": "stdout",
     "output_type": "stream",
     "text": [
      "Примеры predicted:\n",
      "[[97, 1, 74, 11, 0], [23, 43, 58, 14, 1], [144, 99, 27, 41, 2], [196, 156, 17, 106, 3], [43, 23, 10, 14, 4], [37, 170, 4, 22, 5], [161, 194, 132, 59, 6], [31, 86, 121, 12, 7], [88, 9, 100, 40, 8], [8, 59, 15, 17, 9], [43, 23, 4, 14, 10], [97, 10, 0, 74, 11], [167, 101, 7, 90, 12], [19, 196, 122, 16, 13], [58, 10, 23, 43, 14], [27, 20, 9, 17, 15], [105, 102, 76, 13, 16], [9, 59, 106, 15, 17], [78, 19, 162, 163, 18], [85, 103, 18, 121, 19]]\n",
      "Примеры actual:\n",
      "[[0], [], [2], [], [], [5], [], [7], [8], [], [10], [], [], [13], [], [15], [16], [], [], [19]]\n",
      "------------------------\n",
      "Accuracy@5: 0.495\n",
      "Hits@5: 0.495\n",
      "MRR: 0.09899999999999999\n",
      "DCG@5: 0.19149213958109812\n"
     ]
    },
    {
     "name": "stderr",
     "output_type": "stream",
     "text": [
      "\n"
     ]
    }
   ],
   "source": [
    "# Оценка модели\n",
    "evaluate(train_df[:200], question2_vectors[:200], vectorizer)"
   ]
  },
  {
   "cell_type": "code",
   "execution_count": 55,
   "metadata": {},
   "outputs": [
    {
     "name": "stderr",
     "output_type": "stream",
     "text": [
      "100%|██████████| 1000/1000 [02:02<00:00,  8.19it/s]"
     ]
    },
    {
     "name": "stdout",
     "output_type": "stream",
     "text": [
      "Accuracy@5: 0.993\n",
      "Hits@5: 0.993\n",
      "MRR: 0.2638000000000001\n",
      "DCG@5: 0.5962170180406452\n"
     ]
    },
    {
     "name": "stderr",
     "output_type": "stream",
     "text": [
      "\n"
     ]
    }
   ],
   "source": [
    "# Оценка модели\n",
    "evaluate(train_df[:1000], question2_vectors[:1000], vectorizer)"
   ]
  },
  {
   "cell_type": "markdown",
   "metadata": {},
   "source": [
    "### SentenceTransformers"
   ]
  },
  {
   "cell_type": "code",
   "execution_count": null,
   "metadata": {},
   "outputs": [],
   "source": [
    "# from sklearn.metrics.pairwise import cosine_similarity\n",
    "\n",
    "# def get_top_similar_questions_indices(question_embedding, question_embeddings, n=5):\n",
    "#     \"\"\"\n",
    "#     Функция для поиска индексов n наиболее похожих вопросов.\n",
    "\n",
    "#     Args:\n",
    "#         question_embedding (numpy.ndarray): Векторное представление входного вопроса.\n",
    "#         question_embeddings (numpy.ndarray): Матрица векторов всех вопросов.\n",
    "#         n (int, optional): Количество возвращаемых индексов. По умолчанию - 5.\n",
    "\n",
    "#     Returns:\n",
    "#         list: Список n индексов наиболее похожих вопросов.\n",
    "#     \"\"\"\n",
    "#     # Вычисление косинусного сходства\n",
    "#     similarity = cosine_similarity(question_embedding.reshape(1, -1), question_embeddings).flatten()\n",
    "\n",
    "#     # Получение индексов наиболее похожих вопросов\n",
    "#     top_indices = np.argsort(similarity)[-n:]\n",
    "\n",
    "#     # Возврат индексов наиболее похожих вопросов\n",
    "#     return top_indices.tolist()"
   ]
  },
  {
   "cell_type": "code",
   "execution_count": 97,
   "metadata": {},
   "outputs": [
    {
     "data": {
      "application/vnd.jupyter.widget-view+json": {
       "model_id": "da48680346414167984a9c717ae716c0",
       "version_major": 2,
       "version_minor": 0
      },
      "text/plain": [
       "modules.json:   0%|          | 0.00/229 [00:00<?, ?B/s]"
      ]
     },
     "metadata": {},
     "output_type": "display_data"
    },
    {
     "name": "stderr",
     "output_type": "stream",
     "text": [
      "c:\\Users\\elpiz\\anaconda3\\envs\\ds_practicum_env\\lib\\site-packages\\huggingface_hub\\file_download.py:148: UserWarning: `huggingface_hub` cache-system uses symlinks by default to efficiently store duplicated files but your machine does not support them in C:\\Users\\elpiz\\.cache\\huggingface\\hub\\models--sentence-transformers--multi-qa-mpnet-base-dot-v1. Caching files will still work but in a degraded version that might require more space on your disk. This warning can be disabled by setting the `HF_HUB_DISABLE_SYMLINKS_WARNING` environment variable. For more details, see https://huggingface.co/docs/huggingface_hub/how-to-cache#limitations.\n",
      "To support symlinks on Windows, you either need to activate Developer Mode or to run Python as an administrator. In order to see activate developer mode, see this article: https://docs.microsoft.com/en-us/windows/apps/get-started/enable-your-device-for-development\n",
      "  warnings.warn(message)\n"
     ]
    },
    {
     "data": {
      "application/vnd.jupyter.widget-view+json": {
       "model_id": "5cc2f409132e498fb077516c8a8e84ba",
       "version_major": 2,
       "version_minor": 0
      },
      "text/plain": [
       "config_sentence_transformers.json:   0%|          | 0.00/116 [00:00<?, ?B/s]"
      ]
     },
     "metadata": {},
     "output_type": "display_data"
    },
    {
     "data": {
      "application/vnd.jupyter.widget-view+json": {
       "model_id": "f0c85c25c5e1494db16b0d774fc1521a",
       "version_major": 2,
       "version_minor": 0
      },
      "text/plain": [
       "README.md:   0%|          | 0.00/8.71k [00:00<?, ?B/s]"
      ]
     },
     "metadata": {},
     "output_type": "display_data"
    },
    {
     "data": {
      "application/vnd.jupyter.widget-view+json": {
       "model_id": "e0bff214f7224b37a5d8addd395dffa0",
       "version_major": 2,
       "version_minor": 0
      },
      "text/plain": [
       "sentence_bert_config.json:   0%|          | 0.00/53.0 [00:00<?, ?B/s]"
      ]
     },
     "metadata": {},
     "output_type": "display_data"
    },
    {
     "data": {
      "application/vnd.jupyter.widget-view+json": {
       "model_id": "665ee33ec2224bb093da6c01e3b0a424",
       "version_major": 2,
       "version_minor": 0
      },
      "text/plain": [
       "config.json:   0%|          | 0.00/571 [00:00<?, ?B/s]"
      ]
     },
     "metadata": {},
     "output_type": "display_data"
    },
    {
     "data": {
      "application/vnd.jupyter.widget-view+json": {
       "model_id": "4e7ca4b569634d0db7874a003de5cccd",
       "version_major": 2,
       "version_minor": 0
      },
      "text/plain": [
       "model.safetensors:   0%|          | 0.00/438M [00:00<?, ?B/s]"
      ]
     },
     "metadata": {},
     "output_type": "display_data"
    },
    {
     "data": {
      "application/vnd.jupyter.widget-view+json": {
       "model_id": "daa1c78e7db649c4938b91b740a22e06",
       "version_major": 2,
       "version_minor": 0
      },
      "text/plain": [
       "tokenizer_config.json:   0%|          | 0.00/363 [00:00<?, ?B/s]"
      ]
     },
     "metadata": {},
     "output_type": "display_data"
    },
    {
     "data": {
      "application/vnd.jupyter.widget-view+json": {
       "model_id": "c0210d58630b4f989ddff442d9ec57b1",
       "version_major": 2,
       "version_minor": 0
      },
      "text/plain": [
       "vocab.txt:   0%|          | 0.00/232k [00:00<?, ?B/s]"
      ]
     },
     "metadata": {},
     "output_type": "display_data"
    },
    {
     "data": {
      "application/vnd.jupyter.widget-view+json": {
       "model_id": "33a0db1835cc4783965390620d9ff1d0",
       "version_major": 2,
       "version_minor": 0
      },
      "text/plain": [
       "tokenizer.json:   0%|          | 0.00/466k [00:00<?, ?B/s]"
      ]
     },
     "metadata": {},
     "output_type": "display_data"
    },
    {
     "data": {
      "application/vnd.jupyter.widget-view+json": {
       "model_id": "e21ed6acbcfb45eb9b30126daf5112d9",
       "version_major": 2,
       "version_minor": 0
      },
      "text/plain": [
       "special_tokens_map.json:   0%|          | 0.00/239 [00:00<?, ?B/s]"
      ]
     },
     "metadata": {},
     "output_type": "display_data"
    },
    {
     "data": {
      "application/vnd.jupyter.widget-view+json": {
       "model_id": "b271e453dd9e4f5899ce3eb669f3da59",
       "version_major": 2,
       "version_minor": 0
      },
      "text/plain": [
       "1_Pooling/config.json:   0%|          | 0.00/190 [00:00<?, ?B/s]"
      ]
     },
     "metadata": {},
     "output_type": "display_data"
    }
   ],
   "source": [
    "# Загрузка модели\n",
    "# model = SentenceTransformer('multi-qa-mpnet-base-dot-v1')"
   ]
  },
  {
   "cell_type": "code",
   "execution_count": 98,
   "metadata": {},
   "outputs": [],
   "source": [
    "# Векторизация вопросов\n",
    "# question1_embeddings = model.encode(train_df['question_1'])\n",
    "# question2_embeddings = model.encode(train_df['question_2'])"
   ]
  },
  {
   "cell_type": "markdown",
   "metadata": {},
   "source": [
    "#### v2"
   ]
  },
  {
   "cell_type": "code",
   "execution_count": 104,
   "metadata": {},
   "outputs": [
    {
     "name": "stdout",
     "output_type": "stream",
     "text": [
      "Accuracy@5 для модели multi-qa-mpnet-base-dot-v1: 0.0016\n"
     ]
    }
   ],
   "source": [
    "# def evaluate_model(model, data):\n",
    "#     \"\"\"\n",
    "#     Оценивает модель SentenceTransformer на предоставленных данных.\n",
    "\n",
    "#     Args:\n",
    "#         model (SentenceTransformer): Обученная модель SentenceTransformer.\n",
    "#         data (pd.DataFrame): DataFrame с данными для оценки.\n",
    "\n",
    "#     Returns:\n",
    "#         float: Значение accuracy@5.\n",
    "#     \"\"\"\n",
    "#     embeddings_1 = model.encode(data['processed_question_1'])\n",
    "#     embeddings_2 = model.encode(data['processed_question_2'])\n",
    "\n",
    "#     similarities = cosine_similarity(embeddings_1, embeddings_2)\n",
    "\n",
    "#     top_5_idx = np.argsort(similarities, axis=1)[:, -5:]\n",
    "#     accuracy_at_5 = np.mean([data['label'][i] in top_5_idx[i] for i in range(len(data))])\n",
    "\n",
    "#     return accuracy_at_5\n",
    "\n",
    "# model_name = 'multi-qa-mpnet-base-dot-v1'\n",
    "# model = SentenceTransformer(model_name)\n",
    "\n",
    "# accuracy = evaluate_model(model, train_df)\n",
    "# print(f\"Accuracy@5 для модели {model_name}: {accuracy:.4f}\")"
   ]
  },
  {
   "cell_type": "code",
   "execution_count": null,
   "metadata": {},
   "outputs": [],
   "source": [
    "def create_index(df, model, text_cols = ['processed_question_1','processed_question_2'], dump=False):\n",
    "    \"\"\"\n",
    "    Создает индекс эмбеддингов и словари для поиска похожих вопросов.\n",
    "\n",
    "    Args:\n",
    "        df (pd.DataFrame): DataFrame с текстовыми вопросами.\n",
    "        model (str): Модель SentenceTransformer.\n",
    "        text_cols (list): Названия текстовых столбцов - 2 текстовых элемента в списке.\n",
    "        dump (bool): Если True, то сохраняет словари в файлы 'pcl'. По умолчанию - False.\n",
    "        \n",
    "    Returns:\n",
    "        tuple: (словарь индекс-эмбеддингов, словарь индекс-вопрос, словарь вопрос-индекс, словарь с ground truth)\n",
    "    \"\"\"\n",
    "    corpus = list(set(df[text_cols[0]].tolist() + df[text_cols[1]].tolist()))\n",
    "    sen2idx = {text: i for i, text in enumerate(corpus)}\n",
    "    idx2sen = {v: k for k, v in sen2idx.items()}\n",
    "    idx2emd = {i: model.encode(text) for i, text in idx2sen.items()}\n",
    "\n",
    "    if dump:\n",
    "        with open(\"idx2emb.pcl\", \"wb\") as fid:\n",
    "            dump(idx2emd, fid)\n",
    "        with open(\"idx2sen.pcl\", \"wb\") as fid:\n",
    "            dump(idx2sen, fid)\n",
    "        with open(\"sen2idx.pcl\", \"wb\") as fid:\n",
    "            dump(sen2idx, fid)\n",
    "\n",
    "    gt = defaultdict(list)\n",
    "    for _, row in df.iterrows():\n",
    "        idx1 = sen2idx[row[text_cols[0]]]\n",
    "        idx2 = sen2idx[row[text_cols[1]]]\n",
    "\n",
    "        if row.label:\n",
    "            gt[idx1].append(idx2)\n",
    "            gt[idx2].append(idx1)\n",
    "\n",
    "    return idx2emd, idx2sen, sen2idx, gt\n",
    "\n",
    "def evaluate_model(idx2emd, gt, n=5):\n",
    "    \"\"\"\n",
    "    Оценивает модель SentenceTransformer на предоставленных данных с использованием метрики accuracy.\n",
    "\n",
    "    Args:\n",
    "        idx2emd (dict): Словарь с индекс-эмбеддингов.\n",
    "        gt (dict): Словарь с ground truth.\n",
    "\n",
    "    Returns:\n",
    "        float: Значение accuracy@5.\n",
    "    \"\"\"\n",
    "\n",
    "    emb_list = []\n",
    "    for i in range(len(idx2emd)):\n",
    "        emb_list.append(idx2emd[i])\n",
    "    arr = np.array(emb_list)\n",
    "    dist = pdist(arr, metric=\"cosine\")\n",
    "    dist_matrix = squareform(dist)\n",
    "    top_indx = np.argsort(dist_matrix)[:, :n+1]\n",
    "\n",
    "    acc = []\n",
    "    for j in range(top_indx.shape[0]):\n",
    "        rec_idx = top_indx[j, :]\n",
    "        gt_idx = gt.get(j, [])\n",
    "        if len(gt_idx) > 0:\n",
    "            intersection = set(rec_idx).intersection(set(gt_idx))\n",
    "            acc.append(len(intersection) > 0)\n",
    "\n",
    "    return np.mean(acc)\n",
    "\n",
    "def evaluate_SentenceTransformer(model_name, df , text_cols=['processed_question_1','processed_question_2']):\n",
    "    \n",
    "    model = SentenceTransformer(model_name)\n",
    "    idx2emd, _, _, gt = create_index(df, model,text_cols)\n",
    "    accuracy = evaluate_model(idx2emd, gt)\n",
    "    return accuracy"
   ]
  },
  {
   "cell_type": "code",
   "execution_count": 115,
   "metadata": {},
   "outputs": [
    {
     "name": "stdout",
     "output_type": "stream",
     "text": [
      "3.007136583328247\n"
     ]
    }
   ],
   "source": [
    "start = time.time()\n",
    "time.sleep(3)\n",
    "end = time.time()\n",
    "\n",
    "print(end-start)"
   ]
  },
  {
   "cell_type": "code",
   "execution_count": 119,
   "metadata": {},
   "outputs": [],
   "source": [
    "metrics = None"
   ]
  },
  {
   "cell_type": "code",
   "execution_count": 123,
   "metadata": {},
   "outputs": [
    {
     "ename": "KeyError",
     "evalue": "'many hour drinking antibiotic drink alcohol'",
     "output_type": "error",
     "traceback": [
      "\u001b[1;31m---------------------------------------------------------------------------\u001b[0m",
      "\u001b[1;31mKeyError\u001b[0m                                  Traceback (most recent call last)",
      "File \u001b[1;32m<timed eval>:1\u001b[0m\n",
      "File \u001b[1;32mc:\\Users\\elpiz\\anaconda3\\envs\\ds_practicum_env\\lib\\site-packages\\IPython\\core\\interactiveshell.py:2478\u001b[0m, in \u001b[0;36mInteractiveShell.run_cell_magic\u001b[1;34m(self, magic_name, line, cell)\u001b[0m\n\u001b[0;32m   2476\u001b[0m \u001b[38;5;28;01mwith\u001b[39;00m \u001b[38;5;28mself\u001b[39m\u001b[38;5;241m.\u001b[39mbuiltin_trap:\n\u001b[0;32m   2477\u001b[0m     args \u001b[38;5;241m=\u001b[39m (magic_arg_s, cell)\n\u001b[1;32m-> 2478\u001b[0m     result \u001b[38;5;241m=\u001b[39m fn(\u001b[38;5;241m*\u001b[39margs, \u001b[38;5;241m*\u001b[39m\u001b[38;5;241m*\u001b[39mkwargs)\n\u001b[0;32m   2480\u001b[0m \u001b[38;5;66;03m# The code below prevents the output from being displayed\u001b[39;00m\n\u001b[0;32m   2481\u001b[0m \u001b[38;5;66;03m# when using magics with decodator @output_can_be_silenced\u001b[39;00m\n\u001b[0;32m   2482\u001b[0m \u001b[38;5;66;03m# when the last Python token in the expression is a ';'.\u001b[39;00m\n\u001b[0;32m   2483\u001b[0m \u001b[38;5;28;01mif\u001b[39;00m \u001b[38;5;28mgetattr\u001b[39m(fn, magic\u001b[38;5;241m.\u001b[39mMAGIC_OUTPUT_CAN_BE_SILENCED, \u001b[38;5;28;01mFalse\u001b[39;00m):\n",
      "File \u001b[1;32mc:\\Users\\elpiz\\anaconda3\\envs\\ds_practicum_env\\lib\\site-packages\\chime.py:302\u001b[0m, in \u001b[0;36mChimeMagics.chime\u001b[1;34m(self, line, cell, local_ns)\u001b[0m\n\u001b[0;32m    300\u001b[0m     run(line)\n\u001b[0;32m    301\u001b[0m \u001b[38;5;28;01melse\u001b[39;00m:\n\u001b[1;32m--> 302\u001b[0m     \u001b[43mrun\u001b[49m\u001b[43m(\u001b[49m\u001b[43mcell\u001b[49m\u001b[43m)\u001b[49m\n",
      "File \u001b[1;32mc:\\Users\\elpiz\\anaconda3\\envs\\ds_practicum_env\\lib\\site-packages\\chime.py:297\u001b[0m, in \u001b[0;36mChimeMagics.chime.<locals>.run\u001b[1;34m(code)\u001b[0m\n\u001b[0;32m    295\u001b[0m \u001b[38;5;28;01mexcept\u001b[39;00m \u001b[38;5;167;01mException\u001b[39;00m \u001b[38;5;28;01mas\u001b[39;00m e:\n\u001b[0;32m    296\u001b[0m     error()\n\u001b[1;32m--> 297\u001b[0m     \u001b[38;5;28;01mraise\u001b[39;00m e\n",
      "File \u001b[1;32mc:\\Users\\elpiz\\anaconda3\\envs\\ds_practicum_env\\lib\\site-packages\\chime.py:293\u001b[0m, in \u001b[0;36mChimeMagics.chime.<locals>.run\u001b[1;34m(code)\u001b[0m\n\u001b[0;32m    291\u001b[0m \u001b[38;5;28;01mdef\u001b[39;00m \u001b[38;5;21mrun\u001b[39m(code):\n\u001b[0;32m    292\u001b[0m     \u001b[38;5;28;01mtry\u001b[39;00m:\n\u001b[1;32m--> 293\u001b[0m         \u001b[43mexec\u001b[49m\u001b[43m(\u001b[49m\u001b[43mcode\u001b[49m\u001b[43m,\u001b[49m\u001b[43m \u001b[49m\u001b[43mlocal_ns\u001b[49m\u001b[43m)\u001b[49m\n\u001b[0;32m    294\u001b[0m         success()\n\u001b[0;32m    295\u001b[0m     \u001b[38;5;28;01mexcept\u001b[39;00m \u001b[38;5;167;01mException\u001b[39;00m \u001b[38;5;28;01mas\u001b[39;00m e:\n",
      "File \u001b[1;32m<string>:28\u001b[0m\n",
      "Cell \u001b[1;32mIn[116], line 71\u001b[0m, in \u001b[0;36mevaluate_SentenceTransformer\u001b[1;34m(model_name, df, text_cols)\u001b[0m\n\u001b[0;32m     68\u001b[0m \u001b[38;5;28;01mdef\u001b[39;00m \u001b[38;5;21mevaluate_SentenceTransformer\u001b[39m(model_name, df , text_cols\u001b[38;5;241m=\u001b[39m[\u001b[38;5;124m'\u001b[39m\u001b[38;5;124mprocessed_question_1\u001b[39m\u001b[38;5;124m'\u001b[39m,\u001b[38;5;124m'\u001b[39m\u001b[38;5;124mprocessed_question_2\u001b[39m\u001b[38;5;124m'\u001b[39m]):\n\u001b[0;32m     70\u001b[0m     model \u001b[38;5;241m=\u001b[39m SentenceTransformer(model_name)\n\u001b[1;32m---> 71\u001b[0m     idx2emd, _, _, gt \u001b[38;5;241m=\u001b[39m \u001b[43mcreate_index\u001b[49m\u001b[43m(\u001b[49m\u001b[43mdf\u001b[49m\u001b[43m,\u001b[49m\u001b[43m \u001b[49m\u001b[43mmodel\u001b[49m\u001b[43m,\u001b[49m\u001b[43mtext_cols\u001b[49m\u001b[43m)\u001b[49m\n\u001b[0;32m     72\u001b[0m     accuracy \u001b[38;5;241m=\u001b[39m evaluate_model(idx2emd, gt)\n\u001b[0;32m     73\u001b[0m     \u001b[38;5;28;01mreturn\u001b[39;00m accuracy\n",
      "Cell \u001b[1;32mIn[116], line 29\u001b[0m, in \u001b[0;36mcreate_index\u001b[1;34m(df, model, text_cols, dump)\u001b[0m\n\u001b[0;32m     27\u001b[0m gt \u001b[38;5;241m=\u001b[39m defaultdict(\u001b[38;5;28mlist\u001b[39m)\n\u001b[0;32m     28\u001b[0m \u001b[38;5;28;01mfor\u001b[39;00m _, row \u001b[38;5;129;01min\u001b[39;00m df\u001b[38;5;241m.\u001b[39miterrows():\n\u001b[1;32m---> 29\u001b[0m     idx1 \u001b[38;5;241m=\u001b[39m \u001b[43msen2idx\u001b[49m\u001b[43m[\u001b[49m\u001b[43mrow\u001b[49m\u001b[38;5;241;43m.\u001b[39;49m\u001b[43mprocessed_question_1\u001b[49m\u001b[43m]\u001b[49m\n\u001b[0;32m     30\u001b[0m     idx2 \u001b[38;5;241m=\u001b[39m sen2idx[row\u001b[38;5;241m.\u001b[39mprocessed_question_2]\n\u001b[0;32m     32\u001b[0m     \u001b[38;5;28;01mif\u001b[39;00m row\u001b[38;5;241m.\u001b[39mlabel:\n",
      "\u001b[1;31mKeyError\u001b[0m: 'many hour drinking antibiotic drink alcohol'"
     ]
    }
   ],
   "source": [
    "%%time\n",
    "%%chime\n",
    "\n",
    "model_names = [\n",
    "                'paraphrase-MiniLM-L3-v2'\n",
    "                # 'all-MiniLM-L6-v2',\n",
    "                # 'all-MiniLM-L12-v2',\n",
    "                # 'all-distilroberta-v1',\n",
    "                # 'multi-qa-mpnet-base-dot-v1',\n",
    "                # 'all-mpnet-base-v2'\n",
    "                ]\n",
    "counter = 0\n",
    "for text_type in ['Изначальный', 'Предобработаный']:\n",
    "    for model_name in model_names:\n",
    "\n",
    "        if metrics is None:\n",
    "            metrics = pd.DataFrame()\n",
    "\n",
    "        if model_name not in metrics.index:\n",
    "\n",
    "            metrics.loc[counter,'model'] = model_name\n",
    "            metrics.loc[counter,'text_type'] = text_type\n",
    "            \n",
    "            if text_type == 'Изначальный':\n",
    "                text_cols=['question_1', 'question_2']\n",
    "            else:\n",
    "                text_cols=['processed_question_1','processed_question_2']\n",
    "\n",
    "            start = time.time()\n",
    "            accuracy = evaluate_SentenceTransformer(model_name, train_df, text_cols)\n",
    "            end = time.time()\n",
    "\n",
    "            metrics.loc[counter,'Accuracy@5'] = round(accuracy, 4)\n",
    "            metrics.loc[counter,'time'] = round(end-start, 4)\n",
    "\n",
    "            metrics = metrics.sort_values('Accuracy@5', ascending=0).reset_index(drop=True)\n",
    "            counter +=1\n",
    "            display(metrics, clear = True)\n",
    "        else:\n",
    "            pass"
   ]
  },
  {
   "cell_type": "code",
   "execution_count": 107,
   "metadata": {},
   "outputs": [
    {
     "name": "stdout",
     "output_type": "stream",
     "text": [
      "Accuracy@5 для модели multi-qa-mpnet-base-dot-v1: 0.9044\n",
      "CPU times: total: 16min 40s\n",
      "Wall time: 7min 54s\n"
     ]
    }
   ],
   "source": [
    "%%time\n",
    "%%chime\n",
    "\n",
    "model_name = 'multi-qa-mpnet-base-dot-v1'\n",
    "model = SentenceTransformer(model_name)\n",
    "\n",
    "idx2emd, idx2sen, sen2idx, gt = create_index(train_df, model)\n",
    "accuracy = evaluate_model(idx2emd, gt)\n",
    "\n",
    "print(f\"Accuracy@5 для модели {model_name}: {accuracy:.4f}\")"
   ]
  },
  {
   "cell_type": "code",
   "execution_count": 109,
   "metadata": {},
   "outputs": [
    {
     "name": "stdout",
     "output_type": "stream",
     "text": [
      "Accuracy@5 для модели all-MiniLM-L6-v2: 0.9337\n",
      "CPU times: total: 3min 26s\n",
      "Wall time: 1min 28s\n"
     ]
    }
   ],
   "source": [
    "%%time\n",
    "%%chime\n",
    "\n",
    "model_name = 'all-MiniLM-L6-v2'\n",
    "model = SentenceTransformer(model_name)\n",
    "\n",
    "idx2emd, idx2sen, sen2idx, gt = create_index(train_df, model)\n",
    "accuracy = evaluate_model(idx2emd, gt)\n",
    "\n",
    "print(f\"Accuracy@5 для модели {model_name}: {accuracy:.4f}\")"
   ]
  },
  {
   "cell_type": "code",
   "execution_count": 110,
   "metadata": {},
   "outputs": [
    {
     "data": {
      "application/vnd.jupyter.widget-view+json": {
       "model_id": "83260cad9b264e30aad0eb9ccf275d88",
       "version_major": 2,
       "version_minor": 0
      },
      "text/plain": [
       "modules.json:   0%|          | 0.00/349 [00:00<?, ?B/s]"
      ]
     },
     "metadata": {},
     "output_type": "display_data"
    },
    {
     "name": "stderr",
     "output_type": "stream",
     "text": [
      "c:\\Users\\elpiz\\anaconda3\\envs\\ds_practicum_env\\lib\\site-packages\\huggingface_hub\\file_download.py:148: UserWarning: `huggingface_hub` cache-system uses symlinks by default to efficiently store duplicated files but your machine does not support them in C:\\Users\\elpiz\\.cache\\huggingface\\hub\\models--sentence-transformers--all-MiniLM-L12-v2. Caching files will still work but in a degraded version that might require more space on your disk. This warning can be disabled by setting the `HF_HUB_DISABLE_SYMLINKS_WARNING` environment variable. For more details, see https://huggingface.co/docs/huggingface_hub/how-to-cache#limitations.\n",
      "To support symlinks on Windows, you either need to activate Developer Mode or to run Python as an administrator. In order to see activate developer mode, see this article: https://docs.microsoft.com/en-us/windows/apps/get-started/enable-your-device-for-development\n",
      "  warnings.warn(message)\n"
     ]
    },
    {
     "data": {
      "application/vnd.jupyter.widget-view+json": {
       "model_id": "011448fd688d4f0c953b28ca1daba940",
       "version_major": 2,
       "version_minor": 0
      },
      "text/plain": [
       "config_sentence_transformers.json:   0%|          | 0.00/116 [00:00<?, ?B/s]"
      ]
     },
     "metadata": {},
     "output_type": "display_data"
    },
    {
     "data": {
      "application/vnd.jupyter.widget-view+json": {
       "model_id": "ad58173e6aaa4d62992850db66ea7717",
       "version_major": 2,
       "version_minor": 0
      },
      "text/plain": [
       "README.md:   0%|          | 0.00/10.7k [00:00<?, ?B/s]"
      ]
     },
     "metadata": {},
     "output_type": "display_data"
    },
    {
     "data": {
      "application/vnd.jupyter.widget-view+json": {
       "model_id": "f6be3005a381423e9a69ae83d0bf7a8b",
       "version_major": 2,
       "version_minor": 0
      },
      "text/plain": [
       "sentence_bert_config.json:   0%|          | 0.00/53.0 [00:00<?, ?B/s]"
      ]
     },
     "metadata": {},
     "output_type": "display_data"
    },
    {
     "data": {
      "application/vnd.jupyter.widget-view+json": {
       "model_id": "622f447d91734208afdbc461759f3c43",
       "version_major": 2,
       "version_minor": 0
      },
      "text/plain": [
       "config.json:   0%|          | 0.00/615 [00:00<?, ?B/s]"
      ]
     },
     "metadata": {},
     "output_type": "display_data"
    },
    {
     "data": {
      "application/vnd.jupyter.widget-view+json": {
       "model_id": "0408ca78fa9040bbbcf487f4301ebcc5",
       "version_major": 2,
       "version_minor": 0
      },
      "text/plain": [
       "model.safetensors:   0%|          | 0.00/133M [00:00<?, ?B/s]"
      ]
     },
     "metadata": {},
     "output_type": "display_data"
    },
    {
     "data": {
      "application/vnd.jupyter.widget-view+json": {
       "model_id": "4985e8e3e609402fa9cb380232e8c59d",
       "version_major": 2,
       "version_minor": 0
      },
      "text/plain": [
       "tokenizer_config.json:   0%|          | 0.00/352 [00:00<?, ?B/s]"
      ]
     },
     "metadata": {},
     "output_type": "display_data"
    },
    {
     "data": {
      "application/vnd.jupyter.widget-view+json": {
       "model_id": "228e12badf9e4d28add2dea07edc41f4",
       "version_major": 2,
       "version_minor": 0
      },
      "text/plain": [
       "vocab.txt:   0%|          | 0.00/232k [00:00<?, ?B/s]"
      ]
     },
     "metadata": {},
     "output_type": "display_data"
    },
    {
     "data": {
      "application/vnd.jupyter.widget-view+json": {
       "model_id": "1407cf81f6ed4cc193418d6aa520e5cf",
       "version_major": 2,
       "version_minor": 0
      },
      "text/plain": [
       "tokenizer.json:   0%|          | 0.00/466k [00:00<?, ?B/s]"
      ]
     },
     "metadata": {},
     "output_type": "display_data"
    },
    {
     "data": {
      "application/vnd.jupyter.widget-view+json": {
       "model_id": "3ab8bb1cc7274712a5a2eacce645fc40",
       "version_major": 2,
       "version_minor": 0
      },
      "text/plain": [
       "special_tokens_map.json:   0%|          | 0.00/112 [00:00<?, ?B/s]"
      ]
     },
     "metadata": {},
     "output_type": "display_data"
    },
    {
     "data": {
      "application/vnd.jupyter.widget-view+json": {
       "model_id": "7677f7cf5bae461aa8a420d4b2cd3f51",
       "version_major": 2,
       "version_minor": 0
      },
      "text/plain": [
       "1_Pooling/config.json:   0%|          | 0.00/190 [00:00<?, ?B/s]"
      ]
     },
     "metadata": {},
     "output_type": "display_data"
    },
    {
     "name": "stdout",
     "output_type": "stream",
     "text": [
      "Accuracy@5 для модели all-MiniLM-L12-v2: 0.9264\n",
      "CPU times: total: 6min 19s\n",
      "Wall time: 4min 3s\n"
     ]
    }
   ],
   "source": [
    "%%time\n",
    "%%chime\n",
    "\n",
    "model_name = 'all-MiniLM-L12-v2'\n",
    "model = SentenceTransformer(model_name)\n",
    "\n",
    "idx2emd, idx2sen, sen2idx, gt = create_index(train_df, model)\n",
    "accuracy = evaluate_model(idx2emd, gt)\n",
    "\n",
    "print(f\"Accuracy@5 для модели {model_name}: {accuracy:.4f}\")"
   ]
  },
  {
   "cell_type": "code",
   "execution_count": 111,
   "metadata": {},
   "outputs": [
    {
     "data": {
      "application/vnd.jupyter.widget-view+json": {
       "model_id": "053f2466b3db4daca8197f9e363f688b",
       "version_major": 2,
       "version_minor": 0
      },
      "text/plain": [
       "modules.json:   0%|          | 0.00/229 [00:00<?, ?B/s]"
      ]
     },
     "metadata": {},
     "output_type": "display_data"
    },
    {
     "name": "stderr",
     "output_type": "stream",
     "text": [
      "c:\\Users\\elpiz\\anaconda3\\envs\\ds_practicum_env\\lib\\site-packages\\huggingface_hub\\file_download.py:148: UserWarning: `huggingface_hub` cache-system uses symlinks by default to efficiently store duplicated files but your machine does not support them in C:\\Users\\elpiz\\.cache\\huggingface\\hub\\models--sentence-transformers--paraphrase-MiniLM-L3-v2. Caching files will still work but in a degraded version that might require more space on your disk. This warning can be disabled by setting the `HF_HUB_DISABLE_SYMLINKS_WARNING` environment variable. For more details, see https://huggingface.co/docs/huggingface_hub/how-to-cache#limitations.\n",
      "To support symlinks on Windows, you either need to activate Developer Mode or to run Python as an administrator. In order to see activate developer mode, see this article: https://docs.microsoft.com/en-us/windows/apps/get-started/enable-your-device-for-development\n",
      "  warnings.warn(message)\n"
     ]
    },
    {
     "data": {
      "application/vnd.jupyter.widget-view+json": {
       "model_id": "63da726a80c4496eabb639ae73a8ef4d",
       "version_major": 2,
       "version_minor": 0
      },
      "text/plain": [
       "config_sentence_transformers.json:   0%|          | 0.00/122 [00:00<?, ?B/s]"
      ]
     },
     "metadata": {},
     "output_type": "display_data"
    },
    {
     "data": {
      "application/vnd.jupyter.widget-view+json": {
       "model_id": "6775b4c296a74db78a51e2a80c7c8ad6",
       "version_major": 2,
       "version_minor": 0
      },
      "text/plain": [
       "README.md:   0%|          | 0.00/4.04k [00:00<?, ?B/s]"
      ]
     },
     "metadata": {},
     "output_type": "display_data"
    },
    {
     "data": {
      "application/vnd.jupyter.widget-view+json": {
       "model_id": "f85b1f8153344b6eb3a1c18a6b205ab6",
       "version_major": 2,
       "version_minor": 0
      },
      "text/plain": [
       "sentence_bert_config.json:   0%|          | 0.00/53.0 [00:00<?, ?B/s]"
      ]
     },
     "metadata": {},
     "output_type": "display_data"
    },
    {
     "data": {
      "application/vnd.jupyter.widget-view+json": {
       "model_id": "ef8203a3c434418aadba8416cf3bc3cf",
       "version_major": 2,
       "version_minor": 0
      },
      "text/plain": [
       "config.json:   0%|          | 0.00/629 [00:00<?, ?B/s]"
      ]
     },
     "metadata": {},
     "output_type": "display_data"
    },
    {
     "data": {
      "application/vnd.jupyter.widget-view+json": {
       "model_id": "a32fb51359f847b984d634063ebe9f46",
       "version_major": 2,
       "version_minor": 0
      },
      "text/plain": [
       "model.safetensors:   0%|          | 0.00/69.6M [00:00<?, ?B/s]"
      ]
     },
     "metadata": {},
     "output_type": "display_data"
    },
    {
     "data": {
      "application/vnd.jupyter.widget-view+json": {
       "model_id": "06b35c2dd7d34a4ba890878391893905",
       "version_major": 2,
       "version_minor": 0
      },
      "text/plain": [
       "tokenizer_config.json:   0%|          | 0.00/314 [00:00<?, ?B/s]"
      ]
     },
     "metadata": {},
     "output_type": "display_data"
    },
    {
     "data": {
      "application/vnd.jupyter.widget-view+json": {
       "model_id": "ff044756d97a47da85f452e4aff61188",
       "version_major": 2,
       "version_minor": 0
      },
      "text/plain": [
       "vocab.txt:   0%|          | 0.00/232k [00:00<?, ?B/s]"
      ]
     },
     "metadata": {},
     "output_type": "display_data"
    },
    {
     "data": {
      "application/vnd.jupyter.widget-view+json": {
       "model_id": "c53fecc3e19c406c94cd9cd633efa507",
       "version_major": 2,
       "version_minor": 0
      },
      "text/plain": [
       "tokenizer.json:   0%|          | 0.00/466k [00:00<?, ?B/s]"
      ]
     },
     "metadata": {},
     "output_type": "display_data"
    },
    {
     "data": {
      "application/vnd.jupyter.widget-view+json": {
       "model_id": "00543bb6cf3c41cc9ad824c2219b4e40",
       "version_major": 2,
       "version_minor": 0
      },
      "text/plain": [
       "special_tokens_map.json:   0%|          | 0.00/112 [00:00<?, ?B/s]"
      ]
     },
     "metadata": {},
     "output_type": "display_data"
    },
    {
     "data": {
      "application/vnd.jupyter.widget-view+json": {
       "model_id": "243d8d5c3107498cb0fd2c0ee6d3af87",
       "version_major": 2,
       "version_minor": 0
      },
      "text/plain": [
       "1_Pooling/config.json:   0%|          | 0.00/190 [00:00<?, ?B/s]"
      ]
     },
     "metadata": {},
     "output_type": "display_data"
    },
    {
     "name": "stdout",
     "output_type": "stream",
     "text": [
      "Accuracy@5 для модели paraphrase-MiniLM-L3-v2: 0.9080\n",
      "CPU times: total: 2min 8s\n",
      "Wall time: 1min 20s\n"
     ]
    }
   ],
   "source": [
    "%%time\n",
    "%%chime\n",
    "\n",
    "model_name = 'paraphrase-MiniLM-L3-v2'\n",
    "model = SentenceTransformer(model_name)\n",
    "\n",
    "idx2emd, idx2sen, sen2idx, gt = create_index(train_df, model)\n",
    "accuracy = evaluate_model(idx2emd, gt)\n",
    "\n",
    "print(f\"Accuracy@5 для модели {model_name}: {accuracy:.4f}\")"
   ]
  },
  {
   "cell_type": "code",
   "execution_count": 112,
   "metadata": {},
   "outputs": [
    {
     "data": {
      "application/vnd.jupyter.widget-view+json": {
       "model_id": "b19accc6dfcb42b7a1d238ae5f2f8961",
       "version_major": 2,
       "version_minor": 0
      },
      "text/plain": [
       "modules.json:   0%|          | 0.00/349 [00:00<?, ?B/s]"
      ]
     },
     "metadata": {},
     "output_type": "display_data"
    },
    {
     "name": "stderr",
     "output_type": "stream",
     "text": [
      "c:\\Users\\elpiz\\anaconda3\\envs\\ds_practicum_env\\lib\\site-packages\\huggingface_hub\\file_download.py:148: UserWarning: `huggingface_hub` cache-system uses symlinks by default to efficiently store duplicated files but your machine does not support them in C:\\Users\\elpiz\\.cache\\huggingface\\hub\\models--sentence-transformers--all-mpnet-base-v2. Caching files will still work but in a degraded version that might require more space on your disk. This warning can be disabled by setting the `HF_HUB_DISABLE_SYMLINKS_WARNING` environment variable. For more details, see https://huggingface.co/docs/huggingface_hub/how-to-cache#limitations.\n",
      "To support symlinks on Windows, you either need to activate Developer Mode or to run Python as an administrator. In order to see activate developer mode, see this article: https://docs.microsoft.com/en-us/windows/apps/get-started/enable-your-device-for-development\n",
      "  warnings.warn(message)\n"
     ]
    },
    {
     "data": {
      "application/vnd.jupyter.widget-view+json": {
       "model_id": "65e4ba0d06964665a9ae30f0d82cd280",
       "version_major": 2,
       "version_minor": 0
      },
      "text/plain": [
       "config_sentence_transformers.json:   0%|          | 0.00/116 [00:00<?, ?B/s]"
      ]
     },
     "metadata": {},
     "output_type": "display_data"
    },
    {
     "data": {
      "application/vnd.jupyter.widget-view+json": {
       "model_id": "71f44b08948c41b5b96a6e2116b09182",
       "version_major": 2,
       "version_minor": 0
      },
      "text/plain": [
       "README.md:   0%|          | 0.00/10.6k [00:00<?, ?B/s]"
      ]
     },
     "metadata": {},
     "output_type": "display_data"
    },
    {
     "data": {
      "application/vnd.jupyter.widget-view+json": {
       "model_id": "6ef8ea21bdf04b07ab2bee38e5249d10",
       "version_major": 2,
       "version_minor": 0
      },
      "text/plain": [
       "sentence_bert_config.json:   0%|          | 0.00/53.0 [00:00<?, ?B/s]"
      ]
     },
     "metadata": {},
     "output_type": "display_data"
    },
    {
     "data": {
      "application/vnd.jupyter.widget-view+json": {
       "model_id": "af7ec90507e84cbaabe85718ff9ac005",
       "version_major": 2,
       "version_minor": 0
      },
      "text/plain": [
       "config.json:   0%|          | 0.00/571 [00:00<?, ?B/s]"
      ]
     },
     "metadata": {},
     "output_type": "display_data"
    },
    {
     "data": {
      "application/vnd.jupyter.widget-view+json": {
       "model_id": "19406404089c43cabd482e1b7037efe3",
       "version_major": 2,
       "version_minor": 0
      },
      "text/plain": [
       "model.safetensors:   0%|          | 0.00/438M [00:00<?, ?B/s]"
      ]
     },
     "metadata": {},
     "output_type": "display_data"
    },
    {
     "data": {
      "application/vnd.jupyter.widget-view+json": {
       "model_id": "725944fefe5041a0b3b3bd309dae81cb",
       "version_major": 2,
       "version_minor": 0
      },
      "text/plain": [
       "tokenizer_config.json:   0%|          | 0.00/363 [00:00<?, ?B/s]"
      ]
     },
     "metadata": {},
     "output_type": "display_data"
    },
    {
     "data": {
      "application/vnd.jupyter.widget-view+json": {
       "model_id": "9bbd0dd489404acbb855d0f9ecdf71aa",
       "version_major": 2,
       "version_minor": 0
      },
      "text/plain": [
       "vocab.txt:   0%|          | 0.00/232k [00:00<?, ?B/s]"
      ]
     },
     "metadata": {},
     "output_type": "display_data"
    },
    {
     "data": {
      "application/vnd.jupyter.widget-view+json": {
       "model_id": "3be665e9064c438c84a1ae5f568f1a73",
       "version_major": 2,
       "version_minor": 0
      },
      "text/plain": [
       "tokenizer.json:   0%|          | 0.00/466k [00:00<?, ?B/s]"
      ]
     },
     "metadata": {},
     "output_type": "display_data"
    },
    {
     "data": {
      "application/vnd.jupyter.widget-view+json": {
       "model_id": "ea513bc81a5f42999ea47426a4793ebe",
       "version_major": 2,
       "version_minor": 0
      },
      "text/plain": [
       "special_tokens_map.json:   0%|          | 0.00/239 [00:00<?, ?B/s]"
      ]
     },
     "metadata": {},
     "output_type": "display_data"
    },
    {
     "data": {
      "application/vnd.jupyter.widget-view+json": {
       "model_id": "367c339b6d9f4641810a548c8585276e",
       "version_major": 2,
       "version_minor": 0
      },
      "text/plain": [
       "1_Pooling/config.json:   0%|          | 0.00/190 [00:00<?, ?B/s]"
      ]
     },
     "metadata": {},
     "output_type": "display_data"
    },
    {
     "name": "stdout",
     "output_type": "stream",
     "text": [
      "Accuracy@5 для модели all-mpnet-base-v2: 0.9117\n",
      "CPU times: total: 16min 20s\n",
      "Wall time: 9min 55s\n"
     ]
    }
   ],
   "source": [
    "%%time\n",
    "%%chime\n",
    "\n",
    "model_name = 'all-mpnet-base-v2'\n",
    "model = SentenceTransformer(model_name)\n",
    "\n",
    "idx2emd, idx2sen, sen2idx, gt = create_index(train_df, model)\n",
    "accuracy = evaluate_model(idx2emd, gt)\n",
    "\n",
    "print(f\"Accuracy@5 для модели {model_name}: {accuracy:.4f}\")"
   ]
  },
  {
   "cell_type": "code",
   "execution_count": 114,
   "metadata": {},
   "outputs": [
    {
     "data": {
      "application/vnd.jupyter.widget-view+json": {
       "model_id": "5c2ceea0129e40eba7fd2f24d8c173ac",
       "version_major": 2,
       "version_minor": 0
      },
      "text/plain": [
       "modules.json:   0%|          | 0.00/349 [00:00<?, ?B/s]"
      ]
     },
     "metadata": {},
     "output_type": "display_data"
    },
    {
     "name": "stderr",
     "output_type": "stream",
     "text": [
      "c:\\Users\\elpiz\\anaconda3\\envs\\ds_practicum_env\\lib\\site-packages\\huggingface_hub\\file_download.py:148: UserWarning: `huggingface_hub` cache-system uses symlinks by default to efficiently store duplicated files but your machine does not support them in C:\\Users\\elpiz\\.cache\\huggingface\\hub\\models--sentence-transformers--all-distilroberta-v1. Caching files will still work but in a degraded version that might require more space on your disk. This warning can be disabled by setting the `HF_HUB_DISABLE_SYMLINKS_WARNING` environment variable. For more details, see https://huggingface.co/docs/huggingface_hub/how-to-cache#limitations.\n",
      "To support symlinks on Windows, you either need to activate Developer Mode or to run Python as an administrator. In order to see activate developer mode, see this article: https://docs.microsoft.com/en-us/windows/apps/get-started/enable-your-device-for-development\n",
      "  warnings.warn(message)\n"
     ]
    },
    {
     "data": {
      "application/vnd.jupyter.widget-view+json": {
       "model_id": "43380d2a8f8e4f80b3a1844635467df4",
       "version_major": 2,
       "version_minor": 0
      },
      "text/plain": [
       "config_sentence_transformers.json:   0%|          | 0.00/116 [00:00<?, ?B/s]"
      ]
     },
     "metadata": {},
     "output_type": "display_data"
    },
    {
     "data": {
      "application/vnd.jupyter.widget-view+json": {
       "model_id": "3928eb6ea8414eab82e1877a418237e3",
       "version_major": 2,
       "version_minor": 0
      },
      "text/plain": [
       "README.md:   0%|          | 0.00/10.3k [00:00<?, ?B/s]"
      ]
     },
     "metadata": {},
     "output_type": "display_data"
    },
    {
     "data": {
      "application/vnd.jupyter.widget-view+json": {
       "model_id": "f059534c04c5454db21a428b51c10ddd",
       "version_major": 2,
       "version_minor": 0
      },
      "text/plain": [
       "sentence_bert_config.json:   0%|          | 0.00/53.0 [00:00<?, ?B/s]"
      ]
     },
     "metadata": {},
     "output_type": "display_data"
    },
    {
     "data": {
      "application/vnd.jupyter.widget-view+json": {
       "model_id": "1d7a52551f8b4cf19149529691cf8cdf",
       "version_major": 2,
       "version_minor": 0
      },
      "text/plain": [
       "config.json:   0%|          | 0.00/653 [00:00<?, ?B/s]"
      ]
     },
     "metadata": {},
     "output_type": "display_data"
    },
    {
     "data": {
      "application/vnd.jupyter.widget-view+json": {
       "model_id": "9e2b03709a764bca9ed9ef1c083a04a8",
       "version_major": 2,
       "version_minor": 0
      },
      "text/plain": [
       "model.safetensors:   0%|          | 0.00/328M [00:00<?, ?B/s]"
      ]
     },
     "metadata": {},
     "output_type": "display_data"
    },
    {
     "data": {
      "application/vnd.jupyter.widget-view+json": {
       "model_id": "8a8fc540238b4524875319a793b352b6",
       "version_major": 2,
       "version_minor": 0
      },
      "text/plain": [
       "tokenizer_config.json:   0%|          | 0.00/333 [00:00<?, ?B/s]"
      ]
     },
     "metadata": {},
     "output_type": "display_data"
    },
    {
     "data": {
      "application/vnd.jupyter.widget-view+json": {
       "model_id": "a300aaf9f7354ef09f896ce884909e9f",
       "version_major": 2,
       "version_minor": 0
      },
      "text/plain": [
       "vocab.json:   0%|          | 0.00/798k [00:00<?, ?B/s]"
      ]
     },
     "metadata": {},
     "output_type": "display_data"
    },
    {
     "data": {
      "application/vnd.jupyter.widget-view+json": {
       "model_id": "fc58cfa7a70b42b792ab9657ef14f049",
       "version_major": 2,
       "version_minor": 0
      },
      "text/plain": [
       "merges.txt:   0%|          | 0.00/456k [00:00<?, ?B/s]"
      ]
     },
     "metadata": {},
     "output_type": "display_data"
    },
    {
     "data": {
      "application/vnd.jupyter.widget-view+json": {
       "model_id": "217a223aed904238a886dd94ac78bbf2",
       "version_major": 2,
       "version_minor": 0
      },
      "text/plain": [
       "tokenizer.json:   0%|          | 0.00/1.36M [00:00<?, ?B/s]"
      ]
     },
     "metadata": {},
     "output_type": "display_data"
    },
    {
     "data": {
      "application/vnd.jupyter.widget-view+json": {
       "model_id": "24105c1faea4419ab42ce790b3db724e",
       "version_major": 2,
       "version_minor": 0
      },
      "text/plain": [
       "special_tokens_map.json:   0%|          | 0.00/239 [00:00<?, ?B/s]"
      ]
     },
     "metadata": {},
     "output_type": "display_data"
    },
    {
     "data": {
      "application/vnd.jupyter.widget-view+json": {
       "model_id": "707000e9077d4e59a252a9468fbad632",
       "version_major": 2,
       "version_minor": 0
      },
      "text/plain": [
       "1_Pooling/config.json:   0%|          | 0.00/190 [00:00<?, ?B/s]"
      ]
     },
     "metadata": {},
     "output_type": "display_data"
    },
    {
     "name": "stdout",
     "output_type": "stream",
     "text": [
      "Accuracy@5 для модели all-distilroberta-v1: 0.9172\n",
      "CPU times: total: 8min 38s\n",
      "Wall time: 5min 57s\n"
     ]
    }
   ],
   "source": [
    "%%time\n",
    "%%chime\n",
    "\n",
    "model_name = 'all-distilroberta-v1'\n",
    "model = SentenceTransformer(model_name)\n",
    "\n",
    "idx2emd, idx2sen, sen2idx, gt = create_index(train_df, model)\n",
    "accuracy = evaluate_model(idx2emd, gt)\n",
    "\n",
    "print(f\"Accuracy@5 для модели {model_name}: {accuracy:.4f}\")"
   ]
  },
  {
   "cell_type": "code",
   "execution_count": null,
   "metadata": {},
   "outputs": [],
   "source": []
  }
 ],
 "metadata": {
  "kernelspec": {
   "display_name": "ds_practicum_env",
   "language": "python",
   "name": "python3"
  },
  "language_info": {
   "codemirror_mode": {
    "name": "ipython",
    "version": 3
   },
   "file_extension": ".py",
   "mimetype": "text/x-python",
   "name": "python",
   "nbconvert_exporter": "python",
   "pygments_lexer": "ipython3",
   "version": "3.9.17"
  }
 },
 "nbformat": 4,
 "nbformat_minor": 2
}
