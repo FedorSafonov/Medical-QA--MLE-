{
 "cells": [
  {
   "cell_type": "markdown",
   "metadata": {},
   "source": [
    "# Проект: Сервис поиска похожих вопросов для медицинских форумов\n",
    "\n",
    "## Описание\n",
    "\n",
    "### Цель\n",
    "\n",
    "Целью данного проекта является разработка сервиса для поиска похожих вопросов на медицинских форумах. Сервис поможет удержать пользователей на платформе и увеличить количество просмотров страниц, что в свою очередь повысит эффективность рекламных кампаний и улучшит общие показатели форумов.\n",
    "\n",
    "### Исходные данные\n",
    "\n",
    "Для обучения и тестирования моделей используется датасет \"medical_questions_pairs\" от Hugging Face.  Датасет содержит пары вопросов на английском языке, связанных с медицинской тематикой.\n",
    "\n",
    "### Методы\n",
    "\n",
    "В проекте будут использованы следующие методы и технологии:\n",
    "\n",
    "* Обработка естественного языка (NLP) для анализа и предобработки текстовых данных.\n",
    "* Машинное обучение с использованием различных моделей NLP, таких как Bag-of-Words, TF-IDF, Word2Vec, SentenceTransformers и BERT. \n",
    "* FastAPI для создания микросервиса, предоставляющего функциональность поиска похожих вопросов.\n",
    "* Streamlit для разработки интерактивного веб-приложения для демонстрации работы сервиса.\n",
    "\n",
    "### Метрики оценки\n",
    "\n",
    "Качество матчинга вопросов будет оцениваться с использованием следующих метрик: \n",
    "\n",
    "* Accuracy@5 - `ключевая метрика`\n",
    "* Hits@K\n",
    "* MRR@K (Mean Reciprocal Rank)\n",
    "* DCG@K (Discounted Cumulative Gain)"
   ]
  },
  {
   "cell_type": "markdown",
   "metadata": {},
   "source": [
    "## Импорты"
   ]
  },
  {
   "cell_type": "code",
   "execution_count": 2,
   "metadata": {},
   "outputs": [],
   "source": [
    "import random\n",
    "from datetime import datetime\n",
    "from datasets import load_dataset\n",
    "import pandas as pd\n",
    "import numpy as np\n",
    "import spacy\n",
    "import nltk\n",
    "import matplotlib.pyplot as plt\n",
    "from sklearn.feature_extraction.text import TfidfVectorizer\n",
    "from sklearn.metrics.pairwise import cosine_similarity\n",
    "from sklearn.metrics import dcg_score\n",
    "from skimpy import skim\n",
    "import time\n",
    "import chime\n",
    "from tqdm import tqdm\n",
    "chime.theme('mario')\n",
    "%load_ext chime\n",
    "from sentence_transformers import SentenceTransformer, util, losses, InputExample, LoggingHandler\n",
    "from collections import defaultdict\n",
    "from scipy.spatial.distance import pdist, squareform\n",
    "from pickle import dump\n",
    "from torch.utils.data import DataLoader\n",
    "\n",
    "plt.style.use('dark_background')"
   ]
  },
  {
   "cell_type": "markdown",
   "metadata": {},
   "source": [
    "## Загрузка и обзор данных"
   ]
  },
  {
   "cell_type": "code",
   "execution_count": 16,
   "metadata": {},
   "outputs": [
    {
     "name": "stdout",
     "output_type": "stream",
     "text": [
      "TRAIN\n",
      "<class 'pandas.core.frame.DataFrame'>\n",
      "RangeIndex: 3048 entries, 0 to 3047\n",
      "Data columns (total 4 columns):\n",
      " #   Column      Non-Null Count  Dtype \n",
      "---  ------      --------------  ----- \n",
      " 0   dr_id       3048 non-null   int64 \n",
      " 1   question_1  3048 non-null   object\n",
      " 2   question_2  3048 non-null   object\n",
      " 3   label       3048 non-null   int64 \n",
      "dtypes: int64(2), object(2)\n",
      "memory usage: 95.4+ KB\n",
      "None\n",
      "-------------------\n",
      "\n",
      "TRAIN\n"
     ]
    },
    {
     "data": {
      "text/html": [
       "<pre style=\"white-space:pre;overflow-x:auto;line-height:normal;font-family:Menlo,'DejaVu Sans Mono',consolas,'Courier New',monospace\">╭──────────────────────────────────────────────── skimpy summary ─────────────────────────────────────────────────╮\n",
       "│ <span style=\"font-style: italic\">         Data Summary         </span> <span style=\"font-style: italic\">      Data Types       </span>                                                          │\n",
       "│ ┏━━━━━━━━━━━━━━━━━━━┳━━━━━━━━┓ ┏━━━━━━━━━━━━━┳━━━━━━━┓                                                          │\n",
       "│ ┃<span style=\"color: #008080; text-decoration-color: #008080; font-weight: bold\"> dataframe         </span>┃<span style=\"color: #008080; text-decoration-color: #008080; font-weight: bold\"> Values </span>┃ ┃<span style=\"color: #008080; text-decoration-color: #008080; font-weight: bold\"> Column Type </span>┃<span style=\"color: #008080; text-decoration-color: #008080; font-weight: bold\"> Count </span>┃                                                          │\n",
       "│ ┡━━━━━━━━━━━━━━━━━━━╇━━━━━━━━┩ ┡━━━━━━━━━━━━━╇━━━━━━━┩                                                          │\n",
       "│ │ Number of rows    │ 3048   │ │ int32       │ 2     │                                                          │\n",
       "│ │ Number of columns │ 4      │ │ string      │ 2     │                                                          │\n",
       "│ └───────────────────┴────────┘ └─────────────┴───────┘                                                          │\n",
       "│ <span style=\"font-style: italic\">                                                    number                                                    </span>  │\n",
       "│ ┏━━━━━━━━━━━━━━━━━━━━━┳━━━━━━━┳━━━━━━━━━━┳━━━━━━━━━━┳━━━━━━━━┳━━━━━━━┳━━━━━━━━┳━━━━━━━━┳━━━━━━━━━┳━━━━━━━━━━━┓  │\n",
       "│ ┃<span style=\"font-weight: bold\"> column_name         </span>┃<span style=\"font-weight: bold\"> NA    </span>┃<span style=\"font-weight: bold\"> NA %     </span>┃<span style=\"font-weight: bold\"> mean     </span>┃<span style=\"font-weight: bold\"> sd     </span>┃<span style=\"font-weight: bold\"> p0    </span>┃<span style=\"font-weight: bold\"> p25    </span>┃<span style=\"font-weight: bold\"> p75    </span>┃<span style=\"font-weight: bold\"> p100    </span>┃<span style=\"font-weight: bold\"> hist      </span>┃  │\n",
       "│ ┡━━━━━━━━━━━━━━━━━━━━━╇━━━━━━━╇━━━━━━━━━━╇━━━━━━━━━━╇━━━━━━━━╇━━━━━━━╇━━━━━━━━╇━━━━━━━━╇━━━━━━━━━╇━━━━━━━━━━━┩  │\n",
       "│ │ <span style=\"color: #af87ff; text-decoration-color: #af87ff\">dr_id              </span> │ <span style=\"color: #008080; text-decoration-color: #008080\">    0</span> │ <span style=\"color: #008080; text-decoration-color: #008080\">       0</span> │ <span style=\"color: #008080; text-decoration-color: #008080\">       6</span> │ <span style=\"color: #008080; text-decoration-color: #008080\">   3.1</span> │ <span style=\"color: #008080; text-decoration-color: #008080\">    1</span> │ <span style=\"color: #008080; text-decoration-color: #008080\">     3</span> │ <span style=\"color: #008080; text-decoration-color: #008080\">     9</span> │ <span style=\"color: #008080; text-decoration-color: #008080\">     11</span> │ <span style=\"color: #008000; text-decoration-color: #008000\"> ██▄███  </span> │  │\n",
       "│ │ <span style=\"color: #af87ff; text-decoration-color: #af87ff\">label              </span> │ <span style=\"color: #008080; text-decoration-color: #008080\">    0</span> │ <span style=\"color: #008080; text-decoration-color: #008080\">       0</span> │ <span style=\"color: #008080; text-decoration-color: #008080\">     0.5</span> │ <span style=\"color: #008080; text-decoration-color: #008080\">   0.5</span> │ <span style=\"color: #008080; text-decoration-color: #008080\">    0</span> │ <span style=\"color: #008080; text-decoration-color: #008080\">     0</span> │ <span style=\"color: #008080; text-decoration-color: #008080\">     1</span> │ <span style=\"color: #008080; text-decoration-color: #008080\">      1</span> │ <span style=\"color: #008000; text-decoration-color: #008000\"> █    █  </span> │  │\n",
       "│ └─────────────────────┴───────┴──────────┴──────────┴────────┴───────┴────────┴────────┴─────────┴───────────┘  │\n",
       "│ <span style=\"font-style: italic\">                                                    string                                                    </span>  │\n",
       "│ ┏━━━━━━━━━━━━━━━━━━━━━━━━━━━┳━━━━━━━━━┳━━━━━━━━━━━━┳━━━━━━━━━━━━━━━━━━━━━━━━━━━━━━┳━━━━━━━━━━━━━━━━━━━━━━━━━━┓  │\n",
       "│ ┃<span style=\"font-weight: bold\"> column_name               </span>┃<span style=\"font-weight: bold\"> NA      </span>┃<span style=\"font-weight: bold\"> NA %       </span>┃<span style=\"font-weight: bold\"> words per row                </span>┃<span style=\"font-weight: bold\"> total words              </span>┃  │\n",
       "│ ┡━━━━━━━━━━━━━━━━━━━━━━━━━━━╇━━━━━━━━━╇━━━━━━━━━━━━╇━━━━━━━━━━━━━━━━━━━━━━━━━━━━━━╇━━━━━━━━━━━━━━━━━━━━━━━━━━┩  │\n",
       "│ │ <span style=\"color: #af87ff; text-decoration-color: #af87ff\">question_1               </span> │ <span style=\"color: #008080; text-decoration-color: #008080\">      0</span> │ <span style=\"color: #008080; text-decoration-color: #008080\">         0</span> │ <span style=\"color: #008080; text-decoration-color: #008080\">                          19</span> │ <span style=\"color: #008080; text-decoration-color: #008080\">                   57264</span> │  │\n",
       "│ │ <span style=\"color: #af87ff; text-decoration-color: #af87ff\">question_2               </span> │ <span style=\"color: #008080; text-decoration-color: #008080\">      0</span> │ <span style=\"color: #008080; text-decoration-color: #008080\">         0</span> │ <span style=\"color: #008080; text-decoration-color: #008080\">                          19</span> │ <span style=\"color: #008080; text-decoration-color: #008080\">                   57264</span> │  │\n",
       "│ └───────────────────────────┴─────────┴────────────┴──────────────────────────────┴──────────────────────────┘  │\n",
       "╰────────────────────────────────────────────────────── End ──────────────────────────────────────────────────────╯\n",
       "</pre>\n"
      ],
      "text/plain": [
       "╭──────────────────────────────────────────────── skimpy summary ─────────────────────────────────────────────────╮\n",
       "│ \u001b[3m         Data Summary         \u001b[0m \u001b[3m      Data Types       \u001b[0m                                                          │\n",
       "│ ┏━━━━━━━━━━━━━━━━━━━┳━━━━━━━━┓ ┏━━━━━━━━━━━━━┳━━━━━━━┓                                                          │\n",
       "│ ┃\u001b[1;36m \u001b[0m\u001b[1;36mdataframe        \u001b[0m\u001b[1;36m \u001b[0m┃\u001b[1;36m \u001b[0m\u001b[1;36mValues\u001b[0m\u001b[1;36m \u001b[0m┃ ┃\u001b[1;36m \u001b[0m\u001b[1;36mColumn Type\u001b[0m\u001b[1;36m \u001b[0m┃\u001b[1;36m \u001b[0m\u001b[1;36mCount\u001b[0m\u001b[1;36m \u001b[0m┃                                                          │\n",
       "│ ┡━━━━━━━━━━━━━━━━━━━╇━━━━━━━━┩ ┡━━━━━━━━━━━━━╇━━━━━━━┩                                                          │\n",
       "│ │ Number of rows    │ 3048   │ │ int32       │ 2     │                                                          │\n",
       "│ │ Number of columns │ 4      │ │ string      │ 2     │                                                          │\n",
       "│ └───────────────────┴────────┘ └─────────────┴───────┘                                                          │\n",
       "│ \u001b[3m                                                    number                                                    \u001b[0m  │\n",
       "│ ┏━━━━━━━━━━━━━━━━━━━━━┳━━━━━━━┳━━━━━━━━━━┳━━━━━━━━━━┳━━━━━━━━┳━━━━━━━┳━━━━━━━━┳━━━━━━━━┳━━━━━━━━━┳━━━━━━━━━━━┓  │\n",
       "│ ┃\u001b[1m \u001b[0m\u001b[1mcolumn_name        \u001b[0m\u001b[1m \u001b[0m┃\u001b[1m \u001b[0m\u001b[1mNA   \u001b[0m\u001b[1m \u001b[0m┃\u001b[1m \u001b[0m\u001b[1mNA %    \u001b[0m\u001b[1m \u001b[0m┃\u001b[1m \u001b[0m\u001b[1mmean    \u001b[0m\u001b[1m \u001b[0m┃\u001b[1m \u001b[0m\u001b[1msd    \u001b[0m\u001b[1m \u001b[0m┃\u001b[1m \u001b[0m\u001b[1mp0   \u001b[0m\u001b[1m \u001b[0m┃\u001b[1m \u001b[0m\u001b[1mp25   \u001b[0m\u001b[1m \u001b[0m┃\u001b[1m \u001b[0m\u001b[1mp75   \u001b[0m\u001b[1m \u001b[0m┃\u001b[1m \u001b[0m\u001b[1mp100   \u001b[0m\u001b[1m \u001b[0m┃\u001b[1m \u001b[0m\u001b[1mhist     \u001b[0m\u001b[1m \u001b[0m┃  │\n",
       "│ ┡━━━━━━━━━━━━━━━━━━━━━╇━━━━━━━╇━━━━━━━━━━╇━━━━━━━━━━╇━━━━━━━━╇━━━━━━━╇━━━━━━━━╇━━━━━━━━╇━━━━━━━━━╇━━━━━━━━━━━┩  │\n",
       "│ │ \u001b[38;5;141mdr_id              \u001b[0m │ \u001b[36m    0\u001b[0m │ \u001b[36m       0\u001b[0m │ \u001b[36m       6\u001b[0m │ \u001b[36m   3.1\u001b[0m │ \u001b[36m    1\u001b[0m │ \u001b[36m     3\u001b[0m │ \u001b[36m     9\u001b[0m │ \u001b[36m     11\u001b[0m │ \u001b[32m ██▄███  \u001b[0m │  │\n",
       "│ │ \u001b[38;5;141mlabel              \u001b[0m │ \u001b[36m    0\u001b[0m │ \u001b[36m       0\u001b[0m │ \u001b[36m     0.5\u001b[0m │ \u001b[36m   0.5\u001b[0m │ \u001b[36m    0\u001b[0m │ \u001b[36m     0\u001b[0m │ \u001b[36m     1\u001b[0m │ \u001b[36m      1\u001b[0m │ \u001b[32m █    █  \u001b[0m │  │\n",
       "│ └─────────────────────┴───────┴──────────┴──────────┴────────┴───────┴────────┴────────┴─────────┴───────────┘  │\n",
       "│ \u001b[3m                                                    string                                                    \u001b[0m  │\n",
       "│ ┏━━━━━━━━━━━━━━━━━━━━━━━━━━━┳━━━━━━━━━┳━━━━━━━━━━━━┳━━━━━━━━━━━━━━━━━━━━━━━━━━━━━━┳━━━━━━━━━━━━━━━━━━━━━━━━━━┓  │\n",
       "│ ┃\u001b[1m \u001b[0m\u001b[1mcolumn_name              \u001b[0m\u001b[1m \u001b[0m┃\u001b[1m \u001b[0m\u001b[1mNA     \u001b[0m\u001b[1m \u001b[0m┃\u001b[1m \u001b[0m\u001b[1mNA %      \u001b[0m\u001b[1m \u001b[0m┃\u001b[1m \u001b[0m\u001b[1mwords per row               \u001b[0m\u001b[1m \u001b[0m┃\u001b[1m \u001b[0m\u001b[1mtotal words             \u001b[0m\u001b[1m \u001b[0m┃  │\n",
       "│ ┡━━━━━━━━━━━━━━━━━━━━━━━━━━━╇━━━━━━━━━╇━━━━━━━━━━━━╇━━━━━━━━━━━━━━━━━━━━━━━━━━━━━━╇━━━━━━━━━━━━━━━━━━━━━━━━━━┩  │\n",
       "│ │ \u001b[38;5;141mquestion_1               \u001b[0m │ \u001b[36m      0\u001b[0m │ \u001b[36m         0\u001b[0m │ \u001b[36m                          19\u001b[0m │ \u001b[36m                   57264\u001b[0m │  │\n",
       "│ │ \u001b[38;5;141mquestion_2               \u001b[0m │ \u001b[36m      0\u001b[0m │ \u001b[36m         0\u001b[0m │ \u001b[36m                          19\u001b[0m │ \u001b[36m                   57264\u001b[0m │  │\n",
       "│ └───────────────────────────┴─────────┴────────────┴──────────────────────────────┴──────────────────────────┘  │\n",
       "╰────────────────────────────────────────────────────── End ──────────────────────────────────────────────────────╯\n"
      ]
     },
     "metadata": {},
     "output_type": "display_data"
    },
    {
     "data": {
      "text/html": [
       "<div>\n",
       "<style scoped>\n",
       "    .dataframe tbody tr th:only-of-type {\n",
       "        vertical-align: middle;\n",
       "    }\n",
       "\n",
       "    .dataframe tbody tr th {\n",
       "        vertical-align: top;\n",
       "    }\n",
       "\n",
       "    .dataframe thead th {\n",
       "        text-align: right;\n",
       "    }\n",
       "</style>\n",
       "<table border=\"1\" class=\"dataframe\">\n",
       "  <thead>\n",
       "    <tr style=\"text-align: right;\">\n",
       "      <th></th>\n",
       "      <th>dr_id</th>\n",
       "      <th>question_1</th>\n",
       "      <th>question_2</th>\n",
       "      <th>label</th>\n",
       "    </tr>\n",
       "  </thead>\n",
       "  <tbody>\n",
       "    <tr>\n",
       "      <th>0</th>\n",
       "      <td>1</td>\n",
       "      <td>After how many hour from drinking an antibioti...</td>\n",
       "      <td>I have a party tonight and I took my last dose...</td>\n",
       "      <td>1</td>\n",
       "    </tr>\n",
       "    <tr>\n",
       "      <th>1</th>\n",
       "      <td>1</td>\n",
       "      <td>After how many hour from drinking an antibioti...</td>\n",
       "      <td>I vomited this morning and I am not sure if it...</td>\n",
       "      <td>0</td>\n",
       "    </tr>\n",
       "    <tr>\n",
       "      <th>2</th>\n",
       "      <td>1</td>\n",
       "      <td>Am I over weight (192.9) for my age (39)?</td>\n",
       "      <td>I am a 39 y/o male currently weighing about 19...</td>\n",
       "      <td>1</td>\n",
       "    </tr>\n",
       "  </tbody>\n",
       "</table>\n",
       "</div>"
      ],
      "text/plain": [
       "   dr_id                                         question_1  \\\n",
       "0      1  After how many hour from drinking an antibioti...   \n",
       "1      1  After how many hour from drinking an antibioti...   \n",
       "2      1          Am I over weight (192.9) for my age (39)?   \n",
       "\n",
       "                                          question_2  label  \n",
       "0  I have a party tonight and I took my last dose...      1  \n",
       "1  I vomited this morning and I am not sure if it...      0  \n",
       "2  I am a 39 y/o male currently weighing about 19...      1  "
      ]
     },
     "metadata": {},
     "output_type": "display_data"
    },
    {
     "name": "stdout",
     "output_type": "stream",
     "text": [
      "Количество дубликатов: 0\n",
      "Количество уникальных question_1: 1524\n",
      "Количество уникальных question_2: 3043\n",
      "Суммарное количество уникальных вопросов: 4567\n"
     ]
    }
   ],
   "source": [
    "# Загрузка датасета medical_questions_pairs\n",
    "try:\n",
    "    train_df = pd.read_csv('train.csv')\n",
    "\n",
    "except:\n",
    "    \n",
    "    dataset = load_dataset(\"medical_questions_pairs\")\n",
    "\n",
    "    # Преобразование датасета в pandas DataFrame\n",
    "    train_df = pd.DataFrame(dataset['train'])\n",
    "    train_df.to_csv('train.csv',index=False)\n",
    "\n",
    "# Изучение структуры датасета\n",
    "print('TRAIN')\n",
    "print(train_df.info())\n",
    "print('-------------------')\n",
    "print()\n",
    "print('TRAIN')\n",
    "skim(train_df)\n",
    "display(train_df.head(3))\n",
    "print(f'Количество дубликатов: {train_df.duplicated().sum()}')\n",
    "print(f'Количество уникальных question_1: {train_df.question_1.unique().shape[0]}')\n",
    "print(f'Количество уникальных question_2: {train_df.question_2.unique().shape[0]}')\n",
    "sum_len = len(set(list(train_df.question_1.unique())+list(train_df.question_2.unique())))\n",
    "print(f'Суммарное количество уникальных вопросов: {sum_len}')"
   ]
  },
  {
   "cell_type": "code",
   "execution_count": 14,
   "metadata": {},
   "outputs": [
    {
     "data": {
      "text/plain": [
       "4567"
      ]
     },
     "execution_count": 14,
     "metadata": {},
     "output_type": "execute_result"
    }
   ],
   "source": [
    "len(list(train_df.question_1.unique())+list(train_df.question_2.unique()))"
   ]
  },
  {
   "cell_type": "code",
   "execution_count": 15,
   "metadata": {},
   "outputs": [
    {
     "data": {
      "text/plain": [
       "4567"
      ]
     },
     "execution_count": 15,
     "metadata": {},
     "output_type": "execute_result"
    }
   ],
   "source": [
    "len(set(list(train_df.question_1.unique())+list(train_df.question_2.unique())))"
   ]
  },
  {
   "cell_type": "code",
   "execution_count": 9,
   "metadata": {},
   "outputs": [
    {
     "data": {
      "text/plain": [
       "1524"
      ]
     },
     "execution_count": 9,
     "metadata": {},
     "output_type": "execute_result"
    }
   ],
   "source": [
    "print(train_df.question_1.unique().shape[0])\n",
    "print(train_df.question_2.unique().shape[0])\n",
    "print()"
   ]
  },
  {
   "cell_type": "code",
   "execution_count": 3,
   "metadata": {},
   "outputs": [
    {
     "data": {
      "image/png": "[encoded data removed]",
      "text/plain": [
       "<Figure size 1000x600 with 1 Axes>"
      ]
     },
     "metadata": {},
     "output_type": "display_data"
    }
   ],
   "source": [
    "# Анализ длины вопросов\n",
    "train_df['question_1_length'] = train_df['question_1'].str.len()\n",
    "train_df['question_2_length'] = train_df['question_2'].str.len()\n",
    "\n",
    "# Визуализация распределения длины вопросов\n",
    "plt.figure(figsize=(10, 6))\n",
    "train_df['question_1_length'].hist(bins=30, alpha=0.5, label='question_1')\n",
    "train_df['question_2_length'].hist(bins=30, alpha=0.5, label='question_2')\n",
    "plt.set_cmap('Greens')\n",
    "plt.xlabel('Длина вопроса')\n",
    "plt.ylabel('Количество')\n",
    "plt.legend()\n",
    "plt.show()"
   ]
  },
  {
   "cell_type": "code",
   "execution_count": 4,
   "metadata": {},
   "outputs": [
    {
     "data": {
      "text/plain": [
       "count    3048.000000\n",
       "mean       99.858924\n",
       "std        45.640730\n",
       "min        20.000000\n",
       "25%        58.000000\n",
       "50%        94.000000\n",
       "75%       144.000000\n",
       "max       255.000000\n",
       "Name: question_1_length, dtype: float64"
      ]
     },
     "execution_count": 4,
     "metadata": {},
     "output_type": "execute_result"
    }
   ],
   "source": [
    "train_df['question_1_length'].describe()"
   ]
  },
  {
   "cell_type": "code",
   "execution_count": 5,
   "metadata": {},
   "outputs": [
    {
     "data": {
      "text/plain": [
       "count    3048.000000\n",
       "mean      110.334646\n",
       "std        63.029785\n",
       "min        15.000000\n",
       "25%        62.000000\n",
       "50%        95.000000\n",
       "75%       146.000000\n",
       "max       404.000000\n",
       "Name: question_2_length, dtype: float64"
      ]
     },
     "execution_count": 5,
     "metadata": {},
     "output_type": "execute_result"
    }
   ],
   "source": [
    "train_df['question_2_length'].describe()"
   ]
  },
  {
   "cell_type": "markdown",
   "metadata": {},
   "source": [
    "## Предобработка"
   ]
  },
  {
   "cell_type": "code",
   "execution_count": 6,
   "metadata": {},
   "outputs": [
    {
     "name": "stderr",
     "output_type": "stream",
     "text": [
      "[nltk_data] Downloading package punkt to C:\\Users\\elpiz/nltk_data...\n",
      "[nltk_data]   Package punkt is already up-to-date!\n",
      "[nltk_data] Downloading package stopwords to\n",
      "[nltk_data]     C:\\Users\\elpiz/nltk_data...\n",
      "[nltk_data]   Package stopwords is already up-to-date!\n"
     ]
    }
   ],
   "source": [
    "nltk.download('punkt')\n",
    "nltk.download('stopwords')\n",
    "\n",
    "# Загрузка модели spaCy\n",
    "nlp = spacy.load(\"en_core_web_trf\")\n",
    "\n",
    "def preprocess_text(text):\n",
    "    \"\"\"\n",
    "    Функция для предобработки текста.\n",
    "\n",
    "    Args:\n",
    "        text (str): Входной текст.\n",
    "\n",
    "    Returns:\n",
    "        list: Список обработанных токенов.\n",
    "    \"\"\"\n",
    "    # Токенизация\n",
    "    tokens = nltk.word_tokenize(text.lower())  # Приведение к нижнему регистру\n",
    "\n",
    "    # Удаление пунктуации\n",
    "    tokens = [token for token in tokens if token.isalnum()]\n",
    "\n",
    "    # Удаление стоп-слов\n",
    "    stop_words = nltk.corpus.stopwords.words('english')\n",
    "    tokens = [token for token in tokens if token not in stop_words]\n",
    "\n",
    "    # Лемматизация\n",
    "    tokens = [token.lemma_ for token in nlp(\" \".join(tokens))]\n",
    "\n",
    "    # Обработка неизвестных слов (замена на UNK)\n",
    "    tokens = [token if token != '-PRON-' else 'UNK' for token in tokens]\n",
    "\n",
    "    return \" \".join(tokens)"
   ]
  },
  {
   "cell_type": "code",
   "execution_count": 7,
   "metadata": {},
   "outputs": [],
   "source": [
    "def preprocess_dataframe(df):\n",
    "    \"\"\"\n",
    "    Функция для предобработки DataFrame с вопросами.\n",
    "\n",
    "    Args:\n",
    "        df (pd.DataFrame): DataFrame с вопросами.\n",
    "\n",
    "    Returns:\n",
    "        pd.DataFrame: DataFrame с предобработанными вопросами.\n",
    "    \"\"\"\n",
    "    df['processed_question_1'] = df['question_1'].apply(preprocess_text)\n",
    "    df['processed_question_2'] = df['question_2'].apply(preprocess_text)\n",
    "    return df"
   ]
  },
  {
   "cell_type": "code",
   "execution_count": 67,
   "metadata": {},
   "outputs": [
    {
     "name": "stdout",
     "output_type": "stream",
     "text": [
      "CPU times: total: 172 ms\n",
      "Wall time: 321 ms\n"
     ]
    }
   ],
   "source": [
    "%%time\n",
    "%%chime\n",
    "\n",
    "try:\n",
    "    train_df = pd.read_csv('prep_train.csv')\n",
    "except:\n",
    "    train_df = preprocess_dataframe(train_df)\n",
    "    train_df.to_csv('prep_train.csv', index=False)"
   ]
  },
  {
   "cell_type": "markdown",
   "metadata": {},
   "source": [
    "## Тестирование моделей"
   ]
  },
  {
   "cell_type": "markdown",
   "metadata": {},
   "source": [
    "### TF-IDF (НЕУДАЧА)"
   ]
  },
  {
   "cell_type": "code",
   "execution_count": 56,
   "metadata": {},
   "outputs": [],
   "source": [
    "def get_top_similar_questions(vectorizer, question, question_vectors, n=5):\n",
    "    \"\"\"\n",
    "    Функция для поиска n наиболее похожих вопросов.\n",
    "\n",
    "    Args:\n",
    "        question (str): Входной вопрос.\n",
    "        question_vectors (scipy.sparse.csr_matrix): Матрица векторов TF-IDF.\n",
    "        n (int, optional): Количество возвращаемых похожих вопросов. Defaults to 5.\n",
    "\n",
    "    Returns:\n",
    "        list: Список n наиболее похожих вопросов. \n",
    "    \"\"\"\n",
    "    # Векторизация входного вопроса\n",
    "    question_vector = vectorizer.transform([preprocess_text(question)])\n",
    "\n",
    "    # Вычисление косинусного сходства\n",
    "    similarity = cosine_similarity(question_vector, question_vectors)[0]\n",
    "\n",
    "    # Получение индексов наиболее похожих вопросов\n",
    "    top_indices = np.argsort(similarity)[-n:]\n",
    "\n",
    "    # Возврат наиболее похожих вопросов\n",
    "    return train_df.loc[top_indices, 'question_1'].tolist()\n",
    "\n",
    "def accuracy_at_k(actual, predicted, k=5):\n",
    "    \"\"\"\n",
    "    Вычисляет Accuracy@k.\n",
    "\n",
    "    Args:\n",
    "        actual (list): Список истинных меток.\n",
    "        predicted (list): Список списков предсказанных меток.\n",
    "        k (int, optional): Значение k. Defaults to 5.\n",
    "\n",
    "    Returns:\n",
    "        float: Accuracy@k.\n",
    "    \"\"\"\n",
    "    score = 0.0\n",
    "    for i in range(len(actual)):\n",
    "        if actual[i] in predicted[i][:k]:  # Проверяем только первые k элементов\n",
    "            score += 1.0\n",
    "    return score / len(actual)\n",
    "\n",
    "def hits_at_k(actual, predicted, k=5):\n",
    "    \"\"\"\n",
    "    Вычисляет Hits@k.\n",
    "\n",
    "    Args:\n",
    "        actual (list): Список истинных меток.\n",
    "        predicted (list): Список списков предсказанных меток.\n",
    "        k (int, optional): Значение k. Defaults to 5.\n",
    "\n",
    "    Returns:\n",
    "        float: Hits@k.\n",
    "    \"\"\"\n",
    "    score = 0.0\n",
    "    for i in range(len(actual)):\n",
    "        if actual[i] in predicted[i][:k]:\n",
    "            score += 1.0\n",
    "    return score / len(actual)\n",
    "\n",
    "def reciprocal_rank(actual, predicted):\n",
    "    \"\"\"\n",
    "    Вычисляет Reciprocal Rank.\n",
    "\n",
    "    Args:\n",
    "        actual (list): Список истинных меток.\n",
    "        predicted (list): Список списков предсказанных меток.\n",
    "\n",
    "    Returns:\n",
    "        float: Reciprocal Rank.\n",
    "    \"\"\"\n",
    "    for i, p in enumerate(predicted):\n",
    "        if actual in p:\n",
    "            return 1.0 / (i + 1.0)\n",
    "    return 0.0\n",
    "\n",
    "def dcg_at_k(actual, predicted, k=5):\n",
    "    \"\"\"\n",
    "    Вычисляет Discounted Cumulative Gain (DCG@k).\n",
    "\n",
    "    Args:\n",
    "        actual (list): Список истинных меток.\n",
    "        predicted (list): Список списков предсказанных меток.\n",
    "        k (int, optional): Значение k. Defaults to 5.\n",
    "\n",
    "    Returns:\n",
    "        float: DCG@k.\n",
    "    \"\"\"\n",
    "    score = 0.0\n",
    "    for i, p in enumerate(predicted[:k]):\n",
    "        if p in actual:\n",
    "            score += 1.0 / np.log2(i + 2)\n",
    "    return score\n",
    "\n",
    "def evaluate(df, question_vectors, vectorizer):\n",
    "    \"\"\"\n",
    "    Функция для оценки качества модели.\n",
    "\n",
    "    Args:\n",
    "        df (pd.DataFrame): DataFrame с вопросами.\n",
    "        question_vectors (scipy.sparse.csr_matrix): Матрица векторов TF-IDF.\n",
    "        vectorizer (TfidfVectorizer): Объект TfidfVectorizer.\n",
    "    \"\"\"\n",
    "    actual = df['question_1'].tolist()\n",
    "    # predicted = df['question_2'].apply(lambda x: get_top_similar_questions(vectorizer, x, question_vectors, n=5)).tolist()\n",
    "    predicted = []\n",
    "    for question in tqdm(df['question_2']):\n",
    "        predicted.append(get_top_similar_questions(vectorizer, question, question_vectors, n=5))\n",
    "\n",
    "    print(\"Accuracy@5:\", accuracy_at_k(actual, predicted))\n",
    "    print(\"Hits@5:\", hits_at_k(actual, predicted))\n",
    "    print(\"MRR:\", np.mean([reciprocal_rank(a, p) for a, p in zip(actual, predicted)]))\n",
    "    print(\"DCG@5:\", np.mean([dcg_at_k(a, p) for a, p in zip(actual, predicted)]))"
   ]
  },
  {
   "cell_type": "markdown",
   "metadata": {},
   "source": [
    "Изменёнка"
   ]
  },
  {
   "cell_type": "code",
   "execution_count": 74,
   "metadata": {},
   "outputs": [],
   "source": [
    "def get_top_similar_questions_indices(question, question_vectors, vectorizer, n=5):\n",
    "    \"\"\"\n",
    "    Функция для поиска индексов n наиболее похожих вопросов.\n",
    "\n",
    "    Args:\n",
    "        question (str): Входной вопрос.\n",
    "        question_vectors (scipy.sparse.csr_matrix): Матрица векторов TF-IDF.\n",
    "        vectorizer (TfidfVectorizer): Объект TfidfVectorizer.\n",
    "        n (int, optional): Количество возвращаемых индексов. Defaults to 5.\n",
    "\n",
    "    Returns:\n",
    "        list: Список n индексов наиболее похожих вопросов.\n",
    "    \"\"\"\n",
    "\n",
    "    # Векторизация входного вопроса\n",
    "    question_vector = vectorizer.transform([preprocess_text(question)])\n",
    "\n",
    "    # Вычисление косинусного сходства\n",
    "    similarity = cosine_similarity(question_vector, question_vectors)[0]\n",
    "\n",
    "    # Получение индексов наиболее похожих вопросов\n",
    "    top_indices = np.argsort(similarity)[-n:]\n",
    "\n",
    "    # Возврат индексов наиболее похожих вопросов\n",
    "    return top_indices.tolist()\n",
    "\n",
    "def accuracy_at_k(actual, predicted, k=5):\n",
    "    score = 0.0\n",
    "    for i in range(len(actual)):\n",
    "        if i in predicted[i][:k]:  # Проверяем наличие индекса в предсказанных\n",
    "            score += 1.0\n",
    "    return score / len(actual)\n",
    "\n",
    "def hits_at_k(actual, predicted, k=5):\n",
    "    score = 0.0\n",
    "    for i in range(len(actual)):\n",
    "        if i in predicted[i][:k]:\n",
    "            score += 1.0\n",
    "    return score / len(actual)\n",
    "\n",
    "def reciprocal_rank(actual, predicted):\n",
    "    for i, p in enumerate(predicted):\n",
    "        if actual in p:\n",
    "            return 1.0 / (i + 1.0)\n",
    "    return 0.0\n",
    "\n",
    "def dcg_at_k(actual, predicted, k=5):\n",
    "    score = 0.0\n",
    "    for i, p in enumerate(predicted[:k]):\n",
    "        if actual in p:\n",
    "            score += 1.0 / np.log2(i + 2)\n",
    "    return score\n",
    "\n",
    "def evaluate(df, question_vectors, vectorizer):\n",
    "    \"\"\"\n",
    "    Функция для оценки качества модели.\n",
    "\n",
    "    Args:\n",
    "        df (pd.DataFrame): DataFrame с вопросами.\n",
    "        question_vectors (scipy.sparse.csr_matrix): Матрица векторов TF-IDF.\n",
    "        vectorizer (TfidfVectorizer): Объект TfidfVectorizer.\n",
    "    \"\"\"\n",
    "    # actual_labels = df['label'].tolist()\n",
    "    # predicted = df['question_2'].apply(lambda x: get_top_similar_questions(vectorizer, x, question_vectors, n=5)).tolist()\n",
    "    actual_labels = [[i] if label == 1 else [] for i, label in enumerate(train_df['label'])]\n",
    "    predicted = []\n",
    "    for question in tqdm(df['question_2']):\n",
    "        predicted.append(get_top_similar_questions_indices(question, question_vectors, vectorizer, n=5))\n",
    "\n",
    "    print(\"Примеры predicted:\")\n",
    "    print(predicted[:5])\n",
    "    print(\"Примеры actual:\")\n",
    "    print(actual_labels[:5])\n",
    "    print('------------------------')\n",
    "    print(\"Accuracy@5:\", accuracy_at_k(actual_labels, predicted))\n",
    "    print(\"Hits@5:\", hits_at_k(actual_labels, predicted))\n",
    "    print(\"MRR:\", np.mean([reciprocal_rank(a, p) for a, p in zip(actual_labels, predicted)]))\n",
    "    print(\"DCG@5:\", np.mean([dcg_at_k(a, p) for a, p in zip(actual_labels, predicted)]))"
   ]
  },
  {
   "cell_type": "code",
   "execution_count": 93,
   "metadata": {},
   "outputs": [],
   "source": [
    "def get_top_similar_questions_indices(question, question_vectors, vectorizer, n=5):\n",
    "    \"\"\"\n",
    "    Функция для поиска индексов n наиболее похожих вопросов.\n",
    "\n",
    "    Args:\n",
    "        question (str): Входной вопрос.\n",
    "        question_vectors (scipy.sparse.csr_matrix): Матрица векторов TF-IDF.\n",
    "        vectorizer (TfidfVectorizer): Объект TfidfVectorizer.\n",
    "        n (int, optional): Количество возвращаемых индексов. Defaults to 5.\n",
    "\n",
    "    Returns:\n",
    "        list: Список n индексов наиболее похожих вопросов.\n",
    "    \"\"\"\n",
    "\n",
    "    # Векторизация входного вопроса\n",
    "    question_vector = vectorizer.transform([preprocess_text(question)])\n",
    "\n",
    "    # Вычисление косинусного сходства\n",
    "    similarity = cosine_similarity(question_vector, question_vectors)[0]\n",
    "\n",
    "    # Получение индексов наиболее похожих вопросов\n",
    "    top_indices = np.argsort(similarity)[-n:]\n",
    "\n",
    "    # Возврат индексов наиболее похожих вопросов\n",
    "    return top_indices.tolist()\n",
    "\n",
    "def accuracy_at_k(actual, predicted, k=5):\n",
    "    \"\"\"\n",
    "    Вычисляет Accuracy@k.\n",
    "\n",
    "    Args:\n",
    "        actual (list): Список списков с индексами релевантных вопросов.\n",
    "        predicted (list): Список списков с индексами k наиболее похожих вопросов.\n",
    "        k (int, optional): Значение k. Defaults to 5.\n",
    "\n",
    "    Returns:\n",
    "        float: Accuracy@k.\n",
    "    \"\"\"\n",
    "    score = 0.0\n",
    "    for i in range(len(actual)):\n",
    "        if any(a in predicted[i][:k] for a in actual[i]):\n",
    "            score += 1.0\n",
    "    return score / len(actual)\n",
    "\n",
    "\n",
    "def hits_at_k(actual, predicted, k=5):\n",
    "    \"\"\"\n",
    "    Вычисляет Hits@k.\n",
    "\n",
    "    Args:\n",
    "        actual (list): Список списков с индексами релевантных вопросов.\n",
    "        predicted (list): Список списков с индексами k наиболее похожих вопросов.\n",
    "        k (int, optional): Значение k. Defaults to 5.\n",
    "\n",
    "    Returns:\n",
    "        float: Hits@k.\n",
    "    \"\"\"\n",
    "    score = 0.0\n",
    "    for i in range(len(actual)):\n",
    "        if set(actual[i]).intersection(predicted[i][:k]):\n",
    "            score += 1.0\n",
    "    return score / len(actual)\n",
    "\n",
    "\n",
    "def reciprocal_rank(actual, predicted):\n",
    "    \"\"\"\n",
    "    Вычисляет Reciprocal Rank.\n",
    "\n",
    "    Args:\n",
    "        actual (list): Список с индексом релевантного вопроса.\n",
    "        predicted (list): Список с индексами похожих вопросов.\n",
    "\n",
    "    Returns:\n",
    "        float: Reciprocal Rank.\n",
    "    \"\"\"\n",
    "    if actual:  # Проверяем, не пустой ли список actual\n",
    "        for i, p in enumerate(predicted):\n",
    "            if actual[0] == p:\n",
    "                return 1.0 / (i + 1.0)\n",
    "    return 0.0\n",
    "\n",
    "def dcg_at_k(actual, predicted, k=5):\n",
    "    \"\"\"\n",
    "    Вычисляет Discounted Cumulative Gain (DCG@k).\n",
    "\n",
    "    Args:\n",
    "        actual (list): Список с индексом релевантного вопроса.\n",
    "        predicted (list): Список с индексами похожих вопросов.\n",
    "        k (int, optional): Значение k. Defaults to 5.\n",
    "\n",
    "    Returns:\n",
    "        float: DCG@k.\n",
    "    \"\"\"\n",
    "    score = 0.0\n",
    "    if actual:\n",
    "        for i, p in enumerate(predicted[:k]):\n",
    "            if p == actual[0]:\n",
    "                score += 1.0 / np.log2(i + 2)\n",
    "    return score\n",
    "\n",
    "\n",
    "def evaluate(df, question_vectors, vectorizer):\n",
    "    \"\"\"\n",
    "    Функция для оценки качества модели.\n",
    "\n",
    "    Args:\n",
    "        df (pd.DataFrame): DataFrame с вопросами и метками.\n",
    "        question_vectors (scipy.sparse.csr_matrix): Матрица векторов TF-IDF.\n",
    "        vectorizer (TfidfVectorizer): Объект TfidfVectorizer.\n",
    "    \"\"\"\n",
    "    actual_labels = [[i] if label == 1 else [] for i, label in enumerate(df['label'])]\n",
    "    predicted = []\n",
    "    for question in tqdm(df['question_2']):\n",
    "        predicted.append(get_top_similar_questions_indices(question, question_vectors, vectorizer, n=5))\n",
    "\n",
    "    print(\"Примеры predicted:\")\n",
    "    print(predicted[:20])\n",
    "    print(\"Примеры actual:\")\n",
    "    print(actual_labels[:20])\n",
    "    print('------------------------')\n",
    "\n",
    "    print(\"Accuracy@5:\", accuracy_at_k(actual_labels, predicted))\n",
    "    print(\"Hits@5:\", hits_at_k(actual_labels, predicted))\n",
    "    print(\"MRR:\", np.mean([reciprocal_rank(a, p) for a, p in zip(actual_labels, predicted)]))\n",
    "    print(\"DCG@5:\", np.mean([dcg_at_k(a, p) for a, p in zip(actual_labels, predicted)]))"
   ]
  },
  {
   "cell_type": "code",
   "execution_count": 83,
   "metadata": {},
   "outputs": [],
   "source": [
    "# Создание объекта TfidfVectorizer с заданными параметрами\n",
    "vectorizer = TfidfVectorizer(max_features=5000, ngram_range=(1,2), min_df=5, max_df=0.8)\n",
    "\n",
    "# Обучение модели на предобработанных вопросах из question_1\n",
    "vectorizer.fit(train_df['processed_question_1'])\n",
    "\n",
    "# Преобразование вопросов из question_2 в векторы TF-IDF\n",
    "question2_vectors = vectorizer.transform(train_df['processed_question_2'])"
   ]
  },
  {
   "cell_type": "code",
   "execution_count": 84,
   "metadata": {},
   "outputs": [
    {
     "data": {
      "text/plain": [
       "[2180, 1580, 366, 2017, 1536]"
      ]
     },
     "execution_count": 84,
     "metadata": {},
     "output_type": "execute_result"
    }
   ],
   "source": [
    "question = \"How can I prevent glaucoma?\"\n",
    "similar_questions = get_top_similar_questions_indices(question, question2_vectors, vectorizer)\n",
    "similar_questions"
   ]
  },
  {
   "cell_type": "code",
   "execution_count": 85,
   "metadata": {},
   "outputs": [],
   "source": [
    "# Вычисление матрицы косинусного сходства\n",
    "similarity_matrix = cosine_similarity(question2_vectors, vectorizer.transform(train_df['processed_question_1']))"
   ]
  },
  {
   "cell_type": "markdown",
   "metadata": {},
   "source": [
    "#### Оценка качества и производительности без разбиения на train и test"
   ]
  },
  {
   "cell_type": "code",
   "execution_count": 86,
   "metadata": {},
   "outputs": [
    {
     "name": "stderr",
     "output_type": "stream",
     "text": [
      "  1%|          | 24/3048 [00:02<05:19,  9.45it/s]\n"
     ]
    },
    {
     "ename": "KeyboardInterrupt",
     "evalue": "",
     "output_type": "error",
     "traceback": [
      "\u001b[1;31m---------------------------------------------------------------------------\u001b[0m",
      "\u001b[1;31mKeyboardInterrupt\u001b[0m                         Traceback (most recent call last)",
      "Cell \u001b[1;32mIn[86], line 2\u001b[0m\n\u001b[0;32m      1\u001b[0m \u001b[38;5;66;03m# Оценка модели\u001b[39;00m\n\u001b[1;32m----> 2\u001b[0m \u001b[43mevaluate\u001b[49m\u001b[43m(\u001b[49m\u001b[43mtrain_df\u001b[49m\u001b[43m,\u001b[49m\u001b[43m \u001b[49m\u001b[43mquestion2_vectors\u001b[49m\u001b[43m,\u001b[49m\u001b[43m \u001b[49m\u001b[43mvectorizer\u001b[49m\u001b[43m)\u001b[49m\n",
      "Cell \u001b[1;32mIn[82], line 113\u001b[0m, in \u001b[0;36mevaluate\u001b[1;34m(df, question_vectors, vectorizer)\u001b[0m\n\u001b[0;32m    111\u001b[0m predicted \u001b[38;5;241m=\u001b[39m []\n\u001b[0;32m    112\u001b[0m \u001b[38;5;28;01mfor\u001b[39;00m question \u001b[38;5;129;01min\u001b[39;00m tqdm(df[\u001b[38;5;124m'\u001b[39m\u001b[38;5;124mquestion_2\u001b[39m\u001b[38;5;124m'\u001b[39m]):\n\u001b[1;32m--> 113\u001b[0m     predicted\u001b[38;5;241m.\u001b[39mappend(\u001b[43mget_top_similar_questions_indices\u001b[49m\u001b[43m(\u001b[49m\u001b[43mquestion\u001b[49m\u001b[43m,\u001b[49m\u001b[43m \u001b[49m\u001b[43mquestion_vectors\u001b[49m\u001b[43m,\u001b[49m\u001b[43m \u001b[49m\u001b[43mvectorizer\u001b[49m\u001b[43m,\u001b[49m\u001b[43m \u001b[49m\u001b[43mn\u001b[49m\u001b[38;5;241;43m=\u001b[39;49m\u001b[38;5;241;43m5\u001b[39;49m\u001b[43m)\u001b[49m)\n\u001b[0;32m    115\u001b[0m \u001b[38;5;28mprint\u001b[39m(\u001b[38;5;124m\"\u001b[39m\u001b[38;5;124mПримеры predicted:\u001b[39m\u001b[38;5;124m\"\u001b[39m)\n\u001b[0;32m    116\u001b[0m \u001b[38;5;28mprint\u001b[39m(predicted[:\u001b[38;5;241m5\u001b[39m])\n",
      "Cell \u001b[1;32mIn[82], line 16\u001b[0m, in \u001b[0;36mget_top_similar_questions_indices\u001b[1;34m(question, question_vectors, vectorizer, n)\u001b[0m\n\u001b[0;32m      2\u001b[0m \u001b[38;5;250m\u001b[39m\u001b[38;5;124;03m\"\"\"\u001b[39;00m\n\u001b[0;32m      3\u001b[0m \u001b[38;5;124;03mФункция для поиска индексов n наиболее похожих вопросов.\u001b[39;00m\n\u001b[0;32m      4\u001b[0m \n\u001b[1;32m   (...)\u001b[0m\n\u001b[0;32m     12\u001b[0m \u001b[38;5;124;03m    list: Список n индексов наиболее похожих вопросов.\u001b[39;00m\n\u001b[0;32m     13\u001b[0m \u001b[38;5;124;03m\"\"\"\u001b[39;00m\n\u001b[0;32m     15\u001b[0m \u001b[38;5;66;03m# Векторизация входного вопроса\u001b[39;00m\n\u001b[1;32m---> 16\u001b[0m question_vector \u001b[38;5;241m=\u001b[39m vectorizer\u001b[38;5;241m.\u001b[39mtransform([\u001b[43mpreprocess_text\u001b[49m\u001b[43m(\u001b[49m\u001b[43mquestion\u001b[49m\u001b[43m)\u001b[49m])\n\u001b[0;32m     18\u001b[0m \u001b[38;5;66;03m# Вычисление косинусного сходства\u001b[39;00m\n\u001b[0;32m     19\u001b[0m similarity \u001b[38;5;241m=\u001b[39m cosine_similarity(question_vector, question_vectors)[\u001b[38;5;241m0\u001b[39m]\n",
      "Cell \u001b[1;32mIn[13], line 24\u001b[0m, in \u001b[0;36mpreprocess_text\u001b[1;34m(text)\u001b[0m\n\u001b[0;32m     21\u001b[0m tokens \u001b[38;5;241m=\u001b[39m [token \u001b[38;5;28;01mfor\u001b[39;00m token \u001b[38;5;129;01min\u001b[39;00m tokens \u001b[38;5;28;01mif\u001b[39;00m token\u001b[38;5;241m.\u001b[39misalnum()]\n\u001b[0;32m     23\u001b[0m \u001b[38;5;66;03m# Удаление стоп-слов\u001b[39;00m\n\u001b[1;32m---> 24\u001b[0m stop_words \u001b[38;5;241m=\u001b[39m \u001b[43mnltk\u001b[49m\u001b[38;5;241;43m.\u001b[39;49m\u001b[43mcorpus\u001b[49m\u001b[38;5;241;43m.\u001b[39;49m\u001b[43mstopwords\u001b[49m\u001b[38;5;241;43m.\u001b[39;49m\u001b[43mwords\u001b[49m\u001b[43m(\u001b[49m\u001b[38;5;124;43m'\u001b[39;49m\u001b[38;5;124;43menglish\u001b[39;49m\u001b[38;5;124;43m'\u001b[39;49m\u001b[43m)\u001b[49m\n\u001b[0;32m     25\u001b[0m tokens \u001b[38;5;241m=\u001b[39m [token \u001b[38;5;28;01mfor\u001b[39;00m token \u001b[38;5;129;01min\u001b[39;00m tokens \u001b[38;5;28;01mif\u001b[39;00m token \u001b[38;5;129;01mnot\u001b[39;00m \u001b[38;5;129;01min\u001b[39;00m stop_words]\n\u001b[0;32m     27\u001b[0m \u001b[38;5;66;03m# Лемматизация\u001b[39;00m\n",
      "File \u001b[1;32mc:\\Users\\elpiz\\anaconda3\\envs\\ds_practicum_env\\lib\\site-packages\\nltk\\corpus\\reader\\wordlist.py:23\u001b[0m, in \u001b[0;36mWordListCorpusReader.words\u001b[1;34m(self, fileids, ignore_lines_startswith)\u001b[0m\n\u001b[0;32m     20\u001b[0m \u001b[38;5;28;01mdef\u001b[39;00m \u001b[38;5;21mwords\u001b[39m(\u001b[38;5;28mself\u001b[39m, fileids\u001b[38;5;241m=\u001b[39m\u001b[38;5;28;01mNone\u001b[39;00m, ignore_lines_startswith\u001b[38;5;241m=\u001b[39m\u001b[38;5;124m\"\u001b[39m\u001b[38;5;130;01m\\n\u001b[39;00m\u001b[38;5;124m\"\u001b[39m):\n\u001b[0;32m     21\u001b[0m     \u001b[38;5;28;01mreturn\u001b[39;00m [\n\u001b[0;32m     22\u001b[0m         line\n\u001b[1;32m---> 23\u001b[0m         \u001b[38;5;28;01mfor\u001b[39;00m line \u001b[38;5;129;01min\u001b[39;00m line_tokenize(\u001b[38;5;28;43mself\u001b[39;49m\u001b[38;5;241;43m.\u001b[39;49m\u001b[43mraw\u001b[49m\u001b[43m(\u001b[49m\u001b[43mfileids\u001b[49m\u001b[43m)\u001b[49m)\n\u001b[0;32m     24\u001b[0m         \u001b[38;5;28;01mif\u001b[39;00m \u001b[38;5;129;01mnot\u001b[39;00m line\u001b[38;5;241m.\u001b[39mstartswith(ignore_lines_startswith)\n\u001b[0;32m     25\u001b[0m     ]\n",
      "File \u001b[1;32mc:\\Users\\elpiz\\anaconda3\\envs\\ds_practicum_env\\lib\\site-packages\\nltk\\corpus\\reader\\wordlist.py:32\u001b[0m, in \u001b[0;36mWordListCorpusReader.raw\u001b[1;34m(self, fileids)\u001b[0m\n\u001b[0;32m     30\u001b[0m \u001b[38;5;28;01melif\u001b[39;00m \u001b[38;5;28misinstance\u001b[39m(fileids, \u001b[38;5;28mstr\u001b[39m):\n\u001b[0;32m     31\u001b[0m     fileids \u001b[38;5;241m=\u001b[39m [fileids]\n\u001b[1;32m---> 32\u001b[0m \u001b[38;5;28;01mreturn\u001b[39;00m concat([\u001b[38;5;28mself\u001b[39m\u001b[38;5;241m.\u001b[39mopen(f)\u001b[38;5;241m.\u001b[39mread() \u001b[38;5;28;01mfor\u001b[39;00m f \u001b[38;5;129;01min\u001b[39;00m fileids])\n",
      "File \u001b[1;32mc:\\Users\\elpiz\\anaconda3\\envs\\ds_practicum_env\\lib\\site-packages\\nltk\\corpus\\reader\\wordlist.py:32\u001b[0m, in \u001b[0;36m<listcomp>\u001b[1;34m(.0)\u001b[0m\n\u001b[0;32m     30\u001b[0m \u001b[38;5;28;01melif\u001b[39;00m \u001b[38;5;28misinstance\u001b[39m(fileids, \u001b[38;5;28mstr\u001b[39m):\n\u001b[0;32m     31\u001b[0m     fileids \u001b[38;5;241m=\u001b[39m [fileids]\n\u001b[1;32m---> 32\u001b[0m \u001b[38;5;28;01mreturn\u001b[39;00m concat([\u001b[38;5;28;43mself\u001b[39;49m\u001b[38;5;241;43m.\u001b[39;49m\u001b[43mopen\u001b[49m\u001b[43m(\u001b[49m\u001b[43mf\u001b[49m\u001b[43m)\u001b[49m\u001b[38;5;241m.\u001b[39mread() \u001b[38;5;28;01mfor\u001b[39;00m f \u001b[38;5;129;01min\u001b[39;00m fileids])\n",
      "File \u001b[1;32mc:\\Users\\elpiz\\anaconda3\\envs\\ds_practicum_env\\lib\\site-packages\\nltk\\corpus\\reader\\api.py:208\u001b[0m, in \u001b[0;36mCorpusReader.open\u001b[1;34m(self, file)\u001b[0m\n\u001b[0;32m    200\u001b[0m \u001b[38;5;250m\u001b[39m\u001b[38;5;124;03m\"\"\"\u001b[39;00m\n\u001b[0;32m    201\u001b[0m \u001b[38;5;124;03mReturn an open stream that can be used to read the given file.\u001b[39;00m\n\u001b[0;32m    202\u001b[0m \u001b[38;5;124;03mIf the file's encoding is not None, then the stream will\u001b[39;00m\n\u001b[1;32m   (...)\u001b[0m\n\u001b[0;32m    205\u001b[0m \u001b[38;5;124;03m:param file: The file identifier of the file to read.\u001b[39;00m\n\u001b[0;32m    206\u001b[0m \u001b[38;5;124;03m\"\"\"\u001b[39;00m\n\u001b[0;32m    207\u001b[0m encoding \u001b[38;5;241m=\u001b[39m \u001b[38;5;28mself\u001b[39m\u001b[38;5;241m.\u001b[39mencoding(file)\n\u001b[1;32m--> 208\u001b[0m stream \u001b[38;5;241m=\u001b[39m \u001b[38;5;28;43mself\u001b[39;49m\u001b[38;5;241;43m.\u001b[39;49m\u001b[43m_root\u001b[49m\u001b[38;5;241;43m.\u001b[39;49m\u001b[43mjoin\u001b[49m\u001b[43m(\u001b[49m\u001b[43mfile\u001b[49m\u001b[43m)\u001b[49m\u001b[38;5;241m.\u001b[39mopen(encoding)\n\u001b[0;32m    209\u001b[0m \u001b[38;5;28;01mreturn\u001b[39;00m stream\n",
      "File \u001b[1;32mc:\\Users\\elpiz\\anaconda3\\envs\\ds_practicum_env\\lib\\site-packages\\nltk\\data.py:335\u001b[0m, in \u001b[0;36mFileSystemPathPointer.join\u001b[1;34m(self, fileid)\u001b[0m\n\u001b[0;32m    333\u001b[0m \u001b[38;5;28;01mdef\u001b[39;00m \u001b[38;5;21mjoin\u001b[39m(\u001b[38;5;28mself\u001b[39m, fileid):\n\u001b[0;32m    334\u001b[0m     _path \u001b[38;5;241m=\u001b[39m os\u001b[38;5;241m.\u001b[39mpath\u001b[38;5;241m.\u001b[39mjoin(\u001b[38;5;28mself\u001b[39m\u001b[38;5;241m.\u001b[39m_path, fileid)\n\u001b[1;32m--> 335\u001b[0m     \u001b[38;5;28;01mreturn\u001b[39;00m \u001b[43mFileSystemPathPointer\u001b[49m\u001b[43m(\u001b[49m\u001b[43m_path\u001b[49m\u001b[43m)\u001b[49m\n",
      "File \u001b[1;32mc:\\Users\\elpiz\\anaconda3\\envs\\ds_practicum_env\\lib\\site-packages\\nltk\\compat.py:41\u001b[0m, in \u001b[0;36mpy3_data.<locals>._decorator\u001b[1;34m(*args, **kwargs)\u001b[0m\n\u001b[0;32m     39\u001b[0m \u001b[38;5;28;01mdef\u001b[39;00m \u001b[38;5;21m_decorator\u001b[39m(\u001b[38;5;241m*\u001b[39margs, \u001b[38;5;241m*\u001b[39m\u001b[38;5;241m*\u001b[39mkwargs):\n\u001b[0;32m     40\u001b[0m     args \u001b[38;5;241m=\u001b[39m (args[\u001b[38;5;241m0\u001b[39m], add_py3_data(args[\u001b[38;5;241m1\u001b[39m])) \u001b[38;5;241m+\u001b[39m args[\u001b[38;5;241m2\u001b[39m:]\n\u001b[1;32m---> 41\u001b[0m     \u001b[38;5;28;01mreturn\u001b[39;00m init_func(\u001b[38;5;241m*\u001b[39margs, \u001b[38;5;241m*\u001b[39m\u001b[38;5;241m*\u001b[39mkwargs)\n",
      "File \u001b[1;32mc:\\Users\\elpiz\\anaconda3\\envs\\ds_practicum_env\\lib\\site-packages\\nltk\\data.py:312\u001b[0m, in \u001b[0;36mFileSystemPathPointer.__init__\u001b[1;34m(self, _path)\u001b[0m\n\u001b[0;32m    305\u001b[0m \u001b[38;5;250m\u001b[39m\u001b[38;5;124;03m\"\"\"\u001b[39;00m\n\u001b[0;32m    306\u001b[0m \u001b[38;5;124;03mCreate a new path pointer for the given absolute path.\u001b[39;00m\n\u001b[0;32m    307\u001b[0m \n\u001b[0;32m    308\u001b[0m \u001b[38;5;124;03m:raise IOError: If the given path does not exist.\u001b[39;00m\n\u001b[0;32m    309\u001b[0m \u001b[38;5;124;03m\"\"\"\u001b[39;00m\n\u001b[0;32m    311\u001b[0m _path \u001b[38;5;241m=\u001b[39m os\u001b[38;5;241m.\u001b[39mpath\u001b[38;5;241m.\u001b[39mabspath(_path)\n\u001b[1;32m--> 312\u001b[0m \u001b[38;5;28;01mif\u001b[39;00m \u001b[38;5;129;01mnot\u001b[39;00m \u001b[43mos\u001b[49m\u001b[38;5;241;43m.\u001b[39;49m\u001b[43mpath\u001b[49m\u001b[38;5;241;43m.\u001b[39;49m\u001b[43mexists\u001b[49m\u001b[43m(\u001b[49m\u001b[43m_path\u001b[49m\u001b[43m)\u001b[49m:\n\u001b[0;32m    313\u001b[0m     \u001b[38;5;28;01mraise\u001b[39;00m \u001b[38;5;167;01mIOError\u001b[39;00m(\u001b[38;5;124m\"\u001b[39m\u001b[38;5;124mNo such file or directory: \u001b[39m\u001b[38;5;132;01m%r\u001b[39;00m\u001b[38;5;124m\"\u001b[39m \u001b[38;5;241m%\u001b[39m _path)\n\u001b[0;32m    314\u001b[0m \u001b[38;5;28mself\u001b[39m\u001b[38;5;241m.\u001b[39m_path \u001b[38;5;241m=\u001b[39m _path\n",
      "File \u001b[1;32mc:\\Users\\elpiz\\anaconda3\\envs\\ds_practicum_env\\lib\\genericpath.py:19\u001b[0m, in \u001b[0;36mexists\u001b[1;34m(path)\u001b[0m\n\u001b[0;32m     17\u001b[0m \u001b[38;5;250m\u001b[39m\u001b[38;5;124;03m\"\"\"Test whether a path exists.  Returns False for broken symbolic links\"\"\"\u001b[39;00m\n\u001b[0;32m     18\u001b[0m \u001b[38;5;28;01mtry\u001b[39;00m:\n\u001b[1;32m---> 19\u001b[0m     \u001b[43mos\u001b[49m\u001b[38;5;241;43m.\u001b[39;49m\u001b[43mstat\u001b[49m\u001b[43m(\u001b[49m\u001b[43mpath\u001b[49m\u001b[43m)\u001b[49m\n\u001b[0;32m     20\u001b[0m \u001b[38;5;28;01mexcept\u001b[39;00m (\u001b[38;5;167;01mOSError\u001b[39;00m, \u001b[38;5;167;01mValueError\u001b[39;00m):\n\u001b[0;32m     21\u001b[0m     \u001b[38;5;28;01mreturn\u001b[39;00m \u001b[38;5;28;01mFalse\u001b[39;00m\n",
      "\u001b[1;31mKeyboardInterrupt\u001b[0m: "
     ]
    }
   ],
   "source": [
    "# Оценка модели\n",
    "evaluate(train_df, question2_vectors, vectorizer)"
   ]
  },
  {
   "cell_type": "code",
   "execution_count": 94,
   "metadata": {},
   "outputs": [
    {
     "name": "stderr",
     "output_type": "stream",
     "text": [
      "100%|██████████| 200/200 [00:20<00:00,  9.59it/s]"
     ]
    },
    {
     "name": "stdout",
     "output_type": "stream",
     "text": [
      "Примеры predicted:\n",
      "[[97, 1, 74, 11, 0], [23, 43, 58, 14, 1], [144, 99, 27, 41, 2], [196, 156, 17, 106, 3], [43, 23, 10, 14, 4], [37, 170, 4, 22, 5], [161, 194, 132, 59, 6], [31, 86, 121, 12, 7], [88, 9, 100, 40, 8], [8, 59, 15, 17, 9], [43, 23, 4, 14, 10], [97, 10, 0, 74, 11], [167, 101, 7, 90, 12], [19, 196, 122, 16, 13], [58, 10, 23, 43, 14], [27, 20, 9, 17, 15], [105, 102, 76, 13, 16], [9, 59, 106, 15, 17], [78, 19, 162, 163, 18], [85, 103, 18, 121, 19]]\n",
      "Примеры actual:\n",
      "[[0], [], [2], [], [], [5], [], [7], [8], [], [10], [], [], [13], [], [15], [16], [], [], [19]]\n",
      "------------------------\n",
      "Accuracy@5: 0.495\n",
      "Hits@5: 0.495\n",
      "MRR: 0.09899999999999999\n",
      "DCG@5: 0.19149213958109812\n"
     ]
    },
    {
     "name": "stderr",
     "output_type": "stream",
     "text": [
      "\n"
     ]
    }
   ],
   "source": [
    "# Оценка модели\n",
    "evaluate(train_df[:200], question2_vectors[:200], vectorizer)"
   ]
  },
  {
   "cell_type": "code",
   "execution_count": 55,
   "metadata": {},
   "outputs": [
    {
     "name": "stderr",
     "output_type": "stream",
     "text": [
      "100%|██████████| 1000/1000 [02:02<00:00,  8.19it/s]"
     ]
    },
    {
     "name": "stdout",
     "output_type": "stream",
     "text": [
      "Accuracy@5: 0.993\n",
      "Hits@5: 0.993\n",
      "MRR: 0.2638000000000001\n",
      "DCG@5: 0.5962170180406452\n"
     ]
    },
    {
     "name": "stderr",
     "output_type": "stream",
     "text": [
      "\n"
     ]
    }
   ],
   "source": [
    "# Оценка модели\n",
    "evaluate(train_df[:1000], question2_vectors[:1000], vectorizer)"
   ]
  },
  {
   "cell_type": "markdown",
   "metadata": {},
   "source": [
    "### SentenceTransformers"
   ]
  },
  {
   "cell_type": "code",
   "execution_count": 267,
   "metadata": {},
   "outputs": [],
   "source": [
    "def create_index(df, model, text_cols = ['processed_question_1','processed_question_2'], dump_pkl=False):\n",
    "    \"\"\"\n",
    "    Создает индекс-эмбеддингов и словари для поиска похожих вопросов.\n",
    "\n",
    "    Args:\n",
    "        df (pd.DataFrame): DataFrame с текстовыми вопросами.\n",
    "        model (str): Модель SentenceTransformer.\n",
    "        text_cols (list): Названия текстовых столбцов - 2 текстовых элемента в списке. \n",
    "                        По умолчанию - ['processed_question_1','processed_question_2'].\n",
    "        dump (bool): Если True, то сохраняет словари в файлы 'pkl'. По умолчанию - False.\n",
    "        \n",
    "    Returns:\n",
    "        tuple: (словарь индекс-эмбеддингов, словарь индекс-вопрос, словарь вопрос-индекс, словарь с ground truth)\n",
    "    \"\"\"\n",
    "    corpus = list(set(df[text_cols[0]].tolist() + df[text_cols[1]].tolist()))\n",
    "    sen2idx = {text: i for i, text in enumerate(corpus)}\n",
    "    idx2sen = {v: k for k, v in sen2idx.items()}\n",
    "    idx2emd = {i: model.encode(str(text)) for i, text in idx2sen.items()}\n",
    "\n",
    "    if dump_pkl:\n",
    "        with open(\"idx2emb.pkl\", \"wb\") as fid:\n",
    "            dump(idx2emd, fid)\n",
    "        with open(\"idx2sen.pkl\", \"wb\") as fid:\n",
    "            dump(idx2sen, fid)\n",
    "        with open(\"sen2idx.pkl\", \"wb\") as fid:\n",
    "            dump(sen2idx, fid)\n",
    "\n",
    "    gt = defaultdict(list)\n",
    "    for _, row in df.iterrows():\n",
    "        idx1 = sen2idx[row[text_cols[0]]]\n",
    "        idx2 = sen2idx[row[text_cols[1]]]\n",
    "\n",
    "        if row.label:\n",
    "            gt[idx1].append(idx2)\n",
    "            gt[idx2].append(idx1)\n",
    "\n",
    "    return idx2emd, idx2sen, sen2idx, gt\n"
   ]
  },
  {
   "cell_type": "code",
   "execution_count": 240,
   "metadata": {},
   "outputs": [],
   "source": [
    "def evaluate_model(idx2emd, gt, n=5, return_top_n_idx = False):\n",
    "    \"\"\"\n",
    "    Оценивает модель SentenceTransformer на предоставленных данных.\n",
    "\n",
    "    Args:\n",
    "        idx2emd (dict): Словарь с индекс-эмбеддингами.\n",
    "        gt (dict): Словарь с ground truth.\n",
    "        n (int): Число, обозначающее N. По умолчанию - 5.\n",
    "\n",
    "    Returns:\n",
    "        tuple: (accuracy@n, mrr@k, dcg@k)\n",
    "    \"\"\"\n",
    "\n",
    "    emb_list = []\n",
    "    for i in range(len(idx2emd)):\n",
    "        emb_list.append(idx2emd[i])\n",
    "    arr = np.array(emb_list)\n",
    "    dist = pdist(arr, metric=\"cosine\")\n",
    "    dist_matrix = squareform(dist)\n",
    "    top_n_idx = np.argsort(dist_matrix)[:, :n+1]\n",
    "\n",
    "    acc = []\n",
    "    mrr_at_k = []\n",
    "    dcg_at_k = []\n",
    "    for j in range(top_n_idx.shape[0]):\n",
    "        # Исключаем первый схожий вопрос\n",
    "        rec_idx = top_n_idx[j, 1:]\n",
    "        gt_idx = gt.get(j, [])\n",
    "        if len(gt_idx) > 0:\n",
    "            \n",
    "            # Accuracy@N\n",
    "            intersection = set(rec_idx).intersection(set(gt_idx))\n",
    "            acc.append(len(intersection) > 0)\n",
    "\n",
    "            # MRR@K\n",
    "            ranking = [idx in gt_idx for idx in rec_idx]\n",
    "            if any(ranking):\n",
    "                mrr_at_k.append(1 / (ranking.index(True) + 1))\n",
    "            else:\n",
    "                mrr_at_k.append(0)\n",
    "\n",
    "            # DCG@K \n",
    "            relevance = [1 if idx in gt_idx else 0 for idx in rec_idx]\n",
    "            ideal_ranking = sorted(relevance, reverse=True)\n",
    "            dcg_at_k.append(dcg_score([relevance], [ideal_ranking], k=n))\n",
    "\n",
    "    if return_top_n_idx:\n",
    "        return np.mean(acc), np.mean(mrr_at_k), np.mean(dcg_at_k), top_n_idx\n",
    "    else:\n",
    "        return np.mean(acc), np.mean(mrr_at_k), np.mean(dcg_at_k)\n",
    "\n",
    "\n",
    "def evaluate_SentenceTransformer(model_name, df, text_cols=['processed_question_1', 'processed_question_2']):\n",
    "    \"\"\"\n",
    "    Оценивает модель SentenceTransformer на предоставленных данных.\n",
    "\n",
    "    Args:\n",
    "        model_name (str): Название модели SentenceTransformer.\n",
    "        df (pd.DataFrame): DataFrame с текстовыми вопросами.\n",
    "        text_cols (list): Названия текстовых столбцов - 2 текстовых элемента в списке.\n",
    "                        По умолчанию - ['processed_question_1', 'processed_question_2'].\n",
    "\n",
    "    Returns:\n",
    "        tuple: (accuracy@5, mrr@5, dcg@5)\n",
    "    \"\"\"\n",
    "\n",
    "    model = SentenceTransformer(model_name)\n",
    "    idx2emd, _, _, gt = create_index(df, model, text_cols)\n",
    "    accuracy, mrr, dcg = evaluate_model(idx2emd, gt)\n",
    "    return accuracy, mrr, dcg"
   ]
  },
  {
   "cell_type": "code",
   "execution_count": 281,
   "metadata": {},
   "outputs": [],
   "source": [
    "def colorize_metrics_df(df):\n",
    "    return (df.sort_values('DCG@5', ascending=0)\n",
    "            .reset_index(drop=True)\n",
    "            .style\n",
    "            .set_caption(\"Метрики моделей SentenceTransformer\")\n",
    "            .format(\"{:.2%}\",subset=metrics_cols)\n",
    "            .format(precision=2,subset=['time'])\n",
    "            .background_gradient(cmap='summer',subset=metrics_cols)\n",
    "            .background_gradient(cmap='summer_r',subset=['time']))"
   ]
  },
  {
   "cell_type": "code",
   "execution_count": 270,
   "metadata": {},
   "outputs": [
    {
     "data": {
      "text/html": [
       "<div>\n",
       "<style scoped>\n",
       "    .dataframe tbody tr th:only-of-type {\n",
       "        vertical-align: middle;\n",
       "    }\n",
       "\n",
       "    .dataframe tbody tr th {\n",
       "        vertical-align: top;\n",
       "    }\n",
       "\n",
       "    .dataframe thead th {\n",
       "        text-align: right;\n",
       "    }\n",
       "</style>\n",
       "<table border=\"1\" class=\"dataframe\">\n",
       "  <thead>\n",
       "    <tr style=\"text-align: right;\">\n",
       "      <th></th>\n",
       "      <th>model</th>\n",
       "      <th>text_type</th>\n",
       "      <th>Accuracy@5</th>\n",
       "      <th>MMR@5</th>\n",
       "      <th>DCG@5</th>\n",
       "      <th>time</th>\n",
       "    </tr>\n",
       "  </thead>\n",
       "  <tbody>\n",
       "    <tr>\n",
       "      <th>0</th>\n",
       "      <td>paraphrase-MiniLM-L3-v2</td>\n",
       "      <td>Изначальный</td>\n",
       "      <td>0.9216</td>\n",
       "      <td>0.8224</td>\n",
       "      <td>0.8321</td>\n",
       "      <td>70.2567</td>\n",
       "    </tr>\n",
       "    <tr>\n",
       "      <th>1</th>\n",
       "      <td>all-MiniLM-L6-v2</td>\n",
       "      <td>Изначальный</td>\n",
       "      <td>0.9636</td>\n",
       "      <td>0.9039</td>\n",
       "      <td>0.9094</td>\n",
       "      <td>119.9742</td>\n",
       "    </tr>\n",
       "    <tr>\n",
       "      <th>2</th>\n",
       "      <td>all-MiniLM-L12-v2</td>\n",
       "      <td>Изначальный</td>\n",
       "      <td>0.9587</td>\n",
       "      <td>0.9013</td>\n",
       "      <td>0.9075</td>\n",
       "      <td>221.1694</td>\n",
       "    </tr>\n",
       "    <tr>\n",
       "      <th>3</th>\n",
       "      <td>multi-qa-MiniLM-L6-cos-v1</td>\n",
       "      <td>Изначальный</td>\n",
       "      <td>0.9583</td>\n",
       "      <td>0.8883</td>\n",
       "      <td>0.8949</td>\n",
       "      <td>119.9261</td>\n",
       "    </tr>\n",
       "    <tr>\n",
       "      <th>4</th>\n",
       "      <td>paraphrase-multilingual-mpnet-base-v2</td>\n",
       "      <td>Изначальный</td>\n",
       "      <td>0.9196</td>\n",
       "      <td>0.8495</td>\n",
       "      <td>0.8582</td>\n",
       "      <td>601.4907</td>\n",
       "    </tr>\n",
       "    <tr>\n",
       "      <th>5</th>\n",
       "      <td>all-distilroberta-v1</td>\n",
       "      <td>Изначальный</td>\n",
       "      <td>0.9478</td>\n",
       "      <td>0.8723</td>\n",
       "      <td>0.8805</td>\n",
       "      <td>301.6539</td>\n",
       "    </tr>\n",
       "    <tr>\n",
       "      <th>6</th>\n",
       "      <td>multi-qa-distilbert-cos-v1</td>\n",
       "      <td>Изначальный</td>\n",
       "      <td>0.9560</td>\n",
       "      <td>0.8995</td>\n",
       "      <td>0.9057</td>\n",
       "      <td>298.2505</td>\n",
       "    </tr>\n",
       "    <tr>\n",
       "      <th>7</th>\n",
       "      <td>multi-qa-mpnet-base-dot-v1</td>\n",
       "      <td>Изначальный</td>\n",
       "      <td>0.9524</td>\n",
       "      <td>0.8855</td>\n",
       "      <td>0.8937</td>\n",
       "      <td>647.0068</td>\n",
       "    </tr>\n",
       "    <tr>\n",
       "      <th>8</th>\n",
       "      <td>all-mpnet-base-v2</td>\n",
       "      <td>Изначальный</td>\n",
       "      <td>0.9682</td>\n",
       "      <td>0.9094</td>\n",
       "      <td>0.9167</td>\n",
       "      <td>655.8550</td>\n",
       "    </tr>\n",
       "    <tr>\n",
       "      <th>10</th>\n",
       "      <td>all-MiniLM-L6-v2</td>\n",
       "      <td>Предобработаный</td>\n",
       "      <td>0.9327</td>\n",
       "      <td>0.8341</td>\n",
       "      <td>0.8427</td>\n",
       "      <td>133.3721</td>\n",
       "    </tr>\n",
       "    <tr>\n",
       "      <th>11</th>\n",
       "      <td>paraphrase-MiniLM-L3-v2</td>\n",
       "      <td>Предобработаный</td>\n",
       "      <td>0.9071</td>\n",
       "      <td>0.7994</td>\n",
       "      <td>0.8094</td>\n",
       "      <td>80.7885</td>\n",
       "    </tr>\n",
       "    <tr>\n",
       "      <th>12</th>\n",
       "      <td>all-MiniLM-L12-v2</td>\n",
       "      <td>Предобработаный</td>\n",
       "      <td>0.9255</td>\n",
       "      <td>0.8305</td>\n",
       "      <td>0.8387</td>\n",
       "      <td>265.1338</td>\n",
       "    </tr>\n",
       "    <tr>\n",
       "      <th>13</th>\n",
       "      <td>multi-qa-MiniLM-L6-cos-v1</td>\n",
       "      <td>Предобработаный</td>\n",
       "      <td>0.9241</td>\n",
       "      <td>0.8288</td>\n",
       "      <td>0.8367</td>\n",
       "      <td>181.8360</td>\n",
       "    </tr>\n",
       "    <tr>\n",
       "      <th>14</th>\n",
       "      <td>paraphrase-multilingual-mpnet-base-v2</td>\n",
       "      <td>Предобработаный</td>\n",
       "      <td>0.8979</td>\n",
       "      <td>0.8078</td>\n",
       "      <td>0.8179</td>\n",
       "      <td>493.3991</td>\n",
       "    </tr>\n",
       "    <tr>\n",
       "      <th>15</th>\n",
       "      <td>all-distilroberta-v1</td>\n",
       "      <td>Предобработаный</td>\n",
       "      <td>0.9163</td>\n",
       "      <td>0.8160</td>\n",
       "      <td>0.8250</td>\n",
       "      <td>231.9146</td>\n",
       "    </tr>\n",
       "    <tr>\n",
       "      <th>16</th>\n",
       "      <td>multi-qa-distilbert-cos-v1</td>\n",
       "      <td>Предобработаный</td>\n",
       "      <td>0.9291</td>\n",
       "      <td>0.8369</td>\n",
       "      <td>0.8459</td>\n",
       "      <td>239.2234</td>\n",
       "    </tr>\n",
       "    <tr>\n",
       "      <th>17</th>\n",
       "      <td>multi-qa-mpnet-base-dot-v1</td>\n",
       "      <td>Предобработаный</td>\n",
       "      <td>0.9034</td>\n",
       "      <td>0.8060</td>\n",
       "      <td>0.8164</td>\n",
       "      <td>513.5391</td>\n",
       "    </tr>\n",
       "    <tr>\n",
       "      <th>18</th>\n",
       "      <td>all-mpnet-base-v2</td>\n",
       "      <td>Предобработаный</td>\n",
       "      <td>0.9107</td>\n",
       "      <td>0.8077</td>\n",
       "      <td>0.8175</td>\n",
       "      <td>457.8491</td>\n",
       "    </tr>\n",
       "  </tbody>\n",
       "</table>\n",
       "</div>"
      ],
      "text/plain": [
       "                                    model        text_type  Accuracy@5  \\\n",
       "0                 paraphrase-MiniLM-L3-v2      Изначальный      0.9216   \n",
       "1                        all-MiniLM-L6-v2      Изначальный      0.9636   \n",
       "2                       all-MiniLM-L12-v2      Изначальный      0.9587   \n",
       "3               multi-qa-MiniLM-L6-cos-v1      Изначальный      0.9583   \n",
       "4   paraphrase-multilingual-mpnet-base-v2      Изначальный      0.9196   \n",
       "5                    all-distilroberta-v1      Изначальный      0.9478   \n",
       "6              multi-qa-distilbert-cos-v1      Изначальный      0.9560   \n",
       "7              multi-qa-mpnet-base-dot-v1      Изначальный      0.9524   \n",
       "8                       all-mpnet-base-v2      Изначальный      0.9682   \n",
       "10                       all-MiniLM-L6-v2  Предобработаный      0.9327   \n",
       "11                paraphrase-MiniLM-L3-v2  Предобработаный      0.9071   \n",
       "12                      all-MiniLM-L12-v2  Предобработаный      0.9255   \n",
       "13              multi-qa-MiniLM-L6-cos-v1  Предобработаный      0.9241   \n",
       "14  paraphrase-multilingual-mpnet-base-v2  Предобработаный      0.8979   \n",
       "15                   all-distilroberta-v1  Предобработаный      0.9163   \n",
       "16             multi-qa-distilbert-cos-v1  Предобработаный      0.9291   \n",
       "17             multi-qa-mpnet-base-dot-v1  Предобработаный      0.9034   \n",
       "18                      all-mpnet-base-v2  Предобработаный      0.9107   \n",
       "\n",
       "     MMR@5   DCG@5      time  \n",
       "0   0.8224  0.8321   70.2567  \n",
       "1   0.9039  0.9094  119.9742  \n",
       "2   0.9013  0.9075  221.1694  \n",
       "3   0.8883  0.8949  119.9261  \n",
       "4   0.8495  0.8582  601.4907  \n",
       "5   0.8723  0.8805  301.6539  \n",
       "6   0.8995  0.9057  298.2505  \n",
       "7   0.8855  0.8937  647.0068  \n",
       "8   0.9094  0.9167  655.8550  \n",
       "10  0.8341  0.8427  133.3721  \n",
       "11  0.7994  0.8094   80.7885  \n",
       "12  0.8305  0.8387  265.1338  \n",
       "13  0.8288  0.8367  181.8360  \n",
       "14  0.8078  0.8179  493.3991  \n",
       "15  0.8160  0.8250  231.9146  \n",
       "16  0.8369  0.8459  239.2234  \n",
       "17  0.8060  0.8164  513.5391  \n",
       "18  0.8077  0.8175  457.8491  "
      ]
     },
     "metadata": {},
     "output_type": "display_data"
    },
    {
     "name": "stdout",
     "output_type": "stream",
     "text": [
      "CPU times: total: 1h 26min 22s\n",
      "Wall time: 43min 17s\n"
     ]
    }
   ],
   "source": [
    "%%time\n",
    "%%chime\n",
    "\n",
    "model_names = [ 'all-MiniLM-L6-v2',\n",
    "                'paraphrase-MiniLM-L3-v2',\n",
    "                'all-MiniLM-L12-v2',\n",
    "                'multi-qa-MiniLM-L6-cos-v1',\n",
    "                'paraphrase-multilingual-mpnet-base-v2',\n",
    "                'all-distilroberta-v1',\n",
    "                'multi-qa-distilbert-cos-v1',\n",
    "                'multi-qa-mpnet-base-dot-v1',\n",
    "                'all-mpnet-base-v2'\n",
    "                ]\n",
    "metrics_cols = ['Accuracy@5','MMR@5','DCG@5']\n",
    "\n",
    "try:\n",
    "    metrics = metrics.dropna()\n",
    "    counter = metrics.shape[0]+1\n",
    "except:\n",
    "    try:\n",
    "        metrics = pd.read_csv('metrics.csv').dropna()\n",
    "        counter = metrics.shape[0]+1\n",
    "    except:\n",
    "        metrics = None\n",
    "        counter = 0\n",
    "    \n",
    "\n",
    "for text_type in ['Изначальный', 'Предобработаный']:\n",
    "    for model_name in model_names:\n",
    "\n",
    "        if metrics is None:\n",
    "            metrics = pd.DataFrame(columns=['model','text_type'])\n",
    "\n",
    "        if (metrics.shape[0] == 0 or\n",
    "            model_name+text_type not in (metrics.model + metrics.text_type).to_list()):\n",
    "\n",
    "            metrics.loc[counter,'model'] = model_name\n",
    "            metrics.loc[counter,'text_type'] = text_type\n",
    "            \n",
    "            if text_type == 'Изначальный':\n",
    "                text_cols=['question_1', 'question_2']\n",
    "            else:\n",
    "                text_cols=['processed_question_1','processed_question_2']\n",
    "\n",
    "            start = time.time()\n",
    "            accuracy, mrr, dcg = evaluate_SentenceTransformer(model_name, train_df, text_cols)\n",
    "            end = time.time()\n",
    "\n",
    "            metrics.loc[counter,'Accuracy@5'] = round(accuracy, 4)\n",
    "            metrics.loc[counter,'MMR@5'] = round(mrr, 4)\n",
    "            metrics.loc[counter,'DCG@5'] = round(dcg, 4)\n",
    "            metrics.loc[counter,'time'] = round(end-start, 4)\n",
    "\n",
    "            counter +=1\n",
    "            \n",
    "            metrics_colored = colorize_metrics_df(metrics)\n",
    "\n",
    "            display(metrics_colored, clear = True)\n",
    "\n",
    "        else:\n",
    "            pass\n",
    "display(metrics, clear = True)"
   ]
  },
  {
   "cell_type": "code",
   "execution_count": 285,
   "metadata": {},
   "outputs": [
    {
     "data": {
      "text/html": [
       "<style type=\"text/css\">\n",
       "#T_9f3b9_row0_col2, #T_9f3b9_row0_col3, #T_9f3b9_row0_col4, #T_9f3b9_row12_col5 {\n",
       "  background-color: #ffff66;\n",
       "  color: #000000;\n",
       "}\n",
       "#T_9f3b9_row0_col5, #T_9f3b9_row14_col2, #T_9f3b9_row17_col3, #T_9f3b9_row17_col4 {\n",
       "  background-color: #008066;\n",
       "  color: #f1f1f1;\n",
       "}\n",
       "#T_9f3b9_row1_col2 {\n",
       "  background-color: #eff766;\n",
       "  color: #000000;\n",
       "}\n",
       "#T_9f3b9_row1_col3 {\n",
       "  background-color: #f3f966;\n",
       "  color: #000000;\n",
       "}\n",
       "#T_9f3b9_row1_col4 {\n",
       "  background-color: #eef666;\n",
       "  color: #000000;\n",
       "}\n",
       "#T_9f3b9_row1_col5, #T_9f3b9_row2_col4, #T_9f3b9_row4_col5 {\n",
       "  background-color: #eaf466;\n",
       "  color: #000000;\n",
       "}\n",
       "#T_9f3b9_row2_col2 {\n",
       "  background-color: #ddee66;\n",
       "  color: #000000;\n",
       "}\n",
       "#T_9f3b9_row2_col3 {\n",
       "  background-color: #edf666;\n",
       "  color: #000000;\n",
       "}\n",
       "#T_9f3b9_row2_col5 {\n",
       "  background-color: #bede66;\n",
       "  color: #000000;\n",
       "}\n",
       "#T_9f3b9_row3_col2 {\n",
       "  background-color: #d3e966;\n",
       "  color: #000000;\n",
       "}\n",
       "#T_9f3b9_row3_col3 {\n",
       "  background-color: #e8f366;\n",
       "  color: #000000;\n",
       "}\n",
       "#T_9f3b9_row3_col4 {\n",
       "  background-color: #e5f266;\n",
       "  color: #000000;\n",
       "}\n",
       "#T_9f3b9_row3_col5 {\n",
       "  background-color: #9cce66;\n",
       "  color: #000000;\n",
       "}\n",
       "#T_9f3b9_row4_col2 {\n",
       "  background-color: #dbed66;\n",
       "  color: #000000;\n",
       "}\n",
       "#T_9f3b9_row4_col3 {\n",
       "  background-color: #cee666;\n",
       "  color: #000000;\n",
       "}\n",
       "#T_9f3b9_row4_col4 {\n",
       "  background-color: #cbe566;\n",
       "  color: #000000;\n",
       "}\n",
       "#T_9f3b9_row5_col2 {\n",
       "  background-color: #c6e266;\n",
       "  color: #000000;\n",
       "}\n",
       "#T_9f3b9_row5_col3 {\n",
       "  background-color: #c8e366;\n",
       "  color: #000000;\n",
       "}\n",
       "#T_9f3b9_row5_col4 {\n",
       "  background-color: #c9e466;\n",
       "  color: #000000;\n",
       "}\n",
       "#T_9f3b9_row5_col5 {\n",
       "  background-color: #038166;\n",
       "  color: #f1f1f1;\n",
       "}\n",
       "#T_9f3b9_row6_col2 {\n",
       "  background-color: #b5da66;\n",
       "  color: #000000;\n",
       "}\n",
       "#T_9f3b9_row6_col3, #T_9f3b9_row6_col4 {\n",
       "  background-color: #a9d466;\n",
       "  color: #000000;\n",
       "}\n",
       "#T_9f3b9_row6_col5 {\n",
       "  background-color: #9acc66;\n",
       "  color: #000000;\n",
       "}\n",
       "#T_9f3b9_row7_col2, #T_9f3b9_row9_col4 {\n",
       "  background-color: #4fa766;\n",
       "  color: #f1f1f1;\n",
       "}\n",
       "#T_9f3b9_row7_col3, #T_9f3b9_row7_col4 {\n",
       "  background-color: #74ba66;\n",
       "  color: #f1f1f1;\n",
       "}\n",
       "#T_9f3b9_row7_col5 {\n",
       "  background-color: #178b66;\n",
       "  color: #f1f1f1;\n",
       "}\n",
       "#T_9f3b9_row8_col2 {\n",
       "  background-color: #71b866;\n",
       "  color: #f1f1f1;\n",
       "}\n",
       "#T_9f3b9_row8_col3, #T_9f3b9_row8_col4 {\n",
       "  background-color: #57ab66;\n",
       "  color: #f1f1f1;\n",
       "}\n",
       "#T_9f3b9_row8_col5 {\n",
       "  background-color: #b6db66;\n",
       "  color: #000000;\n",
       "}\n",
       "#T_9f3b9_row9_col2 {\n",
       "  background-color: #7ebe66;\n",
       "  color: #000000;\n",
       "}\n",
       "#T_9f3b9_row9_col3 {\n",
       "  background-color: #50a866;\n",
       "  color: #f1f1f1;\n",
       "}\n",
       "#T_9f3b9_row9_col5 {\n",
       "  background-color: #e4f266;\n",
       "  color: #000000;\n",
       "}\n",
       "#T_9f3b9_row10_col2 {\n",
       "  background-color: #64b266;\n",
       "  color: #f1f1f1;\n",
       "}\n",
       "#T_9f3b9_row10_col3 {\n",
       "  background-color: #48a366;\n",
       "  color: #f1f1f1;\n",
       "}\n",
       "#T_9f3b9_row10_col4 {\n",
       "  background-color: #45a266;\n",
       "  color: #f1f1f1;\n",
       "}\n",
       "#T_9f3b9_row10_col5 {\n",
       "  background-color: #aad466;\n",
       "  color: #000000;\n",
       "}\n",
       "#T_9f3b9_row11_col2 {\n",
       "  background-color: #5faf66;\n",
       "  color: #f1f1f1;\n",
       "}\n",
       "#T_9f3b9_row11_col3 {\n",
       "  background-color: #44a266;\n",
       "  color: #f1f1f1;\n",
       "}\n",
       "#T_9f3b9_row11_col4 {\n",
       "  background-color: #41a066;\n",
       "  color: #f1f1f1;\n",
       "}\n",
       "#T_9f3b9_row11_col5 {\n",
       "  background-color: #cfe766;\n",
       "  color: #000000;\n",
       "}\n",
       "#T_9f3b9_row12_col2, #T_9f3b9_row15_col5 {\n",
       "  background-color: #56ab66;\n",
       "  color: #f1f1f1;\n",
       "}\n",
       "#T_9f3b9_row12_col3 {\n",
       "  background-color: #359a66;\n",
       "  color: #f1f1f1;\n",
       "}\n",
       "#T_9f3b9_row12_col4 {\n",
       "  background-color: #369a66;\n",
       "  color: #f1f1f1;\n",
       "}\n",
       "#T_9f3b9_row13_col2 {\n",
       "  background-color: #43a166;\n",
       "  color: #f1f1f1;\n",
       "}\n",
       "#T_9f3b9_row13_col3 {\n",
       "  background-color: #269266;\n",
       "  color: #f1f1f1;\n",
       "}\n",
       "#T_9f3b9_row13_col4 {\n",
       "  background-color: #259266;\n",
       "  color: #f1f1f1;\n",
       "}\n",
       "#T_9f3b9_row13_col5 {\n",
       "  background-color: #b9dc66;\n",
       "  color: #000000;\n",
       "}\n",
       "#T_9f3b9_row14_col3, #T_9f3b9_row15_col3, #T_9f3b9_row15_col4 {\n",
       "  background-color: #138966;\n",
       "  color: #f1f1f1;\n",
       "}\n",
       "#T_9f3b9_row14_col4, #T_9f3b9_row16_col2 {\n",
       "  background-color: #148a66;\n",
       "  color: #f1f1f1;\n",
       "}\n",
       "#T_9f3b9_row14_col5 {\n",
       "  background-color: #47a366;\n",
       "  color: #f1f1f1;\n",
       "}\n",
       "#T_9f3b9_row15_col2 {\n",
       "  background-color: #2e9666;\n",
       "  color: #f1f1f1;\n",
       "}\n",
       "#T_9f3b9_row16_col3 {\n",
       "  background-color: #0f8766;\n",
       "  color: #f1f1f1;\n",
       "}\n",
       "#T_9f3b9_row16_col4 {\n",
       "  background-color: #108866;\n",
       "  color: #f1f1f1;\n",
       "}\n",
       "#T_9f3b9_row16_col5 {\n",
       "  background-color: #3e9e66;\n",
       "  color: #f1f1f1;\n",
       "}\n",
       "#T_9f3b9_row17_col2 {\n",
       "  background-color: #219066;\n",
       "  color: #f1f1f1;\n",
       "}\n",
       "#T_9f3b9_row17_col5 {\n",
       "  background-color: #fbfd66;\n",
       "  color: #000000;\n",
       "}\n",
       "</style>\n",
       "<table id=\"T_9f3b9\">\n",
       "  <caption>Метрики моделей SentenceTransformer</caption>\n",
       "  <thead>\n",
       "    <tr>\n",
       "      <th class=\"blank level0\" >&nbsp;</th>\n",
       "      <th id=\"T_9f3b9_level0_col0\" class=\"col_heading level0 col0\" >model</th>\n",
       "      <th id=\"T_9f3b9_level0_col1\" class=\"col_heading level0 col1\" >text_type</th>\n",
       "      <th id=\"T_9f3b9_level0_col2\" class=\"col_heading level0 col2\" >Accuracy@5</th>\n",
       "      <th id=\"T_9f3b9_level0_col3\" class=\"col_heading level0 col3\" >MMR@5</th>\n",
       "      <th id=\"T_9f3b9_level0_col4\" class=\"col_heading level0 col4\" >DCG@5</th>\n",
       "      <th id=\"T_9f3b9_level0_col5\" class=\"col_heading level0 col5\" >time</th>\n",
       "    </tr>\n",
       "  </thead>\n",
       "  <tbody>\n",
       "    <tr>\n",
       "      <th id=\"T_9f3b9_level0_row0\" class=\"row_heading level0 row0\" >0</th>\n",
       "      <td id=\"T_9f3b9_row0_col0\" class=\"data row0 col0\" >all-mpnet-base-v2</td>\n",
       "      <td id=\"T_9f3b9_row0_col1\" class=\"data row0 col1\" >Изначальный</td>\n",
       "      <td id=\"T_9f3b9_row0_col2\" class=\"data row0 col2\" >96.82%</td>\n",
       "      <td id=\"T_9f3b9_row0_col3\" class=\"data row0 col3\" >90.94%</td>\n",
       "      <td id=\"T_9f3b9_row0_col4\" class=\"data row0 col4\" >91.67%</td>\n",
       "      <td id=\"T_9f3b9_row0_col5\" class=\"data row0 col5\" >655.86</td>\n",
       "    </tr>\n",
       "    <tr>\n",
       "      <th id=\"T_9f3b9_level0_row1\" class=\"row_heading level0 row1\" >1</th>\n",
       "      <td id=\"T_9f3b9_row1_col0\" class=\"data row1 col0\" >all-MiniLM-L6-v2</td>\n",
       "      <td id=\"T_9f3b9_row1_col1\" class=\"data row1 col1\" >Изначальный</td>\n",
       "      <td id=\"T_9f3b9_row1_col2\" class=\"data row1 col2\" >96.36%</td>\n",
       "      <td id=\"T_9f3b9_row1_col3\" class=\"data row1 col3\" >90.39%</td>\n",
       "      <td id=\"T_9f3b9_row1_col4\" class=\"data row1 col4\" >90.94%</td>\n",
       "      <td id=\"T_9f3b9_row1_col5\" class=\"data row1 col5\" >119.97</td>\n",
       "    </tr>\n",
       "    <tr>\n",
       "      <th id=\"T_9f3b9_level0_row2\" class=\"row_heading level0 row2\" >2</th>\n",
       "      <td id=\"T_9f3b9_row2_col0\" class=\"data row2 col0\" >all-MiniLM-L12-v2</td>\n",
       "      <td id=\"T_9f3b9_row2_col1\" class=\"data row2 col1\" >Изначальный</td>\n",
       "      <td id=\"T_9f3b9_row2_col2\" class=\"data row2 col2\" >95.87%</td>\n",
       "      <td id=\"T_9f3b9_row2_col3\" class=\"data row2 col3\" >90.13%</td>\n",
       "      <td id=\"T_9f3b9_row2_col4\" class=\"data row2 col4\" >90.75%</td>\n",
       "      <td id=\"T_9f3b9_row2_col5\" class=\"data row2 col5\" >221.17</td>\n",
       "    </tr>\n",
       "    <tr>\n",
       "      <th id=\"T_9f3b9_level0_row3\" class=\"row_heading level0 row3\" >3</th>\n",
       "      <td id=\"T_9f3b9_row3_col0\" class=\"data row3 col0\" >multi-qa-distilbert-cos-v1</td>\n",
       "      <td id=\"T_9f3b9_row3_col1\" class=\"data row3 col1\" >Изначальный</td>\n",
       "      <td id=\"T_9f3b9_row3_col2\" class=\"data row3 col2\" >95.60%</td>\n",
       "      <td id=\"T_9f3b9_row3_col3\" class=\"data row3 col3\" >89.95%</td>\n",
       "      <td id=\"T_9f3b9_row3_col4\" class=\"data row3 col4\" >90.57%</td>\n",
       "      <td id=\"T_9f3b9_row3_col5\" class=\"data row3 col5\" >298.25</td>\n",
       "    </tr>\n",
       "    <tr>\n",
       "      <th id=\"T_9f3b9_level0_row4\" class=\"row_heading level0 row4\" >4</th>\n",
       "      <td id=\"T_9f3b9_row4_col0\" class=\"data row4 col0\" >multi-qa-MiniLM-L6-cos-v1</td>\n",
       "      <td id=\"T_9f3b9_row4_col1\" class=\"data row4 col1\" >Изначальный</td>\n",
       "      <td id=\"T_9f3b9_row4_col2\" class=\"data row4 col2\" >95.83%</td>\n",
       "      <td id=\"T_9f3b9_row4_col3\" class=\"data row4 col3\" >88.83%</td>\n",
       "      <td id=\"T_9f3b9_row4_col4\" class=\"data row4 col4\" >89.49%</td>\n",
       "      <td id=\"T_9f3b9_row4_col5\" class=\"data row4 col5\" >119.93</td>\n",
       "    </tr>\n",
       "    <tr>\n",
       "      <th id=\"T_9f3b9_level0_row5\" class=\"row_heading level0 row5\" >5</th>\n",
       "      <td id=\"T_9f3b9_row5_col0\" class=\"data row5 col0\" >multi-qa-mpnet-base-dot-v1</td>\n",
       "      <td id=\"T_9f3b9_row5_col1\" class=\"data row5 col1\" >Изначальный</td>\n",
       "      <td id=\"T_9f3b9_row5_col2\" class=\"data row5 col2\" >95.24%</td>\n",
       "      <td id=\"T_9f3b9_row5_col3\" class=\"data row5 col3\" >88.55%</td>\n",
       "      <td id=\"T_9f3b9_row5_col4\" class=\"data row5 col4\" >89.37%</td>\n",
       "      <td id=\"T_9f3b9_row5_col5\" class=\"data row5 col5\" >647.01</td>\n",
       "    </tr>\n",
       "    <tr>\n",
       "      <th id=\"T_9f3b9_level0_row6\" class=\"row_heading level0 row6\" >6</th>\n",
       "      <td id=\"T_9f3b9_row6_col0\" class=\"data row6 col0\" >all-distilroberta-v1</td>\n",
       "      <td id=\"T_9f3b9_row6_col1\" class=\"data row6 col1\" >Изначальный</td>\n",
       "      <td id=\"T_9f3b9_row6_col2\" class=\"data row6 col2\" >94.78%</td>\n",
       "      <td id=\"T_9f3b9_row6_col3\" class=\"data row6 col3\" >87.23%</td>\n",
       "      <td id=\"T_9f3b9_row6_col4\" class=\"data row6 col4\" >88.05%</td>\n",
       "      <td id=\"T_9f3b9_row6_col5\" class=\"data row6 col5\" >301.65</td>\n",
       "    </tr>\n",
       "    <tr>\n",
       "      <th id=\"T_9f3b9_level0_row7\" class=\"row_heading level0 row7\" >7</th>\n",
       "      <td id=\"T_9f3b9_row7_col0\" class=\"data row7 col0\" >paraphrase-multilingual-mpnet-base-v2</td>\n",
       "      <td id=\"T_9f3b9_row7_col1\" class=\"data row7 col1\" >Изначальный</td>\n",
       "      <td id=\"T_9f3b9_row7_col2\" class=\"data row7 col2\" >91.96%</td>\n",
       "      <td id=\"T_9f3b9_row7_col3\" class=\"data row7 col3\" >84.95%</td>\n",
       "      <td id=\"T_9f3b9_row7_col4\" class=\"data row7 col4\" >85.82%</td>\n",
       "      <td id=\"T_9f3b9_row7_col5\" class=\"data row7 col5\" >601.49</td>\n",
       "    </tr>\n",
       "    <tr>\n",
       "      <th id=\"T_9f3b9_level0_row8\" class=\"row_heading level0 row8\" >8</th>\n",
       "      <td id=\"T_9f3b9_row8_col0\" class=\"data row8 col0\" >multi-qa-distilbert-cos-v1</td>\n",
       "      <td id=\"T_9f3b9_row8_col1\" class=\"data row8 col1\" >Предобработаный</td>\n",
       "      <td id=\"T_9f3b9_row8_col2\" class=\"data row8 col2\" >92.91%</td>\n",
       "      <td id=\"T_9f3b9_row8_col3\" class=\"data row8 col3\" >83.69%</td>\n",
       "      <td id=\"T_9f3b9_row8_col4\" class=\"data row8 col4\" >84.59%</td>\n",
       "      <td id=\"T_9f3b9_row8_col5\" class=\"data row8 col5\" >239.22</td>\n",
       "    </tr>\n",
       "    <tr>\n",
       "      <th id=\"T_9f3b9_level0_row9\" class=\"row_heading level0 row9\" >9</th>\n",
       "      <td id=\"T_9f3b9_row9_col0\" class=\"data row9 col0\" >all-MiniLM-L6-v2</td>\n",
       "      <td id=\"T_9f3b9_row9_col1\" class=\"data row9 col1\" >Предобработаный</td>\n",
       "      <td id=\"T_9f3b9_row9_col2\" class=\"data row9 col2\" >93.27%</td>\n",
       "      <td id=\"T_9f3b9_row9_col3\" class=\"data row9 col3\" >83.41%</td>\n",
       "      <td id=\"T_9f3b9_row9_col4\" class=\"data row9 col4\" >84.27%</td>\n",
       "      <td id=\"T_9f3b9_row9_col5\" class=\"data row9 col5\" >133.37</td>\n",
       "    </tr>\n",
       "    <tr>\n",
       "      <th id=\"T_9f3b9_level0_row10\" class=\"row_heading level0 row10\" >10</th>\n",
       "      <td id=\"T_9f3b9_row10_col0\" class=\"data row10 col0\" >all-MiniLM-L12-v2</td>\n",
       "      <td id=\"T_9f3b9_row10_col1\" class=\"data row10 col1\" >Предобработаный</td>\n",
       "      <td id=\"T_9f3b9_row10_col2\" class=\"data row10 col2\" >92.55%</td>\n",
       "      <td id=\"T_9f3b9_row10_col3\" class=\"data row10 col3\" >83.05%</td>\n",
       "      <td id=\"T_9f3b9_row10_col4\" class=\"data row10 col4\" >83.87%</td>\n",
       "      <td id=\"T_9f3b9_row10_col5\" class=\"data row10 col5\" >265.13</td>\n",
       "    </tr>\n",
       "    <tr>\n",
       "      <th id=\"T_9f3b9_level0_row11\" class=\"row_heading level0 row11\" >11</th>\n",
       "      <td id=\"T_9f3b9_row11_col0\" class=\"data row11 col0\" >multi-qa-MiniLM-L6-cos-v1</td>\n",
       "      <td id=\"T_9f3b9_row11_col1\" class=\"data row11 col1\" >Предобработаный</td>\n",
       "      <td id=\"T_9f3b9_row11_col2\" class=\"data row11 col2\" >92.41%</td>\n",
       "      <td id=\"T_9f3b9_row11_col3\" class=\"data row11 col3\" >82.88%</td>\n",
       "      <td id=\"T_9f3b9_row11_col4\" class=\"data row11 col4\" >83.67%</td>\n",
       "      <td id=\"T_9f3b9_row11_col5\" class=\"data row11 col5\" >181.84</td>\n",
       "    </tr>\n",
       "    <tr>\n",
       "      <th id=\"T_9f3b9_level0_row12\" class=\"row_heading level0 row12\" >12</th>\n",
       "      <td id=\"T_9f3b9_row12_col0\" class=\"data row12 col0\" >paraphrase-MiniLM-L3-v2</td>\n",
       "      <td id=\"T_9f3b9_row12_col1\" class=\"data row12 col1\" >Изначальный</td>\n",
       "      <td id=\"T_9f3b9_row12_col2\" class=\"data row12 col2\" >92.16%</td>\n",
       "      <td id=\"T_9f3b9_row12_col3\" class=\"data row12 col3\" >82.24%</td>\n",
       "      <td id=\"T_9f3b9_row12_col4\" class=\"data row12 col4\" >83.21%</td>\n",
       "      <td id=\"T_9f3b9_row12_col5\" class=\"data row12 col5\" >70.26</td>\n",
       "    </tr>\n",
       "    <tr>\n",
       "      <th id=\"T_9f3b9_level0_row13\" class=\"row_heading level0 row13\" >13</th>\n",
       "      <td id=\"T_9f3b9_row13_col0\" class=\"data row13 col0\" >all-distilroberta-v1</td>\n",
       "      <td id=\"T_9f3b9_row13_col1\" class=\"data row13 col1\" >Предобработаный</td>\n",
       "      <td id=\"T_9f3b9_row13_col2\" class=\"data row13 col2\" >91.63%</td>\n",
       "      <td id=\"T_9f3b9_row13_col3\" class=\"data row13 col3\" >81.60%</td>\n",
       "      <td id=\"T_9f3b9_row13_col4\" class=\"data row13 col4\" >82.50%</td>\n",
       "      <td id=\"T_9f3b9_row13_col5\" class=\"data row13 col5\" >231.91</td>\n",
       "    </tr>\n",
       "    <tr>\n",
       "      <th id=\"T_9f3b9_level0_row14\" class=\"row_heading level0 row14\" >14</th>\n",
       "      <td id=\"T_9f3b9_row14_col0\" class=\"data row14 col0\" >paraphrase-multilingual-mpnet-base-v2</td>\n",
       "      <td id=\"T_9f3b9_row14_col1\" class=\"data row14 col1\" >Предобработаный</td>\n",
       "      <td id=\"T_9f3b9_row14_col2\" class=\"data row14 col2\" >89.79%</td>\n",
       "      <td id=\"T_9f3b9_row14_col3\" class=\"data row14 col3\" >80.78%</td>\n",
       "      <td id=\"T_9f3b9_row14_col4\" class=\"data row14 col4\" >81.79%</td>\n",
       "      <td id=\"T_9f3b9_row14_col5\" class=\"data row14 col5\" >493.40</td>\n",
       "    </tr>\n",
       "    <tr>\n",
       "      <th id=\"T_9f3b9_level0_row15\" class=\"row_heading level0 row15\" >15</th>\n",
       "      <td id=\"T_9f3b9_row15_col0\" class=\"data row15 col0\" >all-mpnet-base-v2</td>\n",
       "      <td id=\"T_9f3b9_row15_col1\" class=\"data row15 col1\" >Предобработаный</td>\n",
       "      <td id=\"T_9f3b9_row15_col2\" class=\"data row15 col2\" >91.07%</td>\n",
       "      <td id=\"T_9f3b9_row15_col3\" class=\"data row15 col3\" >80.77%</td>\n",
       "      <td id=\"T_9f3b9_row15_col4\" class=\"data row15 col4\" >81.75%</td>\n",
       "      <td id=\"T_9f3b9_row15_col5\" class=\"data row15 col5\" >457.85</td>\n",
       "    </tr>\n",
       "    <tr>\n",
       "      <th id=\"T_9f3b9_level0_row16\" class=\"row_heading level0 row16\" >16</th>\n",
       "      <td id=\"T_9f3b9_row16_col0\" class=\"data row16 col0\" >multi-qa-mpnet-base-dot-v1</td>\n",
       "      <td id=\"T_9f3b9_row16_col1\" class=\"data row16 col1\" >Предобработаный</td>\n",
       "      <td id=\"T_9f3b9_row16_col2\" class=\"data row16 col2\" >90.34%</td>\n",
       "      <td id=\"T_9f3b9_row16_col3\" class=\"data row16 col3\" >80.60%</td>\n",
       "      <td id=\"T_9f3b9_row16_col4\" class=\"data row16 col4\" >81.64%</td>\n",
       "      <td id=\"T_9f3b9_row16_col5\" class=\"data row16 col5\" >513.54</td>\n",
       "    </tr>\n",
       "    <tr>\n",
       "      <th id=\"T_9f3b9_level0_row17\" class=\"row_heading level0 row17\" >17</th>\n",
       "      <td id=\"T_9f3b9_row17_col0\" class=\"data row17 col0\" >paraphrase-MiniLM-L3-v2</td>\n",
       "      <td id=\"T_9f3b9_row17_col1\" class=\"data row17 col1\" >Предобработаный</td>\n",
       "      <td id=\"T_9f3b9_row17_col2\" class=\"data row17 col2\" >90.71%</td>\n",
       "      <td id=\"T_9f3b9_row17_col3\" class=\"data row17 col3\" >79.94%</td>\n",
       "      <td id=\"T_9f3b9_row17_col4\" class=\"data row17 col4\" >80.94%</td>\n",
       "      <td id=\"T_9f3b9_row17_col5\" class=\"data row17 col5\" >80.79</td>\n",
       "    </tr>\n",
       "  </tbody>\n",
       "</table>\n"
      ],
      "text/plain": [
       "<pandas.io.formats.style.Styler at 0x1e7a9f59be0>"
      ]
     },
     "execution_count": 285,
     "metadata": {},
     "output_type": "execute_result"
    }
   ],
   "source": [
    "metrics_colored"
   ]
  },
  {
   "cell_type": "code",
   "execution_count": 284,
   "metadata": {},
   "outputs": [],
   "source": [
    "metrics.to_csv('metrics.csv', index = False)"
   ]
  },
  {
   "cell_type": "markdown",
   "metadata": {},
   "source": [
    "**Наблюдения:**\n",
    "* ***Модель all-mpnet-base-v2 показала наилучшую точность (Accuracy@5) как на исходных, так и на предобработанных данных.*** Это говорит о том, что эта модель хорошо подходит для нашей задачи поиска похожих вопросов.\n",
    "* ***Предобработка текста не привела к улучшению точности.*** В большинстве случаях, точность даже немного снизилась. Это может быть связано с тем, что предобработка удаляет некоторую информацию, которая может быть полезна для модели.\n",
    "* ***Модели среднего размера (all-MiniLM-L6-v2, all-MiniLM-L12-v2) также показали хорошую точность. Они могут быть хорошим выбором, если важна скорость работы.***\n",
    "* *Модели, специально обученные для задач Question Answering (multi-qa-MiniLM-L6-cos-v1, multi-qa-distilbert-cos-v1, multi-qa-mpnet-base-dot-v1), показали немного худшую точность, чем all-mpnet-base-v2, all-MiniLM-L6-v2 и all-MiniLM-L12-v2.*\n",
    "* Метрики `MMR@5`и`DCG@5` на уровене 90%+ (0.9+) указывают на то что в большинстве случаев модель ранжирует правильный вопрос на первое место и реже на второе и ниже.\n",
    "\n",
    "**Выбор модели:**\n",
    "- Для дальнейшей разработки я буду использовать модель **`all-MiniLM-L6-v2`**, которая показала почти такой же результат что и `all-mpnet-base-v2`, но при этом работает почти в 6 раз быстрее."
   ]
  },
  {
   "cell_type": "markdown",
   "metadata": {},
   "source": [
    "## Fine-tuning модели SentenceTransformers"
   ]
  },
  {
   "cell_type": "code",
   "execution_count": 287,
   "metadata": {},
   "outputs": [],
   "source": [
    "def print_metrics(idx2emd, gt, n = 5):\n",
    "\n",
    "    # Вызов функции и evaluate_model\n",
    "    accuracy, mrr, dcg = evaluate_model(idx2emd, gt, n)\n",
    "\n",
    "    # Печать результатов\n",
    "    print(f\"Accuracy@{n}: {accuracy:.4f}\")\n",
    "    print(f\"MRR@{n}: {mrr:.4f}\")\n",
    "    print(f\"DCG@{n}: {dcg:.4f}\")"
   ]
  },
  {
   "cell_type": "code",
   "execution_count": 110,
   "metadata": {},
   "outputs": [],
   "source": [
    "best = 'all-MiniLM-L6-v2'"
   ]
  },
  {
   "cell_type": "code",
   "execution_count": 81,
   "metadata": {},
   "outputs": [],
   "source": [
    "# Создание списка InputExample\n",
    "train_data = []\n",
    "for index, row in train_df.iterrows():\n",
    "    train_data.append(InputExample(texts=[row['question_1'], row['question_2']], label=float(row['label'])))\n",
    "\n",
    "# Создание DataLoader\n",
    "train_dataloader = DataLoader(train_data, shuffle=True, batch_size=16)"
   ]
  },
  {
   "cell_type": "code",
   "execution_count": 82,
   "metadata": {},
   "outputs": [
    {
     "data": {
      "application/vnd.jupyter.widget-view+json": {
       "model_id": "74e5fdf068af4892aba3b709ee2583fd",
       "version_major": 2,
       "version_minor": 0
      },
      "text/plain": [
       "Epoch:   0%|          | 0/1 [00:00<?, ?it/s]"
      ]
     },
     "metadata": {},
     "output_type": "display_data"
    },
    {
     "data": {
      "application/vnd.jupyter.widget-view+json": {
       "model_id": "4595a958485a47ca8a72d41c4351d21c",
       "version_major": 2,
       "version_minor": 0
      },
      "text/plain": [
       "Iteration:   0%|          | 0/191 [00:00<?, ?it/s]"
      ]
     },
     "metadata": {},
     "output_type": "display_data"
    }
   ],
   "source": [
    "# Создание объекта SentenceTransformer\n",
    "model = SentenceTransformer(best)\n",
    "\n",
    "# Определение loss-функции\n",
    "train_loss = losses.CosineSimilarityLoss(model)\n",
    "\n",
    "logging_handler = LoggingHandler()\n",
    "\n",
    "# Fine-tuning модели\n",
    "tuned_model = model.fit(train_objectives=[(train_dataloader, train_loss)],\n",
    "                        epochs=3)"
   ]
  },
  {
   "cell_type": "code",
   "execution_count": 93,
   "metadata": {},
   "outputs": [
    {
     "data": {
      "application/vnd.jupyter.widget-view+json": {
       "model_id": "39b305a4f8a64e8086f0931f88d1dc8b",
       "version_major": 2,
       "version_minor": 0
      },
      "text/plain": [
       "Epoch:   0%|          | 0/10 [00:00<?, ?it/s]"
      ]
     },
     "metadata": {},
     "output_type": "display_data"
    },
    {
     "data": {
      "application/vnd.jupyter.widget-view+json": {
       "model_id": "adc09b0785a945949a2f63291f5e646d",
       "version_major": 2,
       "version_minor": 0
      },
      "text/plain": [
       "Iteration:   0%|          | 0/191 [00:00<?, ?it/s]"
      ]
     },
     "metadata": {},
     "output_type": "display_data"
    },
    {
     "data": {
      "application/vnd.jupyter.widget-view+json": {
       "model_id": "d25d8f3222d74b359ce6f83b36f22b4f",
       "version_major": 2,
       "version_minor": 0
      },
      "text/plain": [
       "Iteration:   0%|          | 0/191 [00:00<?, ?it/s]"
      ]
     },
     "metadata": {},
     "output_type": "display_data"
    },
    {
     "data": {
      "application/vnd.jupyter.widget-view+json": {
       "model_id": "db146dee747a41708de82ddef676cf18",
       "version_major": 2,
       "version_minor": 0
      },
      "text/plain": [
       "Iteration:   0%|          | 0/191 [00:00<?, ?it/s]"
      ]
     },
     "metadata": {},
     "output_type": "display_data"
    },
    {
     "data": {
      "application/vnd.jupyter.widget-view+json": {
       "model_id": "2b3c28f2d158435e9fab4c29cfd791e1",
       "version_major": 2,
       "version_minor": 0
      },
      "text/plain": [
       "Iteration:   0%|          | 0/191 [00:00<?, ?it/s]"
      ]
     },
     "metadata": {},
     "output_type": "display_data"
    },
    {
     "data": {
      "application/vnd.jupyter.widget-view+json": {
       "model_id": "a8d87631935346e994ccc3ae539a81ab",
       "version_major": 2,
       "version_minor": 0
      },
      "text/plain": [
       "Iteration:   0%|          | 0/191 [00:00<?, ?it/s]"
      ]
     },
     "metadata": {},
     "output_type": "display_data"
    },
    {
     "data": {
      "application/vnd.jupyter.widget-view+json": {
       "model_id": "ad0811f673b94425a2fbc6fe8bae4a4d",
       "version_major": 2,
       "version_minor": 0
      },
      "text/plain": [
       "Iteration:   0%|          | 0/191 [00:00<?, ?it/s]"
      ]
     },
     "metadata": {},
     "output_type": "display_data"
    },
    {
     "data": {
      "application/vnd.jupyter.widget-view+json": {
       "model_id": "1120af17e8ee4315a03d811bbd718ef1",
       "version_major": 2,
       "version_minor": 0
      },
      "text/plain": [
       "Iteration:   0%|          | 0/191 [00:00<?, ?it/s]"
      ]
     },
     "metadata": {},
     "output_type": "display_data"
    },
    {
     "data": {
      "application/vnd.jupyter.widget-view+json": {
       "model_id": "2817fe811b61450b81c4e3338eb973dd",
       "version_major": 2,
       "version_minor": 0
      },
      "text/plain": [
       "Iteration:   0%|          | 0/191 [00:00<?, ?it/s]"
      ]
     },
     "metadata": {},
     "output_type": "display_data"
    },
    {
     "data": {
      "application/vnd.jupyter.widget-view+json": {
       "model_id": "6505a389691f4a63a903cffb1d36ec41",
       "version_major": 2,
       "version_minor": 0
      },
      "text/plain": [
       "Iteration:   0%|          | 0/191 [00:00<?, ?it/s]"
      ]
     },
     "metadata": {},
     "output_type": "display_data"
    },
    {
     "data": {
      "application/vnd.jupyter.widget-view+json": {
       "model_id": "5342a121e92e40cf9f89ccb8fe564d66",
       "version_major": 2,
       "version_minor": 0
      },
      "text/plain": [
       "Iteration:   0%|          | 0/191 [00:00<?, ?it/s]"
      ]
     },
     "metadata": {},
     "output_type": "display_data"
    },
    {
     "name": "stdout",
     "output_type": "stream",
     "text": [
      "CPU times: total: 2h 16min 57s\n",
      "Wall time: 1h 18min 51s\n"
     ]
    }
   ],
   "source": [
    "%%time\n",
    "%%chime\n",
    "\n",
    "idx2emd, _, _, gt = create_index(train_df, tuned_model, text_cols = ['question_1','question_2'])\n",
    "print_metrics(idx2emd, gt, 5)"
   ]
  },
  {
   "cell_type": "code",
   "execution_count": 102,
   "metadata": {},
   "outputs": [],
   "source": [
    "def print_metrics(idx2emd, gt, n = 5):\n",
    "\n",
    "    # Вызов функции и evaluate_model\n",
    "    accuracy, mrr, dcg = evaluate_model(idx2emd, gt, n)\n",
    "\n",
    "    # Печать результатов\n",
    "    print(f\"Accuracy@{n}:\", accuracy)\n",
    "    print(f\"MRR@{n}:\", mrr)\n",
    "    print(f\"DCG@{n}:\", dcg)"
   ]
  },
  {
   "cell_type": "code",
   "execution_count": 100,
   "metadata": {},
   "outputs": [],
   "source": [
    "idx2emd, _, _, gt = create_index(train_df, tuned_model, text_cols = ['question_1','question_2'])"
   ]
  },
  {
   "cell_type": "code",
   "execution_count": 288,
   "metadata": {},
   "outputs": [
    {
     "name": "stdout",
     "output_type": "stream",
     "text": [
      "Accuracy@5: 0.9636\n",
      "MRR@5: 0.9039\n",
      "DCG@5: 0.9094\n"
     ]
    }
   ],
   "source": [
    "print_metrics(idx2emd, gt, 5)"
   ]
  },
  {
   "cell_type": "code",
   "execution_count": 289,
   "metadata": {},
   "outputs": [
    {
     "name": "stdout",
     "output_type": "stream",
     "text": [
      "Accuracy@10: 0.9793\n",
      "MRR@10: 0.9061\n",
      "DCG@10: 0.9057\n"
     ]
    }
   ],
   "source": [
    "print_metrics(idx2emd, gt, 10)"
   ]
  },
  {
   "cell_type": "markdown",
   "metadata": {},
   "source": [
    "* **Метрики ухудшились, попробую использовать другую loss-функцию - `TripletLoss`, которая будет лучше подходить для данного набора данных и задачи.**"
   ]
  },
  {
   "cell_type": "code",
   "execution_count": 117,
   "metadata": {},
   "outputs": [],
   "source": [
    "from collections import defaultdict\n",
    "\n",
    "def create_triplets(df):\n",
    "    \"\"\"\n",
    "    Создает триплеты данных для TripletLoss.\n",
    "\n",
    "    Args:\n",
    "        df (pd.DataFrame): DataFrame с вопросами и метками.\n",
    "\n",
    "    Returns:\n",
    "        list: Список триплетов (anchor, positive, negative).\n",
    "    \"\"\"\n",
    "    # Группировка вопросов по меткам\n",
    "    groups = defaultdict(list)\n",
    "    for index, row in df.iterrows():\n",
    "        groups[row['label']].append(row['question_1'])\n",
    "\n",
    "    # Создание триплетов\n",
    "    triplets = []\n",
    "    for label, group in groups.items():\n",
    "        for anchor in group:\n",
    "            for positive in group:\n",
    "                if anchor != positive:\n",
    "                    for negative_label, negative_group in groups.items():\n",
    "                        if negative_label != label:\n",
    "                            negative = random.choice(negative_group)\n",
    "                            triplets.append(InputExample(texts=[anchor, positive, negative]))  # Создание InputExample\n",
    "    return triplets"
   ]
  },
  {
   "cell_type": "code",
   "execution_count": null,
   "metadata": {},
   "outputs": [],
   "source": [
    "from sentence_transformers import InputExample\n",
    "\n",
    "def create_triplets(df):\n",
    "    \"\"\"\n",
    "    Создает триплеты данных для TripletMarginLoss.\n",
    "\n",
    "    Args:\n",
    "        df (pd.DataFrame): DataFrame с вопросами и метками.\n",
    "\n",
    "    Returns:\n",
    "        list: Список объектов InputExample.\n",
    "    \"\"\"\n",
    "    triplets = []\n",
    "    for index, row in df.iterrows():\n",
    "        if row['label'] == 1:\n",
    "            # Положительный пример\n",
    "            triplets.append(InputExample(texts=[row['question_1'], row['question_2'], df.loc[index-1, 'question_2']]))  # Берем предыдущий вопрос как отрицательный\n",
    "        else:\n",
    "            # Отрицательный пример (берем следующий вопрос как положительный)\n",
    "            triplets.append(InputExample(texts=[row['question_1'], df.loc[index+1, 'question_2'], row['question_2']]))\n",
    "    return triplets"
   ]
  },
  {
   "cell_type": "code",
   "execution_count": 150,
   "metadata": {},
   "outputs": [],
   "source": [
    "import random"
   ]
  },
  {
   "cell_type": "code",
   "execution_count": 149,
   "metadata": {},
   "outputs": [],
   "source": [
    "from collections import defaultdict\n",
    "from sentence_transformers import InputExample\n",
    "\n",
    "def create_triplets(df):\n",
    "    \"\"\"\n",
    "    Создает триплеты данных для TripletMarginLoss.\n",
    "\n",
    "    Args:\n",
    "        df (pd.DataFrame): DataFrame с вопросами и метками.\n",
    "\n",
    "    Returns:\n",
    "        list: Список объектов InputExample.\n",
    "    \"\"\"\n",
    "    # Группировка вопросов по меткам\n",
    "    groups = defaultdict(list)\n",
    "    for index, row in df.iterrows():\n",
    "        groups[row['label']].append(row['question_1'])\n",
    "\n",
    "    # Создание триплетов\n",
    "    triplets = []\n",
    "    for label, group in groups.items():\n",
    "        for anchor in group:\n",
    "            positive_group = groups[1] if label == 0 else groups[0]  # Выбираем группу с другой меткой\n",
    "            positive = random.choice(positive_group)\n",
    "            negative = random.choice(group)\n",
    "            while negative == anchor:\n",
    "                negative = random.choice(group)\n",
    "            triplets.append(InputExample(texts=[anchor, positive, negative]))\n",
    "    return triplets"
   ]
  },
  {
   "cell_type": "code",
   "execution_count": 201,
   "metadata": {},
   "outputs": [],
   "source": [
    "from collections import defaultdict\n",
    "from sentence_transformers import InputExample\n",
    "\n",
    "def create_triplets(df, triplet_type = 'InputExample'):\n",
    "    \"\"\"\n",
    "    Создает триплеты данных для TripletMarginLoss.\n",
    "\n",
    "    Args:\n",
    "        df (pd.DataFrame): DataFrame с вопросами и метками.\n",
    "\n",
    "    Returns:\n",
    "        list: Список объектов InputExample.\n",
    "    \"\"\"\n",
    "    triplets = []\n",
    "\n",
    "    for anchor in train_df.question_1.unique():\n",
    "        for positive in train_df.query('label == 1').loc[train_df['question_1']==anchor,'question_2'].to_list():\n",
    "            for negative in train_df.query('label == 0').loc[train_df['question_1']==anchor,'question_2'].to_list():\n",
    "            \n",
    "                if triplet_type == 'InputExample':\n",
    "                    triplets.append(InputExample(texts=[anchor, positive, negative]))\n",
    "                    \n",
    "                elif triplet_type =='tuple':\n",
    "                    triplets.append((anchor, positive, negative))\n",
    "                \n",
    "    return triplets"
   ]
  },
  {
   "cell_type": "code",
   "execution_count": 197,
   "metadata": {},
   "outputs": [],
   "source": [
    "def evaluate_triplets(triplets, model):\n",
    "    \"\"\"\n",
    "    Оценивает модель SentenceTransformer на триплетах данных.\n",
    "\n",
    "    Args:\n",
    "        triplets (list): Список триплетов (anchor, positive, negative).\n",
    "        model (SentenceTransformer): Объект SentenceTransformer.\n",
    "\n",
    "    Returns:\n",
    "        float: Доля правильно классифицированных триплетов.\n",
    "    \"\"\"\n",
    "    correct = 0\n",
    "    for anchor, positive, negative in triplets:\n",
    "        # Векторизация предложений\n",
    "        anchor_embedding = model.encode(anchor)\n",
    "        positive_embedding = model.encode(positive)\n",
    "        negative_embedding = model.encode(negative)\n",
    "\n",
    "        # Вычисление расстояний\n",
    "        positive_distance = cosine_similarity(anchor_embedding.reshape(1, -1), positive_embedding.reshape(1, -1))[0][0]\n",
    "        negative_distance = cosine_similarity(anchor_embedding.reshape(1, -1), negative_embedding.reshape(1, -1))[0][0]\n",
    "\n",
    "        # Проверка условия\n",
    "        if positive_distance > negative_distance:\n",
    "            correct += 1\n",
    "\n",
    "    return correct / len(triplets)"
   ]
  },
  {
   "cell_type": "code",
   "execution_count": 186,
   "metadata": {},
   "outputs": [
    {
     "data": {
      "application/vnd.jupyter.widget-view+json": {
       "model_id": "49838ed7adff49a3bbaeb54341bdb060",
       "version_major": 2,
       "version_minor": 0
      },
      "text/plain": [
       "Epoch:   0%|          | 0/10 [00:00<?, ?it/s]"
      ]
     },
     "metadata": {},
     "output_type": "display_data"
    },
    {
     "data": {
      "application/vnd.jupyter.widget-view+json": {
       "model_id": "ef9f004a81b8453399e671aa6efabc64",
       "version_major": 2,
       "version_minor": 0
      },
      "text/plain": [
       "Iteration:   0%|          | 0/96 [00:00<?, ?it/s]"
      ]
     },
     "metadata": {},
     "output_type": "display_data"
    },
    {
     "data": {
      "application/vnd.jupyter.widget-view+json": {
       "model_id": "77b168f061c44439be0de22fdbe7477d",
       "version_major": 2,
       "version_minor": 0
      },
      "text/plain": [
       "Iteration:   0%|          | 0/96 [00:00<?, ?it/s]"
      ]
     },
     "metadata": {},
     "output_type": "display_data"
    },
    {
     "data": {
      "application/vnd.jupyter.widget-view+json": {
       "model_id": "7da454888786441b92cdc2780bdf58ef",
       "version_major": 2,
       "version_minor": 0
      },
      "text/plain": [
       "Iteration:   0%|          | 0/96 [00:00<?, ?it/s]"
      ]
     },
     "metadata": {},
     "output_type": "display_data"
    },
    {
     "data": {
      "application/vnd.jupyter.widget-view+json": {
       "model_id": "ae121ff0afe04f96b8ddcd956cc656e6",
       "version_major": 2,
       "version_minor": 0
      },
      "text/plain": [
       "Iteration:   0%|          | 0/96 [00:00<?, ?it/s]"
      ]
     },
     "metadata": {},
     "output_type": "display_data"
    },
    {
     "data": {
      "application/vnd.jupyter.widget-view+json": {
       "model_id": "45448e4efaed4937abc8ebd4cd748ff0",
       "version_major": 2,
       "version_minor": 0
      },
      "text/plain": [
       "Iteration:   0%|          | 0/96 [00:00<?, ?it/s]"
      ]
     },
     "metadata": {},
     "output_type": "display_data"
    },
    {
     "data": {
      "application/vnd.jupyter.widget-view+json": {
       "model_id": "c58b837d70b94049b1957ed511cae5a7",
       "version_major": 2,
       "version_minor": 0
      },
      "text/plain": [
       "Iteration:   0%|          | 0/96 [00:00<?, ?it/s]"
      ]
     },
     "metadata": {},
     "output_type": "display_data"
    },
    {
     "data": {
      "application/vnd.jupyter.widget-view+json": {
       "model_id": "da6bda90b4bc4b198415d8d4daf9af12",
       "version_major": 2,
       "version_minor": 0
      },
      "text/plain": [
       "Iteration:   0%|          | 0/96 [00:00<?, ?it/s]"
      ]
     },
     "metadata": {},
     "output_type": "display_data"
    },
    {
     "data": {
      "application/vnd.jupyter.widget-view+json": {
       "model_id": "ba8af52a561d4e91848f1d1c52c4507d",
       "version_major": 2,
       "version_minor": 0
      },
      "text/plain": [
       "Iteration:   0%|          | 0/96 [00:00<?, ?it/s]"
      ]
     },
     "metadata": {},
     "output_type": "display_data"
    },
    {
     "data": {
      "application/vnd.jupyter.widget-view+json": {
       "model_id": "af34cb6795394e33b97802512bc1268c",
       "version_major": 2,
       "version_minor": 0
      },
      "text/plain": [
       "Iteration:   0%|          | 0/96 [00:00<?, ?it/s]"
      ]
     },
     "metadata": {},
     "output_type": "display_data"
    },
    {
     "data": {
      "application/vnd.jupyter.widget-view+json": {
       "model_id": "a07fc90801a04a848eaeeb4013a24df8",
       "version_major": 2,
       "version_minor": 0
      },
      "text/plain": [
       "Iteration:   0%|          | 0/96 [00:00<?, ?it/s]"
      ]
     },
     "metadata": {},
     "output_type": "display_data"
    },
    {
     "name": "stdout",
     "output_type": "stream",
     "text": [
      "Accuracy@5: 0.2335958005249344\n",
      "MRR@5: 0.09706364829396326\n",
      "DCG@5: 0.09103037353294799\n",
      "CPU times: total: 1h 57min 5s\n",
      "Wall time: 51min 34s\n"
     ]
    }
   ],
   "source": [
    "%%time\n",
    "%%chime\n",
    "\n",
    "model = SentenceTransformer(best)\n",
    "\n",
    "# Создание триплетов данных\n",
    "train_triplets = create_triplets(train_df)\n",
    "\n",
    "# Создание DataLoader\n",
    "train_dataloader = DataLoader(train_triplets, shuffle=True, batch_size=16)\n",
    "\n",
    "# Создание объекта SentenceTransformer\n",
    "model = SentenceTransformer(best)\n",
    "\n",
    "# Определение loss-функции\n",
    "train_loss = losses.TripletLoss(model=model)\n",
    "\n",
    "# Добавление LoggingHandler\n",
    "logging_handler = LoggingHandler()\n",
    "\n",
    "# Fine-tuning модели\n",
    "model.fit(train_objectives=[(train_dataloader, train_loss)], \n",
    "          epochs=10, \n",
    "          warmup_steps=100\n",
    "          )\n",
    "\n",
    "# Оценка качества модели\n",
    "idx2emd, _, _, gt = create_index(train_df, model, text_cols = ['question_1','question_2'])\n",
    "\n",
    "print_metrics(idx2emd, gt, 5)"
   ]
  },
  {
   "cell_type": "code",
   "execution_count": 200,
   "metadata": {},
   "outputs": [
    {
     "data": {
      "text/plain": [
       "[]"
      ]
     },
     "execution_count": 200,
     "metadata": {},
     "output_type": "execute_result"
    }
   ],
   "source": [
    "tuple_train_triplets"
   ]
  },
  {
   "cell_type": "code",
   "execution_count": 202,
   "metadata": {},
   "outputs": [
    {
     "data": {
      "text/plain": [
       "0.9429133858267716"
      ]
     },
     "execution_count": 202,
     "metadata": {},
     "output_type": "execute_result"
    }
   ],
   "source": [
    "tuple_train_triplets = create_triplets(train_df, triplet_type='tuple')\n",
    "\n",
    "evaluate_triplets(tuple_train_triplets, model)"
   ]
  },
  {
   "cell_type": "code",
   "execution_count": 204,
   "metadata": {},
   "outputs": [
    {
     "data": {
      "text/plain": [
       "0.9481627296587927"
      ]
     },
     "execution_count": 204,
     "metadata": {},
     "output_type": "execute_result"
    }
   ],
   "source": [
    "base_model = SentenceTransformer(best)\n",
    "\n",
    "tuple_train_triplets = create_triplets(train_df, triplet_type='tuple')\n",
    "\n",
    "evaluate_triplets(tuple_train_triplets, base_model)"
   ]
  },
  {
   "cell_type": "markdown",
   "metadata": {},
   "source": [
    "**Базовая модель без дообучения показывает более высокую метрику `AccuracyTriplet` и значительно лучшие показатели целевых метрик `Accuracy@5, MRR@5, DCG@5`, чем модель дообученная с помощью `TripletLoss`**"
   ]
  },
  {
   "cell_type": "code",
   "execution_count": 211,
   "metadata": {},
   "outputs": [
    {
     "data": {
      "text/plain": [
       "defaultdict(list,\n",
       "            {4: [2],\n",
       "             2: [4],\n",
       "             5: [14],\n",
       "             14: [5],\n",
       "             12: [6],\n",
       "             6: [12],\n",
       "             10: [1],\n",
       "             1: [10],\n",
       "             11: [7],\n",
       "             7: [11]})"
      ]
     },
     "execution_count": 211,
     "metadata": {},
     "output_type": "execute_result"
    }
   ],
   "source": [
    "gt"
   ]
  },
  {
   "cell_type": "code",
   "execution_count": 222,
   "metadata": {},
   "outputs": [
    {
     "data": {
      "text/plain": [
       "10"
      ]
     },
     "execution_count": 222,
     "metadata": {},
     "output_type": "execute_result"
    }
   ],
   "source": [
    "gt[1][0]"
   ]
  },
  {
   "cell_type": "code",
   "execution_count": 224,
   "metadata": {},
   "outputs": [
    {
     "data": {
      "text/plain": [
       "{0: 'I vomited this morning and I am not sure if it is the side effect of my antibiotic or the alcohol I took last night...',\n",
       " 1: 'Today morning, I had an appointment with the doctor. After that, I saw the nurse for a shot. As I got up, her box of tools fell all over me. She sent me home saying all is okay. But I am worried about an infection. Should I schedule another appointment for any blood tests?',\n",
       " 2: 'I have a party tonight and I took my last dose of Azithromycin this morning. Can I have a few drinks?',\n",
       " 3: 'Is it okay if I use the same syringe for my insulin shot? I need to take it thrice a day.',\n",
       " 4: 'After how many hour from drinking an antibiotic can I drink alcohol?',\n",
       " 5: 'Am I over weight (192.9) for my age (39)?',\n",
       " 6: 'My friend told me about this bracelet for Aspirin allergy. Does it work the way they say it does?',\n",
       " 7: \"I am unable to get tooth extraction, my dentist is unable to give me anesthesia. Wouldn't antibiotics help with this since it has been going on for about 4-5 weeks? Should I go to ER?\",\n",
       " 8: 'How much Aspirin can I take for my headache without causing any side effects?',\n",
       " 9: 'Why do I have black teeth? Should I take antibiotics? Is this an infection?',\n",
       " 10: \"At a doctor's visit, I hit my head against a box on the wall containing hazardous materials (used syringes, used needles...). Will I get infected?\",\n",
       " 11: 'Been on antibiotics 4 5wks top high tooth dentist cld not get needle 2 freeze 2 extract in gum really hurt she said its the tissues hve 2 go bk? Plz',\n",
       " 12: 'Aspirin allergy - is it worth getting a bracelet?',\n",
       " 13: 'What diet is good for losing weight? Keto or vegan?',\n",
       " 14: 'I am a 39 y/o male currently weighing about 193 lbs. Do you think I am overweight?'}"
      ]
     },
     "execution_count": 224,
     "metadata": {},
     "output_type": "execute_result"
    }
   ],
   "source": [
    "idx2sen"
   ]
  },
  {
   "cell_type": "code",
   "execution_count": 226,
   "metadata": {},
   "outputs": [
    {
     "data": {
      "text/plain": [
       "array([[ 0,  4,  2,  7,  9,  1],\n",
       "       [ 1, 10, 11,  3,  7,  9],\n",
       "       [ 2,  4,  0,  7,  8,  3],\n",
       "       [ 3,  1, 12,  2, 10,  6],\n",
       "       [ 4,  0,  2,  7,  8,  3],\n",
       "       [ 5, 14, 13,  3, 12,  8],\n",
       "       [ 6, 12,  8,  3, 11,  0],\n",
       "       [ 7, 11,  9,  4,  1,  0],\n",
       "       [ 8, 12,  6,  2,  4,  3],\n",
       "       [ 9, 11,  7,  0,  1,  4],\n",
       "       [10,  1, 11,  3,  0,  7],\n",
       "       [11,  7,  9,  1, 10,  2],\n",
       "       [12,  6,  8,  3,  2,  1],\n",
       "       [13, 14,  5, 12,  6,  3],\n",
       "       [14,  5, 13,  9, 12,  3]], dtype=int64)"
      ]
     },
     "execution_count": 226,
     "metadata": {},
     "output_type": "execute_result"
    }
   ],
   "source": [
    "top_n_idx"
   ]
  },
  {
   "cell_type": "code",
   "execution_count": 225,
   "metadata": {},
   "outputs": [
    {
     "data": {
      "text/html": [
       "<div>\n",
       "<style scoped>\n",
       "    .dataframe tbody tr th:only-of-type {\n",
       "        vertical-align: middle;\n",
       "    }\n",
       "\n",
       "    .dataframe tbody tr th {\n",
       "        vertical-align: top;\n",
       "    }\n",
       "\n",
       "    .dataframe thead th {\n",
       "        text-align: right;\n",
       "    }\n",
       "</style>\n",
       "<table border=\"1\" class=\"dataframe\">\n",
       "  <thead>\n",
       "    <tr style=\"text-align: right;\">\n",
       "      <th></th>\n",
       "      <th>dr_id</th>\n",
       "      <th>question_1</th>\n",
       "      <th>question_2</th>\n",
       "      <th>label</th>\n",
       "      <th>question_1_length</th>\n",
       "      <th>question_2_length</th>\n",
       "      <th>processed_question_1</th>\n",
       "      <th>processed_question_2</th>\n",
       "    </tr>\n",
       "  </thead>\n",
       "  <tbody>\n",
       "    <tr>\n",
       "      <th>0</th>\n",
       "      <td>1</td>\n",
       "      <td>After how many hour from drinking an antibioti...</td>\n",
       "      <td>I have a party tonight and I took my last dose...</td>\n",
       "      <td>1</td>\n",
       "      <td>68</td>\n",
       "      <td>101</td>\n",
       "      <td>many hour drinking antibiotic drink alcohol</td>\n",
       "      <td>party tonight take last dose azithromycin morn...</td>\n",
       "    </tr>\n",
       "    <tr>\n",
       "      <th>1</th>\n",
       "      <td>1</td>\n",
       "      <td>After how many hour from drinking an antibioti...</td>\n",
       "      <td>I vomited this morning and I am not sure if it...</td>\n",
       "      <td>0</td>\n",
       "      <td>68</td>\n",
       "      <td>118</td>\n",
       "      <td>many hour drinking antibiotic drink alcohol</td>\n",
       "      <td>vomit morning sure side effect antibiotic alco...</td>\n",
       "    </tr>\n",
       "    <tr>\n",
       "      <th>2</th>\n",
       "      <td>1</td>\n",
       "      <td>Am I over weight (192.9) for my age (39)?</td>\n",
       "      <td>I am a 39 y/o male currently weighing about 19...</td>\n",
       "      <td>1</td>\n",
       "      <td>41</td>\n",
       "      <td>82</td>\n",
       "      <td>weight age 39</td>\n",
       "      <td>39 male currently weigh 193 lb think overweight</td>\n",
       "    </tr>\n",
       "    <tr>\n",
       "      <th>3</th>\n",
       "      <td>1</td>\n",
       "      <td>Am I over weight (192.9) for my age (39)?</td>\n",
       "      <td>What diet is good for losing weight? Keto or v...</td>\n",
       "      <td>0</td>\n",
       "      <td>41</td>\n",
       "      <td>51</td>\n",
       "      <td>weight age 39</td>\n",
       "      <td>diet good lose weight keto vegan</td>\n",
       "    </tr>\n",
       "    <tr>\n",
       "      <th>4</th>\n",
       "      <td>1</td>\n",
       "      <td>Aspirin allergy - is it worth getting a bracelet?</td>\n",
       "      <td>How much Aspirin can I take for my headache wi...</td>\n",
       "      <td>0</td>\n",
       "      <td>49</td>\n",
       "      <td>77</td>\n",
       "      <td>aspirin allergy worth get bracelet</td>\n",
       "      <td>much aspirin take headache without cause side ...</td>\n",
       "    </tr>\n",
       "    <tr>\n",
       "      <th>5</th>\n",
       "      <td>1</td>\n",
       "      <td>Aspirin allergy - is it worth getting a bracelet?</td>\n",
       "      <td>My friend told me about this bracelet for Aspi...</td>\n",
       "      <td>1</td>\n",
       "      <td>49</td>\n",
       "      <td>97</td>\n",
       "      <td>aspirin allergy worth get bracelet</td>\n",
       "      <td>friend tell bracelet aspirin allergy work way say</td>\n",
       "    </tr>\n",
       "    <tr>\n",
       "      <th>6</th>\n",
       "      <td>1</td>\n",
       "      <td>At a doctor's visit, I hit my head against a b...</td>\n",
       "      <td>Is it okay if I use the same syringe for my in...</td>\n",
       "      <td>0</td>\n",
       "      <td>146</td>\n",
       "      <td>89</td>\n",
       "      <td>doctor visit hit head box wall contain hazardo...</td>\n",
       "      <td>okay use syringe insulin shot need take thrice...</td>\n",
       "    </tr>\n",
       "    <tr>\n",
       "      <th>7</th>\n",
       "      <td>1</td>\n",
       "      <td>At a doctor's visit, I hit my head against a b...</td>\n",
       "      <td>Today morning, I had an appointment with the d...</td>\n",
       "      <td>1</td>\n",
       "      <td>146</td>\n",
       "      <td>273</td>\n",
       "      <td>doctor visit hit head box wall contain hazardo...</td>\n",
       "      <td>today morning appointment doctor see nurse sho...</td>\n",
       "    </tr>\n",
       "    <tr>\n",
       "      <th>8</th>\n",
       "      <td>1</td>\n",
       "      <td>Been on antibiotics 4 5wks top high tooth dent...</td>\n",
       "      <td>I am unable to get tooth extraction, my dentis...</td>\n",
       "      <td>1</td>\n",
       "      <td>148</td>\n",
       "      <td>183</td>\n",
       "      <td>antibiotics 4 5wk top high tooth dentist cld g...</td>\n",
       "      <td>unable get tooth extraction dentist unable giv...</td>\n",
       "    </tr>\n",
       "    <tr>\n",
       "      <th>9</th>\n",
       "      <td>1</td>\n",
       "      <td>Been on antibiotics 4 5wks top high tooth dent...</td>\n",
       "      <td>Why do I have black teeth? Should I take antib...</td>\n",
       "      <td>0</td>\n",
       "      <td>148</td>\n",
       "      <td>75</td>\n",
       "      <td>antibiotics 4 5wk top high tooth dentist cld g...</td>\n",
       "      <td>black tooth take antibiotic infection</td>\n",
       "    </tr>\n",
       "  </tbody>\n",
       "</table>\n",
       "</div>"
      ],
      "text/plain": [
       "   dr_id                                         question_1  \\\n",
       "0      1  After how many hour from drinking an antibioti...   \n",
       "1      1  After how many hour from drinking an antibioti...   \n",
       "2      1          Am I over weight (192.9) for my age (39)?   \n",
       "3      1          Am I over weight (192.9) for my age (39)?   \n",
       "4      1  Aspirin allergy - is it worth getting a bracelet?   \n",
       "5      1  Aspirin allergy - is it worth getting a bracelet?   \n",
       "6      1  At a doctor's visit, I hit my head against a b...   \n",
       "7      1  At a doctor's visit, I hit my head against a b...   \n",
       "8      1  Been on antibiotics 4 5wks top high tooth dent...   \n",
       "9      1  Been on antibiotics 4 5wks top high tooth dent...   \n",
       "\n",
       "                                          question_2  label  \\\n",
       "0  I have a party tonight and I took my last dose...      1   \n",
       "1  I vomited this morning and I am not sure if it...      0   \n",
       "2  I am a 39 y/o male currently weighing about 19...      1   \n",
       "3  What diet is good for losing weight? Keto or v...      0   \n",
       "4  How much Aspirin can I take for my headache wi...      0   \n",
       "5  My friend told me about this bracelet for Aspi...      1   \n",
       "6  Is it okay if I use the same syringe for my in...      0   \n",
       "7  Today morning, I had an appointment with the d...      1   \n",
       "8  I am unable to get tooth extraction, my dentis...      1   \n",
       "9  Why do I have black teeth? Should I take antib...      0   \n",
       "\n",
       "   question_1_length  question_2_length  \\\n",
       "0                 68                101   \n",
       "1                 68                118   \n",
       "2                 41                 82   \n",
       "3                 41                 51   \n",
       "4                 49                 77   \n",
       "5                 49                 97   \n",
       "6                146                 89   \n",
       "7                146                273   \n",
       "8                148                183   \n",
       "9                148                 75   \n",
       "\n",
       "                                processed_question_1  \\\n",
       "0        many hour drinking antibiotic drink alcohol   \n",
       "1        many hour drinking antibiotic drink alcohol   \n",
       "2                                      weight age 39   \n",
       "3                                      weight age 39   \n",
       "4                 aspirin allergy worth get bracelet   \n",
       "5                 aspirin allergy worth get bracelet   \n",
       "6  doctor visit hit head box wall contain hazardo...   \n",
       "7  doctor visit hit head box wall contain hazardo...   \n",
       "8  antibiotics 4 5wk top high tooth dentist cld g...   \n",
       "9  antibiotics 4 5wk top high tooth dentist cld g...   \n",
       "\n",
       "                                processed_question_2  \n",
       "0  party tonight take last dose azithromycin morn...  \n",
       "1  vomit morning sure side effect antibiotic alco...  \n",
       "2    39 male currently weigh 193 lb think overweight  \n",
       "3                   diet good lose weight keto vegan  \n",
       "4  much aspirin take headache without cause side ...  \n",
       "5  friend tell bracelet aspirin allergy work way say  \n",
       "6  okay use syringe insulin shot need take thrice...  \n",
       "7  today morning appointment doctor see nurse sho...  \n",
       "8  unable get tooth extraction dentist unable giv...  \n",
       "9              black tooth take antibiotic infection  "
      ]
     },
     "execution_count": 225,
     "metadata": {},
     "output_type": "execute_result"
    }
   ],
   "source": [
    "train_df[:10]"
   ]
  },
  {
   "cell_type": "code",
   "execution_count": 242,
   "metadata": {},
   "outputs": [
    {
     "data": {
      "text/plain": [
       "array([ 5, 14, 24, 23, 28], dtype=int64)"
      ]
     },
     "execution_count": 242,
     "metadata": {},
     "output_type": "execute_result"
    }
   ],
   "source": [
    "top_n_idx[0,1:]"
   ]
  },
  {
   "cell_type": "code",
   "execution_count": 244,
   "metadata": {},
   "outputs": [
    {
     "name": "stdout",
     "output_type": "stream",
     "text": [
      "Вопрос:\n"
     ]
    },
    {
     "data": {
      "text/plain": [
       "'I think I have ED. Would this worsen as I grow old?'"
      ]
     },
     "metadata": {},
     "output_type": "display_data"
    },
    {
     "name": "stdout",
     "output_type": "stream",
     "text": [
      "Предсказанные похожие вопросы:\n"
     ]
    },
    {
     "data": {
      "text/plain": [
       "['I think I have ED. Can you help me?',\n",
       " 'Does age increase the severity of eds symptoms/problems?',\n",
       " 'I am 27 and have been on Cialis for ED for about 2 months now. But I notice that the symptoms are worsening and I cannot achieve and maintain an erection. Is it normal for this to happen while on medication?',\n",
       " 'What other options do I have for ED apart from Cialis?',\n",
       " 'I have ADHD since childhood and I have been on medications for it. Will it be forever? Will it affect my future and my career?']"
      ]
     },
     "metadata": {},
     "output_type": "display_data"
    },
    {
     "name": "stdout",
     "output_type": "stream",
     "text": [
      "Истинный похожий вопрос:\n"
     ]
    },
    {
     "data": {
      "text/plain": [
       "['Does age increase the severity of eds symptoms/problems?']"
      ]
     },
     "metadata": {},
     "output_type": "display_data"
    },
    {
     "name": "stdout",
     "output_type": "stream",
     "text": [
      "------------------------------------------\n",
      "Вопрос:\n"
     ]
    },
    {
     "data": {
      "text/plain": [
       "'My thyroid tests results are 91 for thyroid peroxidase antibodies and <1 for thyroglobulin antibodies and TSH 4.44 and T3(liothyronine) and total is 72 and I have no symptoms. '"
      ]
     },
     "metadata": {},
     "output_type": "display_data"
    },
    {
     "name": "stdout",
     "output_type": "stream",
     "text": [
      "Предсказанные похожие вопросы:\n"
     ]
    },
    {
     "data": {
      "text/plain": [
       "['What does it mean to have 91 for THYROID PEROXIDASE ANTIBODIES, <1 for THYROGLOBULIN ANTIBODIES, TSH 4.44, and T3, (liothyronine) TOTAL 72; no symptoms?',\n",
       " \"What would cause T3 (liothyronine) levels to be abnormal,  but tsh/t4 are normal? I'm not pregnant.\",\n",
       " 'Does a thyroid level in the TSH 4.1 to 5.2 range indicate hypothyroidism? Is very dry skin and increase in acne also a symptom?',\n",
       " 'I have dry skin and acne, my TSH value in thyroid panel is between 4.1 to 5.2, I think I have hypothyroidism. What are my treatment options? ',\n",
       " 'I have a very dry skin and increase in acne. Is it relate to hypothyroidism? My TSH value is between 4.1 to 5.2. ']"
      ]
     },
     "metadata": {},
     "output_type": "display_data"
    },
    {
     "name": "stdout",
     "output_type": "stream",
     "text": [
      "Истинный похожий вопрос:\n"
     ]
    },
    {
     "data": {
      "text/plain": [
       "['What does it mean to have 91 for THYROID PEROXIDASE ANTIBODIES, <1 for THYROGLOBULIN ANTIBODIES, TSH 4.44, and T3, (liothyronine) TOTAL 72; no symptoms?']"
      ]
     },
     "metadata": {},
     "output_type": "display_data"
    },
    {
     "name": "stdout",
     "output_type": "stream",
     "text": [
      "------------------------------------------\n",
      "Вопрос:\n"
     ]
    },
    {
     "data": {
      "text/plain": [
       "'Can somebody give me advice I have knee pain(locking) for 5 months now?'"
      ]
     },
     "metadata": {},
     "output_type": "display_data"
    },
    {
     "name": "stdout",
     "output_type": "stream",
     "text": [
      "Предсказанные похожие вопросы:\n"
     ]
    },
    {
     "data": {
      "text/plain": [
       "['I have sustained injury to the knees. Is there anything I can do to help with the pain?',\n",
       " 'What can cause knee pain for 5 months?',\n",
       " 'I have been diagnosed with arthritis in the knees. What can I do to get some relief?',\n",
       " 'I have a wrenched ligament in the knee, how long would it take to heal up? ',\n",
       " 'I fell down 2 months back and my knee is swollen even now. Is this arthritis?']"
      ]
     },
     "metadata": {},
     "output_type": "display_data"
    },
    {
     "name": "stdout",
     "output_type": "stream",
     "text": [
      "Истинный похожий вопрос:\n"
     ]
    },
    {
     "data": {
      "text/plain": [
       "['What can cause knee pain for 5 months?']"
      ]
     },
     "metadata": {},
     "output_type": "display_data"
    },
    {
     "name": "stdout",
     "output_type": "stream",
     "text": [
      "------------------------------------------\n",
      "Вопрос:\n"
     ]
    },
    {
     "data": {
      "text/plain": [
       "\"I've had a lump by my bellyboutton and it moves around its been a week now could I have a hernia? I've been constapated too? Or pregnancy had neg test\""
      ]
     },
     "metadata": {},
     "output_type": "display_data"
    },
    {
     "name": "stdout",
     "output_type": "stream",
     "text": [
      "Предсказанные похожие вопросы:\n"
     ]
    },
    {
     "data": {
      "text/plain": [
       "['My symptoms are.....a movable bellybutton lump since a week, constipation. I was wondering if it is a hernia or can it be a pregnancy? Test was negative. ',\n",
       " \"I'm a female age 29. Have pain by my belly button on and off. More recently have problem having a bum but only when pain is present. Possible hernia?\",\n",
       " 'How is a small lump in the groin from hernia treated?',\n",
       " \"I'm currently 20 weeks pregnant and have been noticing lower abdominal pain and light bleeidng. Should I be worried? \",\n",
       " 'I am a 29 year old female. The area around my belly button has been hurting on and off. But, recently, I have also noticed a swelling that shows up along with the pain. Do you think it could be a hernia?']"
      ]
     },
     "metadata": {},
     "output_type": "display_data"
    },
    {
     "name": "stdout",
     "output_type": "stream",
     "text": [
      "Истинный похожий вопрос:\n"
     ]
    },
    {
     "data": {
      "text/plain": [
       "['My symptoms are.....a movable bellybutton lump since a week, constipation. I was wondering if it is a hernia or can it be a pregnancy? Test was negative. ']"
      ]
     },
     "metadata": {},
     "output_type": "display_data"
    },
    {
     "name": "stdout",
     "output_type": "stream",
     "text": [
      "------------------------------------------\n"
     ]
    }
   ],
   "source": [
    "idx2emd, idx2sen, sen2idx, gt = create_index(train_df, base_model,\n",
    "                                             text_cols=['question_1', 'question_2'],\n",
    "                                             dump_pkl=True)\n",
    "\n",
    "# Получение предсказаний (матрица top_n_idx)\n",
    "_, _, _, top_n_idx = evaluate_model(idx2emd, gt, return_top_n_idx=True)  # Нам нужна только матрица top_n_idx\n",
    "\n",
    "# Анализ предложенных вопросов\n",
    "for i in range(len(top_n_idx[:5])):\n",
    "    predicted_indices = top_n_idx[i,1:]\n",
    "    true_indices = gt.get(i, [])\n",
    "    if set(predicted_indices).intersection(set(true_indices)):\n",
    "        print(\"Вопрос:\")\n",
    "        display(idx2sen[i])\n",
    "        print(\"Предсказанные похожие вопросы:\")\n",
    "        display([idx2sen[j] for j in predicted_indices])\n",
    "        print(\"Истинный похожий вопрос:\")\n",
    "        display([idx2sen[j] for j in true_indices])\n",
    "        print(\"------------------------------------------\") "
   ]
  },
  {
   "cell_type": "code",
   "execution_count": 148,
   "metadata": {},
   "outputs": [
    {
     "data": {
      "text/html": [
       "<div>\n",
       "<style scoped>\n",
       "    .dataframe tbody tr th:only-of-type {\n",
       "        vertical-align: middle;\n",
       "    }\n",
       "\n",
       "    .dataframe tbody tr th {\n",
       "        vertical-align: top;\n",
       "    }\n",
       "\n",
       "    .dataframe thead th {\n",
       "        text-align: right;\n",
       "    }\n",
       "</style>\n",
       "<table border=\"1\" class=\"dataframe\">\n",
       "  <thead>\n",
       "    <tr style=\"text-align: right;\">\n",
       "      <th></th>\n",
       "      <th>dr_id</th>\n",
       "      <th>question_1</th>\n",
       "      <th>question_2</th>\n",
       "      <th>label</th>\n",
       "      <th>question_1_length</th>\n",
       "      <th>question_2_length</th>\n",
       "      <th>processed_question_1</th>\n",
       "      <th>processed_question_2</th>\n",
       "    </tr>\n",
       "  </thead>\n",
       "  <tbody>\n",
       "    <tr>\n",
       "      <th>0</th>\n",
       "      <td>1</td>\n",
       "      <td>After how many hour from drinking an antibioti...</td>\n",
       "      <td>I have a party tonight and I took my last dose...</td>\n",
       "      <td>1</td>\n",
       "      <td>68</td>\n",
       "      <td>101</td>\n",
       "      <td>many hour drinking antibiotic drink alcohol</td>\n",
       "      <td>party tonight take last dose azithromycin morn...</td>\n",
       "    </tr>\n",
       "    <tr>\n",
       "      <th>1</th>\n",
       "      <td>1</td>\n",
       "      <td>After how many hour from drinking an antibioti...</td>\n",
       "      <td>I vomited this morning and I am not sure if it...</td>\n",
       "      <td>0</td>\n",
       "      <td>68</td>\n",
       "      <td>118</td>\n",
       "      <td>many hour drinking antibiotic drink alcohol</td>\n",
       "      <td>vomit morning sure side effect antibiotic alco...</td>\n",
       "    </tr>\n",
       "    <tr>\n",
       "      <th>2</th>\n",
       "      <td>1</td>\n",
       "      <td>Am I over weight (192.9) for my age (39)?</td>\n",
       "      <td>I am a 39 y/o male currently weighing about 19...</td>\n",
       "      <td>1</td>\n",
       "      <td>41</td>\n",
       "      <td>82</td>\n",
       "      <td>weight age 39</td>\n",
       "      <td>39 male currently weigh 193 lb think overweight</td>\n",
       "    </tr>\n",
       "    <tr>\n",
       "      <th>3</th>\n",
       "      <td>1</td>\n",
       "      <td>Am I over weight (192.9) for my age (39)?</td>\n",
       "      <td>What diet is good for losing weight? Keto or v...</td>\n",
       "      <td>0</td>\n",
       "      <td>41</td>\n",
       "      <td>51</td>\n",
       "      <td>weight age 39</td>\n",
       "      <td>diet good lose weight keto vegan</td>\n",
       "    </tr>\n",
       "    <tr>\n",
       "      <th>4</th>\n",
       "      <td>1</td>\n",
       "      <td>Aspirin allergy - is it worth getting a bracelet?</td>\n",
       "      <td>How much Aspirin can I take for my headache wi...</td>\n",
       "      <td>0</td>\n",
       "      <td>49</td>\n",
       "      <td>77</td>\n",
       "      <td>aspirin allergy worth get bracelet</td>\n",
       "      <td>much aspirin take headache without cause side ...</td>\n",
       "    </tr>\n",
       "    <tr>\n",
       "      <th>...</th>\n",
       "      <td>...</td>\n",
       "      <td>...</td>\n",
       "      <td>...</td>\n",
       "      <td>...</td>\n",
       "      <td>...</td>\n",
       "      <td>...</td>\n",
       "      <td>...</td>\n",
       "      <td>...</td>\n",
       "    </tr>\n",
       "    <tr>\n",
       "      <th>3043</th>\n",
       "      <td>11</td>\n",
       "      <td>15 million  sperm can be a father?</td>\n",
       "      <td>My sperm count is 15 millions and is there a c...</td>\n",
       "      <td>1</td>\n",
       "      <td>34</td>\n",
       "      <td>100</td>\n",
       "      <td>15 million sperm father</td>\n",
       "      <td>sperm count 15 million chance get one pregnant...</td>\n",
       "    </tr>\n",
       "    <tr>\n",
       "      <th>3044</th>\n",
       "      <td>11</td>\n",
       "      <td>26 yo m with history of progressive venous ins...</td>\n",
       "      <td>Hello doctor, can you please tell me some of t...</td>\n",
       "      <td>0</td>\n",
       "      <td>146</td>\n",
       "      <td>96</td>\n",
       "      <td>26 yo history progressive venous insufficiency...</td>\n",
       "      <td>hello doctor please tell common symptom see ve...</td>\n",
       "    </tr>\n",
       "    <tr>\n",
       "      <th>3045</th>\n",
       "      <td>11</td>\n",
       "      <td>26 yo m with history of progressive venous ins...</td>\n",
       "      <td>Hello doctor, I am 26 year old male wth progre...</td>\n",
       "      <td>1</td>\n",
       "      <td>146</td>\n",
       "      <td>198</td>\n",
       "      <td>26 yo history progressive venous insufficiency...</td>\n",
       "      <td>hello doctor 26 year old male wth progressive ...</td>\n",
       "    </tr>\n",
       "    <tr>\n",
       "      <th>3046</th>\n",
       "      <td>11</td>\n",
       "      <td>32 weeks pregnant. Headache strange leg weakne...</td>\n",
       "      <td>I am 32 weeks pregnant and had severe headache...</td>\n",
       "      <td>0</td>\n",
       "      <td>71</td>\n",
       "      <td>180</td>\n",
       "      <td>32 week pregnant headache strange leg weakness...</td>\n",
       "      <td>32 week pregnant severe headache blurred visio...</td>\n",
       "    </tr>\n",
       "    <tr>\n",
       "      <th>3047</th>\n",
       "      <td>11</td>\n",
       "      <td>32 weeks pregnant. Headache strange leg weakne...</td>\n",
       "      <td>I have headache, leg weakness and 32 weeks pre...</td>\n",
       "      <td>1</td>\n",
       "      <td>71</td>\n",
       "      <td>82</td>\n",
       "      <td>32 week pregnant headache strange leg weakness...</td>\n",
       "      <td>headache leg weakness 32 week pregnant go see ...</td>\n",
       "    </tr>\n",
       "  </tbody>\n",
       "</table>\n",
       "<p>3048 rows × 8 columns</p>\n",
       "</div>"
      ],
      "text/plain": [
       "      dr_id                                         question_1  \\\n",
       "0         1  After how many hour from drinking an antibioti...   \n",
       "1         1  After how many hour from drinking an antibioti...   \n",
       "2         1          Am I over weight (192.9) for my age (39)?   \n",
       "3         1          Am I over weight (192.9) for my age (39)?   \n",
       "4         1  Aspirin allergy - is it worth getting a bracelet?   \n",
       "...     ...                                                ...   \n",
       "3043     11                 15 million  sperm can be a father?   \n",
       "3044     11  26 yo m with history of progressive venous ins...   \n",
       "3045     11  26 yo m with history of progressive venous ins...   \n",
       "3046     11  32 weeks pregnant. Headache strange leg weakne...   \n",
       "3047     11  32 weeks pregnant. Headache strange leg weakne...   \n",
       "\n",
       "                                             question_2  label  \\\n",
       "0     I have a party tonight and I took my last dose...      1   \n",
       "1     I vomited this morning and I am not sure if it...      0   \n",
       "2     I am a 39 y/o male currently weighing about 19...      1   \n",
       "3     What diet is good for losing weight? Keto or v...      0   \n",
       "4     How much Aspirin can I take for my headache wi...      0   \n",
       "...                                                 ...    ...   \n",
       "3043  My sperm count is 15 millions and is there a c...      1   \n",
       "3044  Hello doctor, can you please tell me some of t...      0   \n",
       "3045  Hello doctor, I am 26 year old male wth progre...      1   \n",
       "3046  I am 32 weeks pregnant and had severe headache...      0   \n",
       "3047  I have headache, leg weakness and 32 weeks pre...      1   \n",
       "\n",
       "      question_1_length  question_2_length  \\\n",
       "0                    68                101   \n",
       "1                    68                118   \n",
       "2                    41                 82   \n",
       "3                    41                 51   \n",
       "4                    49                 77   \n",
       "...                 ...                ...   \n",
       "3043                 34                100   \n",
       "3044                146                 96   \n",
       "3045                146                198   \n",
       "3046                 71                180   \n",
       "3047                 71                 82   \n",
       "\n",
       "                                   processed_question_1  \\\n",
       "0           many hour drinking antibiotic drink alcohol   \n",
       "1           many hour drinking antibiotic drink alcohol   \n",
       "2                                         weight age 39   \n",
       "3                                         weight age 39   \n",
       "4                    aspirin allergy worth get bracelet   \n",
       "...                                                 ...   \n",
       "3043                            15 million sperm father   \n",
       "3044  26 yo history progressive venous insufficiency...   \n",
       "3045  26 yo history progressive venous insufficiency...   \n",
       "3046  32 week pregnant headache strange leg weakness...   \n",
       "3047  32 week pregnant headache strange leg weakness...   \n",
       "\n",
       "                                   processed_question_2  \n",
       "0     party tonight take last dose azithromycin morn...  \n",
       "1     vomit morning sure side effect antibiotic alco...  \n",
       "2       39 male currently weigh 193 lb think overweight  \n",
       "3                      diet good lose weight keto vegan  \n",
       "4     much aspirin take headache without cause side ...  \n",
       "...                                                 ...  \n",
       "3043  sperm count 15 million chance get one pregnant...  \n",
       "3044  hello doctor please tell common symptom see ve...  \n",
       "3045  hello doctor 26 year old male wth progressive ...  \n",
       "3046  32 week pregnant severe headache blurred visio...  \n",
       "3047  headache leg weakness 32 week pregnant go see ...  \n",
       "\n",
       "[3048 rows x 8 columns]"
      ]
     },
     "execution_count": 148,
     "metadata": {},
     "output_type": "execute_result"
    }
   ],
   "source": [
    "train_df"
   ]
  },
  {
   "cell_type": "code",
   "execution_count": 145,
   "metadata": {},
   "outputs": [
    {
     "data": {
      "text/html": [
       "<div>\n",
       "<style scoped>\n",
       "    .dataframe tbody tr th:only-of-type {\n",
       "        vertical-align: middle;\n",
       "    }\n",
       "\n",
       "    .dataframe tbody tr th {\n",
       "        vertical-align: top;\n",
       "    }\n",
       "\n",
       "    .dataframe thead th {\n",
       "        text-align: right;\n",
       "    }\n",
       "</style>\n",
       "<table border=\"1\" class=\"dataframe\">\n",
       "  <thead>\n",
       "    <tr style=\"text-align: right;\">\n",
       "      <th></th>\n",
       "      <th>question_1</th>\n",
       "      <th>question_2</th>\n",
       "      <th>label</th>\n",
       "    </tr>\n",
       "  </thead>\n",
       "  <tbody>\n",
       "    <tr>\n",
       "      <th>0</th>\n",
       "      <td>After how many hour from drinking an antibioti...</td>\n",
       "      <td>I have a party tonight and I took my last dose...</td>\n",
       "      <td>1</td>\n",
       "    </tr>\n",
       "    <tr>\n",
       "      <th>1</th>\n",
       "      <td>After how many hour from drinking an antibioti...</td>\n",
       "      <td>I vomited this morning and I am not sure if it...</td>\n",
       "      <td>0</td>\n",
       "    </tr>\n",
       "  </tbody>\n",
       "</table>\n",
       "</div>"
      ],
      "text/plain": [
       "                                          question_1  \\\n",
       "0  After how many hour from drinking an antibioti...   \n",
       "1  After how many hour from drinking an antibioti...   \n",
       "\n",
       "                                          question_2  label  \n",
       "0  I have a party tonight and I took my last dose...      1  \n",
       "1  I vomited this morning and I am not sure if it...      0  "
      ]
     },
     "execution_count": 145,
     "metadata": {},
     "output_type": "execute_result"
    }
   ],
   "source": [
    "train_df.iloc[:2,1:4]"
   ]
  },
  {
   "cell_type": "code",
   "execution_count": 143,
   "metadata": {},
   "outputs": [
    {
     "data": {
      "text/plain": [
       "'After how many hour from drinking an antibiotic can I drink alcohol?'"
      ]
     },
     "execution_count": 143,
     "metadata": {},
     "output_type": "execute_result"
    }
   ],
   "source": [
    "train_df.iloc[0,1]"
   ]
  },
  {
   "cell_type": "code",
   "execution_count": 144,
   "metadata": {},
   "outputs": [
    {
     "data": {
      "text/plain": [
       "'I have a party tonight and I took my last dose of Azithromycin this morning. Can I have a few drinks?'"
      ]
     },
     "execution_count": 144,
     "metadata": {},
     "output_type": "execute_result"
    }
   ],
   "source": [
    "train_df.iloc[0,2]"
   ]
  },
  {
   "cell_type": "code",
   "execution_count": 147,
   "metadata": {},
   "outputs": [
    {
     "data": {
      "text/plain": [
       "'I vomited this morning and I am not sure if it is the side effect of my antibiotic or the alcohol I took last night...'"
      ]
     },
     "execution_count": 147,
     "metadata": {},
     "output_type": "execute_result"
    }
   ],
   "source": [
    "train_df.iloc[1,2]"
   ]
  },
  {
   "cell_type": "code",
   "execution_count": 128,
   "metadata": {},
   "outputs": [
    {
     "data": {
      "text/plain": [
       "1524"
      ]
     },
     "execution_count": 128,
     "metadata": {},
     "output_type": "execute_result"
    }
   ],
   "source": [
    "train_df['question_1'].unique().shape[0]"
   ]
  },
  {
   "cell_type": "code",
   "execution_count": 131,
   "metadata": {},
   "outputs": [
    {
     "data": {
      "text/plain": [
       "0.5"
      ]
     },
     "execution_count": 131,
     "metadata": {},
     "output_type": "execute_result"
    }
   ],
   "source": [
    "train_df.groupby('question_1')['label'].agg('mean').mean()"
   ]
  },
  {
   "cell_type": "code",
   "execution_count": 133,
   "metadata": {},
   "outputs": [
    {
     "data": {
      "text/plain": [
       "2.0"
      ]
     },
     "execution_count": 133,
     "metadata": {},
     "output_type": "execute_result"
    }
   ],
   "source": [
    "train_df.groupby('question_1')['label'].agg('count').mean()"
   ]
  },
  {
   "cell_type": "code",
   "execution_count": null,
   "metadata": {},
   "outputs": [],
   "source": [
    "def get_predictions(df, question_embeddings, model, n=5):\n",
    "    \"\"\"\n",
    "    Получает предсказания модели для DataFrame с вопросами.\n",
    "\n",
    "    Args:\n",
    "        df (pd.DataFrame): DataFrame с вопросами.\n",
    "        question_embeddings (numpy.ndarray): Матрица векторов всех вопросов.\n",
    "        model (SentenceTransformer): Объект SentenceTransformer.\n",
    "        n (int, optional): Количество возвращаемых похожих вопросов. Defaults to 5.\n",
    "\n",
    "    Returns:\n",
    "        list: Список списков с индексами предсказанных похожих вопросов.\n",
    "    \"\"\"\n",
    "    predicted = []\n",
    "    for question in tqdm(df['question_2']):\n",
    "        # Векторизация вопроса\n",
    "        question_embedding = model.encode(question)\n",
    "\n",
    "        # Поиск похожих вопросов\n",
    "        predicted.append(get_top_similar_questions_indices(question_embedding, question_embeddings, n))\n",
    "\n",
    "    return predicted\n",
    "\n",
    "# Получение предсказаний\n",
    "predictions = get_predictions(train_df, question2_embeddings, model)"
   ]
  },
  {
   "cell_type": "markdown",
   "metadata": {},
   "source": [
    "Версия от reca ai"
   ]
  },
  {
   "cell_type": "code",
   "execution_count": 52,
   "metadata": {},
   "outputs": [],
   "source": [
    "df = train_df.copy()"
   ]
  },
  {
   "cell_type": "code",
   "execution_count": 54,
   "metadata": {},
   "outputs": [
    {
     "name": "stdout",
     "output_type": "stream",
     "text": [
      "Accuracy: 0.9635826771653543\n"
     ]
    }
   ],
   "source": [
    "# Инициализация модели Sentence Transformer\n",
    "model = SentenceTransformer(\"all-MiniLM-L6-v2\")\n",
    "\n",
    "# Предобработка данных и вычисление сходства вопросов\n",
    "def calculate_similarity(df, model):\n",
    "    results = []\n",
    "    for _, rec in df.iterrows():\n",
    "        emb1 = model.encode([rec.question_1])\n",
    "        emb2 = model.encode([rec.question_2])\n",
    "        cos_sim = cosine_similarity(emb1, emb2)\n",
    "        results.append({\"id\": rec.dr_id, \"label\": rec.label, \"dist\": cos_sim[0][0]})\n",
    "    return results\n",
    "\n",
    "results = calculate_similarity(df, model)\n",
    "\n",
    "# Сохранение результатов в файл\n",
    "with open(\"results.pkl\", \"wb\") as f:\n",
    "    dump(results, f)\n",
    "\n",
    "# Создание индексов для вопросов и сохранение их в файлы\n",
    "corpus = list(set(df.question_1.tolist() + df.question_2.tolist()))\n",
    "sen2idx = {text: i for i, text in enumerate(corpus)}\n",
    "idx2sen = {v: k for k, v in sen2idx.items()}\n",
    "idx2emb = {i: model.encode(text) for i, text in idx2sen.items()}\n",
    "\n",
    "with open(\"idx2emb.pkl\", \"wb\") as fid:    dump(idx2emb, fid)\n",
    "with open(\"idx2sen.pkl\", \"wb\") as fid:    dump(idx2sen, fid)\n",
    "with open(\"sen2idx.pkl\", \"wb\") as fid:    dump(sen2idx, fid)\n",
    "\n",
    "# Оценка точности модели\n",
    "def evaluate_model(results, df):\n",
    "    gt = defaultdict(list)\n",
    "    for _, row in df.iterrows():\n",
    "        idx1 = sen2idx[row.question_1]\n",
    "        idx2 = sen2idx[row.question_2]\n",
    "\n",
    "        if row.label:\n",
    "            gt[idx1].append(idx2)\n",
    "            gt[idx2].append(idx1)\n",
    "\n",
    "    emb_list = []\n",
    "    for i in range(len(idx2emb)):\n",
    "        emb_list.append(idx2emb[i])\n",
    "    arr = np.array(emb_list)\n",
    "    dist = pdist(arr, metric=\"cosine\")\n",
    "    dist_matrix = squareform(dist)\n",
    "    top5_indx = np.argsort(dist_matrix)[:, :6]\n",
    "\n",
    "    acc = []\n",
    "    for j in range(top5_indx.shape[0]):\n",
    "        rec_idx = top5_indx[j, :]\n",
    "        gt_idx = gt.get(j, [])\n",
    "        if len(gt_idx) > 0:\n",
    "            intersection = set(rec_idx).intersection(set(gt_idx))\n",
    "            acc.append(len(intersection) > 0)\n",
    "\n",
    "    return np.mean(acc)\n",
    "\n",
    "accuracy = evaluate_model(results, df)\n",
    "print(f\"Accuracy: {accuracy}\")"
   ]
  },
  {
   "cell_type": "code",
   "execution_count": 58,
   "metadata": {},
   "outputs": [],
   "source": [
    "import joblib"
   ]
  },
  {
   "cell_type": "code",
   "execution_count": 61,
   "metadata": {},
   "outputs": [
    {
     "data": {
      "text/plain": [
       "['model.pkl']"
      ]
     },
     "execution_count": 61,
     "metadata": {},
     "output_type": "execute_result"
    }
   ],
   "source": [
    "joblib.dump(model,'model.pkl')"
   ]
  },
  {
   "cell_type": "code",
   "execution_count": 62,
   "metadata": {},
   "outputs": [
    {
     "data": {
      "text/plain": [
       "SentenceTransformer(\n",
       "  (0): Transformer({'max_seq_length': 256, 'do_lower_case': False}) with Transformer model: BertModel \n",
       "  (1): Pooling({'word_embedding_dimension': 384, 'pooling_mode_cls_token': False, 'pooling_mode_mean_tokens': True, 'pooling_mode_max_tokens': False, 'pooling_mode_mean_sqrt_len_tokens': False, 'pooling_mode_weightedmean_tokens': False, 'pooling_mode_lasttoken': False, 'include_prompt': True})\n",
       "  (2): Normalize()\n",
       ")"
      ]
     },
     "execution_count": 62,
     "metadata": {},
     "output_type": "execute_result"
    }
   ],
   "source": [
    "joblib.load('model.pkl')"
   ]
  },
  {
   "cell_type": "code",
   "execution_count": 60,
   "metadata": {},
   "outputs": [
    {
     "name": "stdout",
     "output_type": "stream",
     "text": [
      "Help on function dump in module joblib.numpy_pickle:\n",
      "\n",
      "dump(value, filename, compress=0, protocol=None, cache_size=None)\n",
      "    Persist an arbitrary Python object into one file.\n",
      "    \n",
      "    Read more in the :ref:`User Guide <persistence>`.\n",
      "    \n",
      "    Parameters\n",
      "    ----------\n",
      "    value: any Python object\n",
      "        The object to store to disk.\n",
      "    filename: str, pathlib.Path, or file object.\n",
      "        The file object or path of the file in which it is to be stored.\n",
      "        The compression method corresponding to one of the supported filename\n",
      "        extensions ('.z', '.gz', '.bz2', '.xz' or '.lzma') will be used\n",
      "        automatically.\n",
      "    compress: int from 0 to 9 or bool or 2-tuple, optional\n",
      "        Optional compression level for the data. 0 or False is no compression.\n",
      "        Higher value means more compression, but also slower read and\n",
      "        write times. Using a value of 3 is often a good compromise.\n",
      "        See the notes for more details.\n",
      "        If compress is True, the compression level used is 3.\n",
      "        If compress is a 2-tuple, the first element must correspond to a string\n",
      "        between supported compressors (e.g 'zlib', 'gzip', 'bz2', 'lzma'\n",
      "        'xz'), the second element must be an integer from 0 to 9, corresponding\n",
      "        to the compression level.\n",
      "    protocol: int, optional\n",
      "        Pickle protocol, see pickle.dump documentation for more details.\n",
      "    cache_size: positive int, optional\n",
      "        This option is deprecated in 0.10 and has no effect.\n",
      "    \n",
      "    Returns\n",
      "    -------\n",
      "    filenames: list of strings\n",
      "        The list of file names in which the data is stored. If\n",
      "        compress is false, each array is stored in a different file.\n",
      "    \n",
      "    See Also\n",
      "    --------\n",
      "    joblib.load : corresponding loader\n",
      "    \n",
      "    Notes\n",
      "    -----\n",
      "    Memmapping on load cannot be used for compressed files. Thus\n",
      "    using compression can significantly slow down loading. In\n",
      "    addition, compressed files take up extra memory during\n",
      "    dump and load.\n",
      "\n"
     ]
    }
   ],
   "source": [
    "help(joblib.dump)"
   ]
  },
  {
   "cell_type": "code",
   "execution_count": 57,
   "metadata": {},
   "outputs": [
    {
     "ename": "TypeError",
     "evalue": "file must have a 'write' attribute",
     "output_type": "error",
     "traceback": [
      "\u001b[1;31m---------------------------------------------------------------------------\u001b[0m",
      "\u001b[1;31mTypeError\u001b[0m                                 Traceback (most recent call last)",
      "Cell \u001b[1;32mIn[57], line 1\u001b[0m\n\u001b[1;32m----> 1\u001b[0m \u001b[43mdump\u001b[49m\u001b[43m(\u001b[49m\u001b[43mmodel\u001b[49m\u001b[43m,\u001b[49m\u001b[38;5;124;43m'\u001b[39;49m\u001b[38;5;124;43mmodel.pkl\u001b[39;49m\u001b[38;5;124;43m'\u001b[39;49m\u001b[43m)\u001b[49m\n",
      "\u001b[1;31mTypeError\u001b[0m: file must have a 'write' attribute"
     ]
    }
   ],
   "source": [
    "dump(model,'model.pkl')"
   ]
  }
 ],
 "metadata": {
  "kernelspec": {
   "display_name": "ds_practicum_env",
   "language": "python",
   "name": "python3"
  },
  "language_info": {
   "codemirror_mode": {
    "name": "ipython",
    "version": 3
   },
   "file_extension": ".py",
   "mimetype": "text/x-python",
   "name": "python",
   "nbconvert_exporter": "python",
   "pygments_lexer": "ipython3",
   "version": "3.9.17"
  }
 },
 "nbformat": 4,
 "nbformat_minor": 2
}
